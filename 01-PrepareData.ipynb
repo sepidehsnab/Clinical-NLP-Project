{
 "cells": [
  {
   "cell_type": "markdown",
   "metadata": {},
   "source": [
    " build a classification model to predict which patients are at risk for 30-day unplanned readmission utilizing free-text hospital discharge summaries."
   ]
  },
  {
   "cell_type": "code",
   "execution_count": 3,
   "metadata": {},
   "outputs": [],
   "source": [
    "import pandas as pd \n",
    "import numpy as np \n",
    "import matplotlib.pyplot as plt\n",
    "df_adm = pd.read_csv('ADMISSIONS.csv.gz')\n",
    "#!pip install scikit-learn"
   ]
  },
  {
   "cell_type": "code",
   "execution_count": 4,
   "metadata": {},
   "outputs": [
    {
     "name": "stdout",
     "output_type": "stream",
     "text": [
      "<class 'pandas.core.frame.DataFrame'>\n",
      "RangeIndex: 58976 entries, 0 to 58975\n",
      "Data columns (total 19 columns):\n",
      " #   Column                Non-Null Count  Dtype \n",
      "---  ------                --------------  ----- \n",
      " 0   ROW_ID                58976 non-null  int64 \n",
      " 1   SUBJECT_ID            58976 non-null  int64 \n",
      " 2   HADM_ID               58976 non-null  int64 \n",
      " 3   ADMITTIME             58976 non-null  object\n",
      " 4   DISCHTIME             58976 non-null  object\n",
      " 5   DEATHTIME             5854 non-null   object\n",
      " 6   ADMISSION_TYPE        58976 non-null  object\n",
      " 7   ADMISSION_LOCATION    58976 non-null  object\n",
      " 8   DISCHARGE_LOCATION    58976 non-null  object\n",
      " 9   INSURANCE             58976 non-null  object\n",
      " 10  LANGUAGE              33644 non-null  object\n",
      " 11  RELIGION              58518 non-null  object\n",
      " 12  MARITAL_STATUS        48848 non-null  object\n",
      " 13  ETHNICITY             58976 non-null  object\n",
      " 14  EDREGTIME             30877 non-null  object\n",
      " 15  EDOUTTIME             30877 non-null  object\n",
      " 16  DIAGNOSIS             58951 non-null  object\n",
      " 17  HOSPITAL_EXPIRE_FLAG  58976 non-null  int64 \n",
      " 18  HAS_CHARTEVENTS_DATA  58976 non-null  int64 \n",
      "dtypes: int64(5), object(14)\n",
      "memory usage: 8.5+ MB\n"
     ]
    }
   ],
   "source": [
    "df_adm.info()\n"
   ]
  },
  {
   "cell_type": "code",
   "execution_count": 5,
   "metadata": {},
   "outputs": [
    {
     "data": {
      "text/html": [
       "<div>\n",
       "<style scoped>\n",
       "    .dataframe tbody tr th:only-of-type {\n",
       "        vertical-align: middle;\n",
       "    }\n",
       "\n",
       "    .dataframe tbody tr th {\n",
       "        vertical-align: top;\n",
       "    }\n",
       "\n",
       "    .dataframe thead th {\n",
       "        text-align: right;\n",
       "    }\n",
       "</style>\n",
       "<table border=\"1\" class=\"dataframe\">\n",
       "  <thead>\n",
       "    <tr style=\"text-align: right;\">\n",
       "      <th></th>\n",
       "      <th>ROW_ID</th>\n",
       "      <th>SUBJECT_ID</th>\n",
       "      <th>HADM_ID</th>\n",
       "      <th>ADMITTIME</th>\n",
       "      <th>DISCHTIME</th>\n",
       "      <th>DEATHTIME</th>\n",
       "      <th>ADMISSION_TYPE</th>\n",
       "      <th>ADMISSION_LOCATION</th>\n",
       "      <th>DISCHARGE_LOCATION</th>\n",
       "      <th>INSURANCE</th>\n",
       "      <th>LANGUAGE</th>\n",
       "      <th>RELIGION</th>\n",
       "      <th>MARITAL_STATUS</th>\n",
       "      <th>ETHNICITY</th>\n",
       "      <th>EDREGTIME</th>\n",
       "      <th>EDOUTTIME</th>\n",
       "      <th>DIAGNOSIS</th>\n",
       "      <th>HOSPITAL_EXPIRE_FLAG</th>\n",
       "      <th>HAS_CHARTEVENTS_DATA</th>\n",
       "    </tr>\n",
       "  </thead>\n",
       "  <tbody>\n",
       "    <tr>\n",
       "      <th>0</th>\n",
       "      <td>21</td>\n",
       "      <td>22</td>\n",
       "      <td>165315</td>\n",
       "      <td>2196-04-09 12:26:00</td>\n",
       "      <td>2196-04-10 15:54:00</td>\n",
       "      <td>NaN</td>\n",
       "      <td>EMERGENCY</td>\n",
       "      <td>EMERGENCY ROOM ADMIT</td>\n",
       "      <td>DISC-TRAN CANCER/CHLDRN H</td>\n",
       "      <td>Private</td>\n",
       "      <td>NaN</td>\n",
       "      <td>UNOBTAINABLE</td>\n",
       "      <td>MARRIED</td>\n",
       "      <td>WHITE</td>\n",
       "      <td>2196-04-09 10:06:00</td>\n",
       "      <td>2196-04-09 13:24:00</td>\n",
       "      <td>BENZODIAZEPINE OVERDOSE</td>\n",
       "      <td>0</td>\n",
       "      <td>1</td>\n",
       "    </tr>\n",
       "    <tr>\n",
       "      <th>1</th>\n",
       "      <td>22</td>\n",
       "      <td>23</td>\n",
       "      <td>152223</td>\n",
       "      <td>2153-09-03 07:15:00</td>\n",
       "      <td>2153-09-08 19:10:00</td>\n",
       "      <td>NaN</td>\n",
       "      <td>ELECTIVE</td>\n",
       "      <td>PHYS REFERRAL/NORMAL DELI</td>\n",
       "      <td>HOME HEALTH CARE</td>\n",
       "      <td>Medicare</td>\n",
       "      <td>NaN</td>\n",
       "      <td>CATHOLIC</td>\n",
       "      <td>MARRIED</td>\n",
       "      <td>WHITE</td>\n",
       "      <td>NaN</td>\n",
       "      <td>NaN</td>\n",
       "      <td>CORONARY ARTERY DISEASE\\CORONARY ARTERY BYPASS...</td>\n",
       "      <td>0</td>\n",
       "      <td>1</td>\n",
       "    </tr>\n",
       "    <tr>\n",
       "      <th>2</th>\n",
       "      <td>23</td>\n",
       "      <td>23</td>\n",
       "      <td>124321</td>\n",
       "      <td>2157-10-18 19:34:00</td>\n",
       "      <td>2157-10-25 14:00:00</td>\n",
       "      <td>NaN</td>\n",
       "      <td>EMERGENCY</td>\n",
       "      <td>TRANSFER FROM HOSP/EXTRAM</td>\n",
       "      <td>HOME HEALTH CARE</td>\n",
       "      <td>Medicare</td>\n",
       "      <td>ENGL</td>\n",
       "      <td>CATHOLIC</td>\n",
       "      <td>MARRIED</td>\n",
       "      <td>WHITE</td>\n",
       "      <td>NaN</td>\n",
       "      <td>NaN</td>\n",
       "      <td>BRAIN MASS</td>\n",
       "      <td>0</td>\n",
       "      <td>1</td>\n",
       "    </tr>\n",
       "    <tr>\n",
       "      <th>3</th>\n",
       "      <td>24</td>\n",
       "      <td>24</td>\n",
       "      <td>161859</td>\n",
       "      <td>2139-06-06 16:14:00</td>\n",
       "      <td>2139-06-09 12:48:00</td>\n",
       "      <td>NaN</td>\n",
       "      <td>EMERGENCY</td>\n",
       "      <td>TRANSFER FROM HOSP/EXTRAM</td>\n",
       "      <td>HOME</td>\n",
       "      <td>Private</td>\n",
       "      <td>NaN</td>\n",
       "      <td>PROTESTANT QUAKER</td>\n",
       "      <td>SINGLE</td>\n",
       "      <td>WHITE</td>\n",
       "      <td>NaN</td>\n",
       "      <td>NaN</td>\n",
       "      <td>INTERIOR MYOCARDIAL INFARCTION</td>\n",
       "      <td>0</td>\n",
       "      <td>1</td>\n",
       "    </tr>\n",
       "    <tr>\n",
       "      <th>4</th>\n",
       "      <td>25</td>\n",
       "      <td>25</td>\n",
       "      <td>129635</td>\n",
       "      <td>2160-11-02 02:06:00</td>\n",
       "      <td>2160-11-05 14:55:00</td>\n",
       "      <td>NaN</td>\n",
       "      <td>EMERGENCY</td>\n",
       "      <td>EMERGENCY ROOM ADMIT</td>\n",
       "      <td>HOME</td>\n",
       "      <td>Private</td>\n",
       "      <td>NaN</td>\n",
       "      <td>UNOBTAINABLE</td>\n",
       "      <td>MARRIED</td>\n",
       "      <td>WHITE</td>\n",
       "      <td>2160-11-02 01:01:00</td>\n",
       "      <td>2160-11-02 04:27:00</td>\n",
       "      <td>ACUTE CORONARY SYNDROME</td>\n",
       "      <td>0</td>\n",
       "      <td>1</td>\n",
       "    </tr>\n",
       "    <tr>\n",
       "      <th>...</th>\n",
       "      <td>...</td>\n",
       "      <td>...</td>\n",
       "      <td>...</td>\n",
       "      <td>...</td>\n",
       "      <td>...</td>\n",
       "      <td>...</td>\n",
       "      <td>...</td>\n",
       "      <td>...</td>\n",
       "      <td>...</td>\n",
       "      <td>...</td>\n",
       "      <td>...</td>\n",
       "      <td>...</td>\n",
       "      <td>...</td>\n",
       "      <td>...</td>\n",
       "      <td>...</td>\n",
       "      <td>...</td>\n",
       "      <td>...</td>\n",
       "      <td>...</td>\n",
       "      <td>...</td>\n",
       "    </tr>\n",
       "    <tr>\n",
       "      <th>95</th>\n",
       "      <td>93</td>\n",
       "      <td>91</td>\n",
       "      <td>121205</td>\n",
       "      <td>2177-04-23 00:08:00</td>\n",
       "      <td>2177-05-10 15:16:00</td>\n",
       "      <td>2177-05-10 15:16:00</td>\n",
       "      <td>EMERGENCY</td>\n",
       "      <td>EMERGENCY ROOM ADMIT</td>\n",
       "      <td>DEAD/EXPIRED</td>\n",
       "      <td>Medicare</td>\n",
       "      <td>NaN</td>\n",
       "      <td>JEWISH</td>\n",
       "      <td>MARRIED</td>\n",
       "      <td>WHITE</td>\n",
       "      <td>2177-04-22 21:02:00</td>\n",
       "      <td>2177-04-23 04:03:00</td>\n",
       "      <td>FEVER</td>\n",
       "      <td>1</td>\n",
       "      <td>1</td>\n",
       "    </tr>\n",
       "    <tr>\n",
       "      <th>96</th>\n",
       "      <td>94</td>\n",
       "      <td>92</td>\n",
       "      <td>142807</td>\n",
       "      <td>2122-12-13 19:30:00</td>\n",
       "      <td>2123-03-04 13:47:00</td>\n",
       "      <td>NaN</td>\n",
       "      <td>NEWBORN</td>\n",
       "      <td>PHYS REFERRAL/NORMAL DELI</td>\n",
       "      <td>SHORT TERM HOSPITAL</td>\n",
       "      <td>Medicaid</td>\n",
       "      <td>NaN</td>\n",
       "      <td>UNOBTAINABLE</td>\n",
       "      <td>NaN</td>\n",
       "      <td>WHITE</td>\n",
       "      <td>NaN</td>\n",
       "      <td>NaN</td>\n",
       "      <td>NEWBORN</td>\n",
       "      <td>0</td>\n",
       "      <td>1</td>\n",
       "    </tr>\n",
       "    <tr>\n",
       "      <th>97</th>\n",
       "      <td>95</td>\n",
       "      <td>93</td>\n",
       "      <td>160481</td>\n",
       "      <td>2128-03-17 17:11:00</td>\n",
       "      <td>2128-06-17 15:00:00</td>\n",
       "      <td>NaN</td>\n",
       "      <td>NEWBORN</td>\n",
       "      <td>CLINIC REFERRAL/PREMATURE</td>\n",
       "      <td>HOME HEALTH CARE</td>\n",
       "      <td>Private</td>\n",
       "      <td>NaN</td>\n",
       "      <td>CATHOLIC</td>\n",
       "      <td>NaN</td>\n",
       "      <td>WHITE</td>\n",
       "      <td>NaN</td>\n",
       "      <td>NaN</td>\n",
       "      <td>NEWBORN</td>\n",
       "      <td>0</td>\n",
       "      <td>1</td>\n",
       "    </tr>\n",
       "    <tr>\n",
       "      <th>98</th>\n",
       "      <td>96</td>\n",
       "      <td>94</td>\n",
       "      <td>183686</td>\n",
       "      <td>2176-02-25 16:49:00</td>\n",
       "      <td>2176-02-29 17:45:00</td>\n",
       "      <td>NaN</td>\n",
       "      <td>EMERGENCY</td>\n",
       "      <td>EMERGENCY ROOM ADMIT</td>\n",
       "      <td>HOME HEALTH CARE</td>\n",
       "      <td>Medicare</td>\n",
       "      <td>CANT</td>\n",
       "      <td>NOT SPECIFIED</td>\n",
       "      <td>MARRIED</td>\n",
       "      <td>ASIAN</td>\n",
       "      <td>2176-02-25 10:35:00</td>\n",
       "      <td>2176-02-25 18:14:00</td>\n",
       "      <td>SEPSIS</td>\n",
       "      <td>0</td>\n",
       "      <td>1</td>\n",
       "    </tr>\n",
       "    <tr>\n",
       "      <th>99</th>\n",
       "      <td>97</td>\n",
       "      <td>94</td>\n",
       "      <td>140037</td>\n",
       "      <td>2176-09-02 14:22:00</td>\n",
       "      <td>2176-09-25 13:15:00</td>\n",
       "      <td>NaN</td>\n",
       "      <td>EMERGENCY</td>\n",
       "      <td>EMERGENCY ROOM ADMIT</td>\n",
       "      <td>SNF</td>\n",
       "      <td>Medicare</td>\n",
       "      <td>CANT</td>\n",
       "      <td>NOT SPECIFIED</td>\n",
       "      <td>MARRIED</td>\n",
       "      <td>ASIAN</td>\n",
       "      <td>2176-09-02 09:54:00</td>\n",
       "      <td>2176-09-02 17:56:00</td>\n",
       "      <td>PNEUMONIA</td>\n",
       "      <td>0</td>\n",
       "      <td>1</td>\n",
       "    </tr>\n",
       "  </tbody>\n",
       "</table>\n",
       "<p>100 rows × 19 columns</p>\n",
       "</div>"
      ],
      "text/plain": [
       "    ROW_ID  SUBJECT_ID  HADM_ID            ADMITTIME            DISCHTIME  \\\n",
       "0       21          22   165315  2196-04-09 12:26:00  2196-04-10 15:54:00   \n",
       "1       22          23   152223  2153-09-03 07:15:00  2153-09-08 19:10:00   \n",
       "2       23          23   124321  2157-10-18 19:34:00  2157-10-25 14:00:00   \n",
       "3       24          24   161859  2139-06-06 16:14:00  2139-06-09 12:48:00   \n",
       "4       25          25   129635  2160-11-02 02:06:00  2160-11-05 14:55:00   \n",
       "..     ...         ...      ...                  ...                  ...   \n",
       "95      93          91   121205  2177-04-23 00:08:00  2177-05-10 15:16:00   \n",
       "96      94          92   142807  2122-12-13 19:30:00  2123-03-04 13:47:00   \n",
       "97      95          93   160481  2128-03-17 17:11:00  2128-06-17 15:00:00   \n",
       "98      96          94   183686  2176-02-25 16:49:00  2176-02-29 17:45:00   \n",
       "99      97          94   140037  2176-09-02 14:22:00  2176-09-25 13:15:00   \n",
       "\n",
       "              DEATHTIME ADMISSION_TYPE         ADMISSION_LOCATION  \\\n",
       "0                   NaN      EMERGENCY       EMERGENCY ROOM ADMIT   \n",
       "1                   NaN       ELECTIVE  PHYS REFERRAL/NORMAL DELI   \n",
       "2                   NaN      EMERGENCY  TRANSFER FROM HOSP/EXTRAM   \n",
       "3                   NaN      EMERGENCY  TRANSFER FROM HOSP/EXTRAM   \n",
       "4                   NaN      EMERGENCY       EMERGENCY ROOM ADMIT   \n",
       "..                  ...            ...                        ...   \n",
       "95  2177-05-10 15:16:00      EMERGENCY       EMERGENCY ROOM ADMIT   \n",
       "96                  NaN        NEWBORN  PHYS REFERRAL/NORMAL DELI   \n",
       "97                  NaN        NEWBORN  CLINIC REFERRAL/PREMATURE   \n",
       "98                  NaN      EMERGENCY       EMERGENCY ROOM ADMIT   \n",
       "99                  NaN      EMERGENCY       EMERGENCY ROOM ADMIT   \n",
       "\n",
       "           DISCHARGE_LOCATION INSURANCE LANGUAGE           RELIGION  \\\n",
       "0   DISC-TRAN CANCER/CHLDRN H   Private      NaN       UNOBTAINABLE   \n",
       "1            HOME HEALTH CARE  Medicare      NaN           CATHOLIC   \n",
       "2            HOME HEALTH CARE  Medicare     ENGL           CATHOLIC   \n",
       "3                        HOME   Private      NaN  PROTESTANT QUAKER   \n",
       "4                        HOME   Private      NaN       UNOBTAINABLE   \n",
       "..                        ...       ...      ...                ...   \n",
       "95               DEAD/EXPIRED  Medicare      NaN             JEWISH   \n",
       "96        SHORT TERM HOSPITAL  Medicaid      NaN       UNOBTAINABLE   \n",
       "97           HOME HEALTH CARE   Private      NaN           CATHOLIC   \n",
       "98           HOME HEALTH CARE  Medicare     CANT      NOT SPECIFIED   \n",
       "99                        SNF  Medicare     CANT      NOT SPECIFIED   \n",
       "\n",
       "   MARITAL_STATUS ETHNICITY            EDREGTIME            EDOUTTIME  \\\n",
       "0         MARRIED     WHITE  2196-04-09 10:06:00  2196-04-09 13:24:00   \n",
       "1         MARRIED     WHITE                  NaN                  NaN   \n",
       "2         MARRIED     WHITE                  NaN                  NaN   \n",
       "3          SINGLE     WHITE                  NaN                  NaN   \n",
       "4         MARRIED     WHITE  2160-11-02 01:01:00  2160-11-02 04:27:00   \n",
       "..            ...       ...                  ...                  ...   \n",
       "95        MARRIED     WHITE  2177-04-22 21:02:00  2177-04-23 04:03:00   \n",
       "96            NaN     WHITE                  NaN                  NaN   \n",
       "97            NaN     WHITE                  NaN                  NaN   \n",
       "98        MARRIED     ASIAN  2176-02-25 10:35:00  2176-02-25 18:14:00   \n",
       "99        MARRIED     ASIAN  2176-09-02 09:54:00  2176-09-02 17:56:00   \n",
       "\n",
       "                                            DIAGNOSIS  HOSPITAL_EXPIRE_FLAG  \\\n",
       "0                             BENZODIAZEPINE OVERDOSE                     0   \n",
       "1   CORONARY ARTERY DISEASE\\CORONARY ARTERY BYPASS...                     0   \n",
       "2                                          BRAIN MASS                     0   \n",
       "3                      INTERIOR MYOCARDIAL INFARCTION                     0   \n",
       "4                             ACUTE CORONARY SYNDROME                     0   \n",
       "..                                                ...                   ...   \n",
       "95                                              FEVER                     1   \n",
       "96                                            NEWBORN                     0   \n",
       "97                                            NEWBORN                     0   \n",
       "98                                             SEPSIS                     0   \n",
       "99                                          PNEUMONIA                     0   \n",
       "\n",
       "    HAS_CHARTEVENTS_DATA  \n",
       "0                      1  \n",
       "1                      1  \n",
       "2                      1  \n",
       "3                      1  \n",
       "4                      1  \n",
       "..                   ...  \n",
       "95                     1  \n",
       "96                     1  \n",
       "97                     1  \n",
       "98                     1  \n",
       "99                     1  \n",
       "\n",
       "[100 rows x 19 columns]"
      ]
     },
     "execution_count": 5,
     "metadata": {},
     "output_type": "execute_result"
    }
   ],
   "source": [
    "df_adm.head(100)\n",
    "#df_adm.shape"
   ]
  },
  {
   "cell_type": "code",
   "execution_count": 6,
   "metadata": {},
   "outputs": [],
   "source": [
    "df_adm2 = df_adm[['SUBJECT_ID', 'HADM_ID', 'ADMITTIME', 'DISCHTIME',\n",
    "       'DEATHTIME', 'ADMISSION_TYPE']]"
   ]
  },
  {
   "cell_type": "code",
   "execution_count": 7,
   "metadata": {},
   "outputs": [
    {
     "data": {
      "text/html": [
       "<div>\n",
       "<style scoped>\n",
       "    .dataframe tbody tr th:only-of-type {\n",
       "        vertical-align: middle;\n",
       "    }\n",
       "\n",
       "    .dataframe tbody tr th {\n",
       "        vertical-align: top;\n",
       "    }\n",
       "\n",
       "    .dataframe thead th {\n",
       "        text-align: right;\n",
       "    }\n",
       "</style>\n",
       "<table border=\"1\" class=\"dataframe\">\n",
       "  <thead>\n",
       "    <tr style=\"text-align: right;\">\n",
       "      <th></th>\n",
       "      <th>SUBJECT_ID</th>\n",
       "      <th>HADM_ID</th>\n",
       "      <th>ADMITTIME</th>\n",
       "      <th>DISCHTIME</th>\n",
       "      <th>DEATHTIME</th>\n",
       "      <th>ADMISSION_TYPE</th>\n",
       "    </tr>\n",
       "  </thead>\n",
       "  <tbody>\n",
       "    <tr>\n",
       "      <th>0</th>\n",
       "      <td>22</td>\n",
       "      <td>165315</td>\n",
       "      <td>2196-04-09 12:26:00</td>\n",
       "      <td>2196-04-10 15:54:00</td>\n",
       "      <td>NaN</td>\n",
       "      <td>EMERGENCY</td>\n",
       "    </tr>\n",
       "    <tr>\n",
       "      <th>1</th>\n",
       "      <td>23</td>\n",
       "      <td>152223</td>\n",
       "      <td>2153-09-03 07:15:00</td>\n",
       "      <td>2153-09-08 19:10:00</td>\n",
       "      <td>NaN</td>\n",
       "      <td>ELECTIVE</td>\n",
       "    </tr>\n",
       "    <tr>\n",
       "      <th>2</th>\n",
       "      <td>23</td>\n",
       "      <td>124321</td>\n",
       "      <td>2157-10-18 19:34:00</td>\n",
       "      <td>2157-10-25 14:00:00</td>\n",
       "      <td>NaN</td>\n",
       "      <td>EMERGENCY</td>\n",
       "    </tr>\n",
       "    <tr>\n",
       "      <th>3</th>\n",
       "      <td>24</td>\n",
       "      <td>161859</td>\n",
       "      <td>2139-06-06 16:14:00</td>\n",
       "      <td>2139-06-09 12:48:00</td>\n",
       "      <td>NaN</td>\n",
       "      <td>EMERGENCY</td>\n",
       "    </tr>\n",
       "    <tr>\n",
       "      <th>4</th>\n",
       "      <td>25</td>\n",
       "      <td>129635</td>\n",
       "      <td>2160-11-02 02:06:00</td>\n",
       "      <td>2160-11-05 14:55:00</td>\n",
       "      <td>NaN</td>\n",
       "      <td>EMERGENCY</td>\n",
       "    </tr>\n",
       "  </tbody>\n",
       "</table>\n",
       "</div>"
      ],
      "text/plain": [
       "   SUBJECT_ID  HADM_ID            ADMITTIME            DISCHTIME DEATHTIME  \\\n",
       "0          22   165315  2196-04-09 12:26:00  2196-04-10 15:54:00       NaN   \n",
       "1          23   152223  2153-09-03 07:15:00  2153-09-08 19:10:00       NaN   \n",
       "2          23   124321  2157-10-18 19:34:00  2157-10-25 14:00:00       NaN   \n",
       "3          24   161859  2139-06-06 16:14:00  2139-06-09 12:48:00       NaN   \n",
       "4          25   129635  2160-11-02 02:06:00  2160-11-05 14:55:00       NaN   \n",
       "\n",
       "  ADMISSION_TYPE  \n",
       "0      EMERGENCY  \n",
       "1       ELECTIVE  \n",
       "2      EMERGENCY  \n",
       "3      EMERGENCY  \n",
       "4      EMERGENCY  "
      ]
     },
     "execution_count": 7,
     "metadata": {},
     "output_type": "execute_result"
    }
   ],
   "source": [
    "df_adm2.head()"
   ]
  },
  {
   "cell_type": "code",
   "execution_count": 8,
   "metadata": {},
   "outputs": [
    {
     "name": "stderr",
     "output_type": "stream",
     "text": [
      "C:\\Users\\T\\AppData\\Local\\Temp\\ipykernel_508\\3163153658.py:1: SettingWithCopyWarning: \n",
      "A value is trying to be set on a copy of a slice from a DataFrame.\n",
      "Try using .loc[row_indexer,col_indexer] = value instead\n",
      "\n",
      "See the caveats in the documentation: https://pandas.pydata.org/pandas-docs/stable/user_guide/indexing.html#returning-a-view-versus-a-copy\n",
      "  df_adm2.ADMITTIME = pd.to_datetime( df_adm2.ADMITTIME, format = '%Y-%m-%d %H:%M:%S', errors ='coerce')\n",
      "C:\\Users\\T\\AppData\\Local\\Temp\\ipykernel_508\\3163153658.py:3: SettingWithCopyWarning: \n",
      "A value is trying to be set on a copy of a slice from a DataFrame.\n",
      "Try using .loc[row_indexer,col_indexer] = value instead\n",
      "\n",
      "See the caveats in the documentation: https://pandas.pydata.org/pandas-docs/stable/user_guide/indexing.html#returning-a-view-versus-a-copy\n",
      "  df_adm2.DISCHTIME = pd.to_datetime( df_adm2.DISCHTIME, format = '%Y-%m-%d %H:%M:%S', errors ='coerce')\n",
      "C:\\Users\\T\\AppData\\Local\\Temp\\ipykernel_508\\3163153658.py:5: SettingWithCopyWarning: \n",
      "A value is trying to be set on a copy of a slice from a DataFrame.\n",
      "Try using .loc[row_indexer,col_indexer] = value instead\n",
      "\n",
      "See the caveats in the documentation: https://pandas.pydata.org/pandas-docs/stable/user_guide/indexing.html#returning-a-view-versus-a-copy\n",
      "  df_adm2.DEATHTIME = pd.to_datetime( df_adm2.DEATHTIME, format = '%Y-%m-%d %H:%M:%S', errors ='coerce')\n"
     ]
    }
   ],
   "source": [
    "df_adm2.ADMITTIME = pd.to_datetime( df_adm2.ADMITTIME, format = '%Y-%m-%d %H:%M:%S', errors ='coerce')\n",
    "\n",
    "df_adm2.DISCHTIME = pd.to_datetime( df_adm2.DISCHTIME, format = '%Y-%m-%d %H:%M:%S', errors ='coerce')\n",
    "\n",
    "df_adm2.DEATHTIME = pd.to_datetime( df_adm2.DEATHTIME, format = '%Y-%m-%d %H:%M:%S', errors ='coerce')"
   ]
  },
  {
   "cell_type": "code",
   "execution_count": 9,
   "metadata": {},
   "outputs": [],
   "source": [
    "df_adm2 = df_adm2.sort_values(['SUBJECT_ID','ADMITTIME'])\n",
    "df_adm2 = df_adm2.reset_index(drop = True)"
   ]
  },
  {
   "cell_type": "code",
   "execution_count": null,
   "metadata": {},
   "outputs": [],
   "source": []
  },
  {
   "cell_type": "code",
   "execution_count": 10,
   "metadata": {},
   "outputs": [
    {
     "data": {
      "text/html": [
       "<div>\n",
       "<style scoped>\n",
       "    .dataframe tbody tr th:only-of-type {\n",
       "        vertical-align: middle;\n",
       "    }\n",
       "\n",
       "    .dataframe tbody tr th {\n",
       "        vertical-align: top;\n",
       "    }\n",
       "\n",
       "    .dataframe thead th {\n",
       "        text-align: right;\n",
       "    }\n",
       "</style>\n",
       "<table border=\"1\" class=\"dataframe\">\n",
       "  <thead>\n",
       "    <tr style=\"text-align: right;\">\n",
       "      <th></th>\n",
       "      <th>SUBJECT_ID</th>\n",
       "      <th>HADM_ID</th>\n",
       "      <th>ADMITTIME</th>\n",
       "      <th>DISCHTIME</th>\n",
       "      <th>DEATHTIME</th>\n",
       "      <th>ADMISSION_TYPE</th>\n",
       "    </tr>\n",
       "  </thead>\n",
       "  <tbody>\n",
       "    <tr>\n",
       "      <th>0</th>\n",
       "      <td>2</td>\n",
       "      <td>163353</td>\n",
       "      <td>2138-07-17 19:04:00</td>\n",
       "      <td>2138-07-21 15:48:00</td>\n",
       "      <td>NaT</td>\n",
       "      <td>NEWBORN</td>\n",
       "    </tr>\n",
       "    <tr>\n",
       "      <th>1</th>\n",
       "      <td>3</td>\n",
       "      <td>145834</td>\n",
       "      <td>2101-10-20 19:08:00</td>\n",
       "      <td>2101-10-31 13:58:00</td>\n",
       "      <td>NaT</td>\n",
       "      <td>EMERGENCY</td>\n",
       "    </tr>\n",
       "    <tr>\n",
       "      <th>2</th>\n",
       "      <td>4</td>\n",
       "      <td>185777</td>\n",
       "      <td>2191-03-16 00:28:00</td>\n",
       "      <td>2191-03-23 18:41:00</td>\n",
       "      <td>NaT</td>\n",
       "      <td>EMERGENCY</td>\n",
       "    </tr>\n",
       "    <tr>\n",
       "      <th>3</th>\n",
       "      <td>5</td>\n",
       "      <td>178980</td>\n",
       "      <td>2103-02-02 04:31:00</td>\n",
       "      <td>2103-02-04 12:15:00</td>\n",
       "      <td>NaT</td>\n",
       "      <td>NEWBORN</td>\n",
       "    </tr>\n",
       "    <tr>\n",
       "      <th>4</th>\n",
       "      <td>6</td>\n",
       "      <td>107064</td>\n",
       "      <td>2175-05-30 07:15:00</td>\n",
       "      <td>2175-06-15 16:00:00</td>\n",
       "      <td>NaT</td>\n",
       "      <td>ELECTIVE</td>\n",
       "    </tr>\n",
       "    <tr>\n",
       "      <th>...</th>\n",
       "      <td>...</td>\n",
       "      <td>...</td>\n",
       "      <td>...</td>\n",
       "      <td>...</td>\n",
       "      <td>...</td>\n",
       "      <td>...</td>\n",
       "    </tr>\n",
       "    <tr>\n",
       "      <th>95</th>\n",
       "      <td>94</td>\n",
       "      <td>183686</td>\n",
       "      <td>2176-02-25 16:49:00</td>\n",
       "      <td>2176-02-29 17:45:00</td>\n",
       "      <td>NaT</td>\n",
       "      <td>EMERGENCY</td>\n",
       "    </tr>\n",
       "    <tr>\n",
       "      <th>96</th>\n",
       "      <td>94</td>\n",
       "      <td>140037</td>\n",
       "      <td>2176-09-02 14:22:00</td>\n",
       "      <td>2176-09-25 13:15:00</td>\n",
       "      <td>NaT</td>\n",
       "      <td>EMERGENCY</td>\n",
       "    </tr>\n",
       "    <tr>\n",
       "      <th>97</th>\n",
       "      <td>95</td>\n",
       "      <td>160891</td>\n",
       "      <td>2157-12-25 16:28:00</td>\n",
       "      <td>2157-12-27 15:25:00</td>\n",
       "      <td>NaT</td>\n",
       "      <td>EMERGENCY</td>\n",
       "    </tr>\n",
       "    <tr>\n",
       "      <th>98</th>\n",
       "      <td>96</td>\n",
       "      <td>170324</td>\n",
       "      <td>2156-03-31 16:11:00</td>\n",
       "      <td>2156-04-29 15:05:00</td>\n",
       "      <td>NaT</td>\n",
       "      <td>EMERGENCY</td>\n",
       "    </tr>\n",
       "    <tr>\n",
       "      <th>99</th>\n",
       "      <td>97</td>\n",
       "      <td>127870</td>\n",
       "      <td>2105-04-28 15:01:00</td>\n",
       "      <td>2105-05-06 13:45:00</td>\n",
       "      <td>NaT</td>\n",
       "      <td>EMERGENCY</td>\n",
       "    </tr>\n",
       "  </tbody>\n",
       "</table>\n",
       "<p>100 rows × 6 columns</p>\n",
       "</div>"
      ],
      "text/plain": [
       "    SUBJECT_ID  HADM_ID           ADMITTIME           DISCHTIME DEATHTIME  \\\n",
       "0            2   163353 2138-07-17 19:04:00 2138-07-21 15:48:00       NaT   \n",
       "1            3   145834 2101-10-20 19:08:00 2101-10-31 13:58:00       NaT   \n",
       "2            4   185777 2191-03-16 00:28:00 2191-03-23 18:41:00       NaT   \n",
       "3            5   178980 2103-02-02 04:31:00 2103-02-04 12:15:00       NaT   \n",
       "4            6   107064 2175-05-30 07:15:00 2175-06-15 16:00:00       NaT   \n",
       "..         ...      ...                 ...                 ...       ...   \n",
       "95          94   183686 2176-02-25 16:49:00 2176-02-29 17:45:00       NaT   \n",
       "96          94   140037 2176-09-02 14:22:00 2176-09-25 13:15:00       NaT   \n",
       "97          95   160891 2157-12-25 16:28:00 2157-12-27 15:25:00       NaT   \n",
       "98          96   170324 2156-03-31 16:11:00 2156-04-29 15:05:00       NaT   \n",
       "99          97   127870 2105-04-28 15:01:00 2105-05-06 13:45:00       NaT   \n",
       "\n",
       "   ADMISSION_TYPE  \n",
       "0         NEWBORN  \n",
       "1       EMERGENCY  \n",
       "2       EMERGENCY  \n",
       "3         NEWBORN  \n",
       "4        ELECTIVE  \n",
       "..            ...  \n",
       "95      EMERGENCY  \n",
       "96      EMERGENCY  \n",
       "97      EMERGENCY  \n",
       "98      EMERGENCY  \n",
       "99      EMERGENCY  \n",
       "\n",
       "[100 rows x 6 columns]"
      ]
     },
     "execution_count": 10,
     "metadata": {},
     "output_type": "execute_result"
    }
   ],
   "source": [
    "df_adm2.head(100)\n"
   ]
  },
  {
   "cell_type": "code",
   "execution_count": 11,
   "metadata": {},
   "outputs": [
    {
     "name": "stdout",
     "output_type": "stream",
     "text": [
      "<class 'pandas.core.frame.DataFrame'>\n",
      "RangeIndex: 58976 entries, 0 to 58975\n",
      "Data columns (total 6 columns):\n",
      " #   Column          Non-Null Count  Dtype         \n",
      "---  ------          --------------  -----         \n",
      " 0   SUBJECT_ID      58976 non-null  int64         \n",
      " 1   HADM_ID         58976 non-null  int64         \n",
      " 2   ADMITTIME       58976 non-null  datetime64[ns]\n",
      " 3   DISCHTIME       58976 non-null  datetime64[ns]\n",
      " 4   DEATHTIME       5854 non-null   datetime64[ns]\n",
      " 5   ADMISSION_TYPE  58976 non-null  object        \n",
      "dtypes: datetime64[ns](3), int64(2), object(1)\n",
      "memory usage: 2.7+ MB\n"
     ]
    }
   ],
   "source": [
    "df_adm2.info()"
   ]
  },
  {
   "cell_type": "code",
   "execution_count": 12,
   "metadata": {},
   "outputs": [
    {
     "data": {
      "text/plain": [
       "60"
      ]
     },
     "execution_count": 12,
     "metadata": {},
     "output_type": "execute_result"
    }
   ],
   "source": [
    "pd.options.display.max_rows\n",
    "#pd.options.display.max_rows = 60000"
   ]
  },
  {
   "cell_type": "code",
   "execution_count": 13,
   "metadata": {},
   "outputs": [
    {
     "data": {
      "text/html": [
       "<div>\n",
       "<style scoped>\n",
       "    .dataframe tbody tr th:only-of-type {\n",
       "        vertical-align: middle;\n",
       "    }\n",
       "\n",
       "    .dataframe tbody tr th {\n",
       "        vertical-align: top;\n",
       "    }\n",
       "\n",
       "    .dataframe thead th {\n",
       "        text-align: right;\n",
       "    }\n",
       "</style>\n",
       "<table border=\"1\" class=\"dataframe\">\n",
       "  <thead>\n",
       "    <tr style=\"text-align: right;\">\n",
       "      <th></th>\n",
       "      <th>SUBJECT_ID</th>\n",
       "      <th>HADM_ID</th>\n",
       "      <th>ADMITTIME</th>\n",
       "      <th>DISCHTIME</th>\n",
       "      <th>DEATHTIME</th>\n",
       "      <th>ADMISSION_TYPE</th>\n",
       "      <th>NEXT_ADMITTIME</th>\n",
       "      <th>NEXT_ADMISSION_TYPE</th>\n",
       "    </tr>\n",
       "  </thead>\n",
       "  <tbody>\n",
       "    <tr>\n",
       "      <th>0</th>\n",
       "      <td>2</td>\n",
       "      <td>163353</td>\n",
       "      <td>2138-07-17 19:04:00</td>\n",
       "      <td>2138-07-21 15:48:00</td>\n",
       "      <td>NaT</td>\n",
       "      <td>NEWBORN</td>\n",
       "      <td>NaT</td>\n",
       "      <td>NaN</td>\n",
       "    </tr>\n",
       "    <tr>\n",
       "      <th>1</th>\n",
       "      <td>3</td>\n",
       "      <td>145834</td>\n",
       "      <td>2101-10-20 19:08:00</td>\n",
       "      <td>2101-10-31 13:58:00</td>\n",
       "      <td>NaT</td>\n",
       "      <td>EMERGENCY</td>\n",
       "      <td>NaT</td>\n",
       "      <td>NaN</td>\n",
       "    </tr>\n",
       "    <tr>\n",
       "      <th>2</th>\n",
       "      <td>4</td>\n",
       "      <td>185777</td>\n",
       "      <td>2191-03-16 00:28:00</td>\n",
       "      <td>2191-03-23 18:41:00</td>\n",
       "      <td>NaT</td>\n",
       "      <td>EMERGENCY</td>\n",
       "      <td>NaT</td>\n",
       "      <td>NaN</td>\n",
       "    </tr>\n",
       "    <tr>\n",
       "      <th>3</th>\n",
       "      <td>5</td>\n",
       "      <td>178980</td>\n",
       "      <td>2103-02-02 04:31:00</td>\n",
       "      <td>2103-02-04 12:15:00</td>\n",
       "      <td>NaT</td>\n",
       "      <td>NEWBORN</td>\n",
       "      <td>NaT</td>\n",
       "      <td>NaN</td>\n",
       "    </tr>\n",
       "    <tr>\n",
       "      <th>4</th>\n",
       "      <td>6</td>\n",
       "      <td>107064</td>\n",
       "      <td>2175-05-30 07:15:00</td>\n",
       "      <td>2175-06-15 16:00:00</td>\n",
       "      <td>NaT</td>\n",
       "      <td>ELECTIVE</td>\n",
       "      <td>NaT</td>\n",
       "      <td>NaN</td>\n",
       "    </tr>\n",
       "    <tr>\n",
       "      <th>5</th>\n",
       "      <td>7</td>\n",
       "      <td>118037</td>\n",
       "      <td>2121-05-23 15:05:00</td>\n",
       "      <td>2121-05-27 11:57:00</td>\n",
       "      <td>NaT</td>\n",
       "      <td>NEWBORN</td>\n",
       "      <td>NaT</td>\n",
       "      <td>NaN</td>\n",
       "    </tr>\n",
       "    <tr>\n",
       "      <th>6</th>\n",
       "      <td>8</td>\n",
       "      <td>159514</td>\n",
       "      <td>2117-11-20 10:22:00</td>\n",
       "      <td>2117-11-24 14:20:00</td>\n",
       "      <td>NaT</td>\n",
       "      <td>NEWBORN</td>\n",
       "      <td>NaT</td>\n",
       "      <td>NaN</td>\n",
       "    </tr>\n",
       "    <tr>\n",
       "      <th>7</th>\n",
       "      <td>9</td>\n",
       "      <td>150750</td>\n",
       "      <td>2149-11-09 13:06:00</td>\n",
       "      <td>2149-11-14 10:15:00</td>\n",
       "      <td>2149-11-14 10:15:00</td>\n",
       "      <td>EMERGENCY</td>\n",
       "      <td>NaT</td>\n",
       "      <td>NaN</td>\n",
       "    </tr>\n",
       "    <tr>\n",
       "      <th>8</th>\n",
       "      <td>10</td>\n",
       "      <td>184167</td>\n",
       "      <td>2103-06-28 11:36:00</td>\n",
       "      <td>2103-07-06 12:10:00</td>\n",
       "      <td>NaT</td>\n",
       "      <td>NEWBORN</td>\n",
       "      <td>NaT</td>\n",
       "      <td>NaN</td>\n",
       "    </tr>\n",
       "    <tr>\n",
       "      <th>9</th>\n",
       "      <td>11</td>\n",
       "      <td>194540</td>\n",
       "      <td>2178-04-16 06:18:00</td>\n",
       "      <td>2178-05-11 19:00:00</td>\n",
       "      <td>NaT</td>\n",
       "      <td>EMERGENCY</td>\n",
       "      <td>NaT</td>\n",
       "      <td>NaN</td>\n",
       "    </tr>\n",
       "    <tr>\n",
       "      <th>10</th>\n",
       "      <td>12</td>\n",
       "      <td>112213</td>\n",
       "      <td>2104-08-07 10:15:00</td>\n",
       "      <td>2104-08-20 02:57:00</td>\n",
       "      <td>2104-08-20 02:57:00</td>\n",
       "      <td>ELECTIVE</td>\n",
       "      <td>NaT</td>\n",
       "      <td>NaN</td>\n",
       "    </tr>\n",
       "    <tr>\n",
       "      <th>11</th>\n",
       "      <td>13</td>\n",
       "      <td>143045</td>\n",
       "      <td>2167-01-08 18:43:00</td>\n",
       "      <td>2167-01-15 15:15:00</td>\n",
       "      <td>NaT</td>\n",
       "      <td>EMERGENCY</td>\n",
       "      <td>NaT</td>\n",
       "      <td>NaN</td>\n",
       "    </tr>\n",
       "    <tr>\n",
       "      <th>12</th>\n",
       "      <td>16</td>\n",
       "      <td>103251</td>\n",
       "      <td>2178-02-03 06:35:00</td>\n",
       "      <td>2178-02-05 10:51:00</td>\n",
       "      <td>NaT</td>\n",
       "      <td>NEWBORN</td>\n",
       "      <td>NaT</td>\n",
       "      <td>NaN</td>\n",
       "    </tr>\n",
       "    <tr>\n",
       "      <th>13</th>\n",
       "      <td>17</td>\n",
       "      <td>194023</td>\n",
       "      <td>2134-12-27 07:15:00</td>\n",
       "      <td>2134-12-31 16:05:00</td>\n",
       "      <td>NaT</td>\n",
       "      <td>ELECTIVE</td>\n",
       "      <td>2135-05-09 14:11:00</td>\n",
       "      <td>EMERGENCY</td>\n",
       "    </tr>\n",
       "    <tr>\n",
       "      <th>14</th>\n",
       "      <td>17</td>\n",
       "      <td>161087</td>\n",
       "      <td>2135-05-09 14:11:00</td>\n",
       "      <td>2135-05-13 14:40:00</td>\n",
       "      <td>NaT</td>\n",
       "      <td>EMERGENCY</td>\n",
       "      <td>NaT</td>\n",
       "      <td>NaN</td>\n",
       "    </tr>\n",
       "    <tr>\n",
       "      <th>15</th>\n",
       "      <td>18</td>\n",
       "      <td>188822</td>\n",
       "      <td>2167-10-02 11:18:00</td>\n",
       "      <td>2167-10-04 16:15:00</td>\n",
       "      <td>NaT</td>\n",
       "      <td>EMERGENCY</td>\n",
       "      <td>NaT</td>\n",
       "      <td>NaN</td>\n",
       "    </tr>\n",
       "    <tr>\n",
       "      <th>16</th>\n",
       "      <td>19</td>\n",
       "      <td>109235</td>\n",
       "      <td>2108-08-05 16:25:00</td>\n",
       "      <td>2108-08-11 11:29:00</td>\n",
       "      <td>NaT</td>\n",
       "      <td>EMERGENCY</td>\n",
       "      <td>NaT</td>\n",
       "      <td>NaN</td>\n",
       "    </tr>\n",
       "    <tr>\n",
       "      <th>17</th>\n",
       "      <td>20</td>\n",
       "      <td>157681</td>\n",
       "      <td>2183-04-28 09:45:00</td>\n",
       "      <td>2183-05-03 14:45:00</td>\n",
       "      <td>NaT</td>\n",
       "      <td>ELECTIVE</td>\n",
       "      <td>NaT</td>\n",
       "      <td>NaN</td>\n",
       "    </tr>\n",
       "    <tr>\n",
       "      <th>18</th>\n",
       "      <td>21</td>\n",
       "      <td>109451</td>\n",
       "      <td>2134-09-11 12:17:00</td>\n",
       "      <td>2134-09-24 16:15:00</td>\n",
       "      <td>NaT</td>\n",
       "      <td>EMERGENCY</td>\n",
       "      <td>2135-01-30 20:50:00</td>\n",
       "      <td>EMERGENCY</td>\n",
       "    </tr>\n",
       "    <tr>\n",
       "      <th>19</th>\n",
       "      <td>21</td>\n",
       "      <td>111970</td>\n",
       "      <td>2135-01-30 20:50:00</td>\n",
       "      <td>2135-02-08 02:08:00</td>\n",
       "      <td>2135-02-08 02:08:00</td>\n",
       "      <td>EMERGENCY</td>\n",
       "      <td>NaT</td>\n",
       "      <td>NaN</td>\n",
       "    </tr>\n",
       "  </tbody>\n",
       "</table>\n",
       "</div>"
      ],
      "text/plain": [
       "    SUBJECT_ID  HADM_ID           ADMITTIME           DISCHTIME  \\\n",
       "0            2   163353 2138-07-17 19:04:00 2138-07-21 15:48:00   \n",
       "1            3   145834 2101-10-20 19:08:00 2101-10-31 13:58:00   \n",
       "2            4   185777 2191-03-16 00:28:00 2191-03-23 18:41:00   \n",
       "3            5   178980 2103-02-02 04:31:00 2103-02-04 12:15:00   \n",
       "4            6   107064 2175-05-30 07:15:00 2175-06-15 16:00:00   \n",
       "5            7   118037 2121-05-23 15:05:00 2121-05-27 11:57:00   \n",
       "6            8   159514 2117-11-20 10:22:00 2117-11-24 14:20:00   \n",
       "7            9   150750 2149-11-09 13:06:00 2149-11-14 10:15:00   \n",
       "8           10   184167 2103-06-28 11:36:00 2103-07-06 12:10:00   \n",
       "9           11   194540 2178-04-16 06:18:00 2178-05-11 19:00:00   \n",
       "10          12   112213 2104-08-07 10:15:00 2104-08-20 02:57:00   \n",
       "11          13   143045 2167-01-08 18:43:00 2167-01-15 15:15:00   \n",
       "12          16   103251 2178-02-03 06:35:00 2178-02-05 10:51:00   \n",
       "13          17   194023 2134-12-27 07:15:00 2134-12-31 16:05:00   \n",
       "14          17   161087 2135-05-09 14:11:00 2135-05-13 14:40:00   \n",
       "15          18   188822 2167-10-02 11:18:00 2167-10-04 16:15:00   \n",
       "16          19   109235 2108-08-05 16:25:00 2108-08-11 11:29:00   \n",
       "17          20   157681 2183-04-28 09:45:00 2183-05-03 14:45:00   \n",
       "18          21   109451 2134-09-11 12:17:00 2134-09-24 16:15:00   \n",
       "19          21   111970 2135-01-30 20:50:00 2135-02-08 02:08:00   \n",
       "\n",
       "             DEATHTIME ADMISSION_TYPE      NEXT_ADMITTIME NEXT_ADMISSION_TYPE  \n",
       "0                  NaT        NEWBORN                 NaT                 NaN  \n",
       "1                  NaT      EMERGENCY                 NaT                 NaN  \n",
       "2                  NaT      EMERGENCY                 NaT                 NaN  \n",
       "3                  NaT        NEWBORN                 NaT                 NaN  \n",
       "4                  NaT       ELECTIVE                 NaT                 NaN  \n",
       "5                  NaT        NEWBORN                 NaT                 NaN  \n",
       "6                  NaT        NEWBORN                 NaT                 NaN  \n",
       "7  2149-11-14 10:15:00      EMERGENCY                 NaT                 NaN  \n",
       "8                  NaT        NEWBORN                 NaT                 NaN  \n",
       "9                  NaT      EMERGENCY                 NaT                 NaN  \n",
       "10 2104-08-20 02:57:00       ELECTIVE                 NaT                 NaN  \n",
       "11                 NaT      EMERGENCY                 NaT                 NaN  \n",
       "12                 NaT        NEWBORN                 NaT                 NaN  \n",
       "13                 NaT       ELECTIVE 2135-05-09 14:11:00           EMERGENCY  \n",
       "14                 NaT      EMERGENCY                 NaT                 NaN  \n",
       "15                 NaT      EMERGENCY                 NaT                 NaN  \n",
       "16                 NaT      EMERGENCY                 NaT                 NaN  \n",
       "17                 NaT       ELECTIVE                 NaT                 NaN  \n",
       "18                 NaT      EMERGENCY 2135-01-30 20:50:00           EMERGENCY  \n",
       "19 2135-02-08 02:08:00      EMERGENCY                 NaT                 NaN  "
      ]
     },
     "execution_count": 13,
     "metadata": {},
     "output_type": "execute_result"
    }
   ],
   "source": [
    "#df_adm.head(20)\n",
    "df_adm2['NEXT_ADMITTIME'] = df_adm2.groupby(\"SUBJECT_ID\").ADMITTIME.shift(-1)\n",
    "\n",
    "#df_adm.head(20)\n",
    "df_adm2['NEXT_ADMISSION_TYPE'] = df_adm2.groupby('SUBJECT_ID').ADMISSION_TYPE.shift(-1)\n",
    "df_adm2.head(20)\n",
    "\n"
   ]
  },
  {
   "cell_type": "code",
   "execution_count": null,
   "metadata": {},
   "outputs": [],
   "source": []
  },
  {
   "cell_type": "code",
   "execution_count": 14,
   "metadata": {},
   "outputs": [
    {
     "data": {
      "text/html": [
       "<div>\n",
       "<style scoped>\n",
       "    .dataframe tbody tr th:only-of-type {\n",
       "        vertical-align: middle;\n",
       "    }\n",
       "\n",
       "    .dataframe tbody tr th {\n",
       "        vertical-align: top;\n",
       "    }\n",
       "\n",
       "    .dataframe thead th {\n",
       "        text-align: right;\n",
       "    }\n",
       "</style>\n",
       "<table border=\"1\" class=\"dataframe\">\n",
       "  <thead>\n",
       "    <tr style=\"text-align: right;\">\n",
       "      <th></th>\n",
       "      <th>SUBJECT_ID</th>\n",
       "      <th>HADM_ID</th>\n",
       "      <th>ADMITTIME</th>\n",
       "      <th>DISCHTIME</th>\n",
       "      <th>DEATHTIME</th>\n",
       "      <th>ADMISSION_TYPE</th>\n",
       "      <th>NEXT_ADMITTIME</th>\n",
       "      <th>NEXT_ADMISSION_TYPE</th>\n",
       "    </tr>\n",
       "  </thead>\n",
       "  <tbody>\n",
       "    <tr>\n",
       "      <th>165</th>\n",
       "      <td>124</td>\n",
       "      <td>172461</td>\n",
       "      <td>2160-06-24 21:25:00</td>\n",
       "      <td>2160-07-15 15:10:00</td>\n",
       "      <td>NaT</td>\n",
       "      <td>EMERGENCY</td>\n",
       "      <td>2161-12-17 03:39:00</td>\n",
       "      <td>EMERGENCY</td>\n",
       "    </tr>\n",
       "    <tr>\n",
       "      <th>166</th>\n",
       "      <td>124</td>\n",
       "      <td>112906</td>\n",
       "      <td>2161-12-17 03:39:00</td>\n",
       "      <td>2161-12-24 15:35:00</td>\n",
       "      <td>NaT</td>\n",
       "      <td>EMERGENCY</td>\n",
       "      <td>2165-05-21 21:02:00</td>\n",
       "      <td>ELECTIVE</td>\n",
       "    </tr>\n",
       "    <tr>\n",
       "      <th>167</th>\n",
       "      <td>124</td>\n",
       "      <td>134369</td>\n",
       "      <td>2165-05-21 21:02:00</td>\n",
       "      <td>2165-06-06 16:00:00</td>\n",
       "      <td>NaT</td>\n",
       "      <td>ELECTIVE</td>\n",
       "      <td>2165-12-31 18:55:00</td>\n",
       "      <td>EMERGENCY</td>\n",
       "    </tr>\n",
       "    <tr>\n",
       "      <th>168</th>\n",
       "      <td>124</td>\n",
       "      <td>138376</td>\n",
       "      <td>2165-12-31 18:55:00</td>\n",
       "      <td>2166-02-01 06:55:00</td>\n",
       "      <td>2166-02-01 06:55:00</td>\n",
       "      <td>EMERGENCY</td>\n",
       "      <td>NaT</td>\n",
       "      <td>NaN</td>\n",
       "    </tr>\n",
       "  </tbody>\n",
       "</table>\n",
       "</div>"
      ],
      "text/plain": [
       "     SUBJECT_ID  HADM_ID           ADMITTIME           DISCHTIME  \\\n",
       "165         124   172461 2160-06-24 21:25:00 2160-07-15 15:10:00   \n",
       "166         124   112906 2161-12-17 03:39:00 2161-12-24 15:35:00   \n",
       "167         124   134369 2165-05-21 21:02:00 2165-06-06 16:00:00   \n",
       "168         124   138376 2165-12-31 18:55:00 2166-02-01 06:55:00   \n",
       "\n",
       "              DEATHTIME ADMISSION_TYPE      NEXT_ADMITTIME NEXT_ADMISSION_TYPE  \n",
       "165                 NaT      EMERGENCY 2161-12-17 03:39:00           EMERGENCY  \n",
       "166                 NaT      EMERGENCY 2165-05-21 21:02:00            ELECTIVE  \n",
       "167                 NaT       ELECTIVE 2165-12-31 18:55:00           EMERGENCY  \n",
       "168 2166-02-01 06:55:00      EMERGENCY                 NaT                 NaN  "
      ]
     },
     "execution_count": 14,
     "metadata": {},
     "output_type": "execute_result"
    }
   ],
   "source": [
    "df_adm2[df_adm2['SUBJECT_ID'] == 124]"
   ]
  },
  {
   "cell_type": "code",
   "execution_count": 15,
   "metadata": {},
   "outputs": [
    {
     "data": {
      "text/html": [
       "<div>\n",
       "<style scoped>\n",
       "    .dataframe tbody tr th:only-of-type {\n",
       "        vertical-align: middle;\n",
       "    }\n",
       "\n",
       "    .dataframe tbody tr th {\n",
       "        vertical-align: top;\n",
       "    }\n",
       "\n",
       "    .dataframe thead th {\n",
       "        text-align: right;\n",
       "    }\n",
       "</style>\n",
       "<table border=\"1\" class=\"dataframe\">\n",
       "  <thead>\n",
       "    <tr style=\"text-align: right;\">\n",
       "      <th></th>\n",
       "      <th>SUBJECT_ID</th>\n",
       "      <th>HADM_ID</th>\n",
       "      <th>ADMITTIME</th>\n",
       "      <th>DISCHTIME</th>\n",
       "      <th>DEATHTIME</th>\n",
       "      <th>ADMISSION_TYPE</th>\n",
       "      <th>NEXT_ADMITTIME</th>\n",
       "      <th>NEXT_ADMISSION_TYPE</th>\n",
       "    </tr>\n",
       "  </thead>\n",
       "  <tbody>\n",
       "    <tr>\n",
       "      <th>58876</th>\n",
       "      <td>99660</td>\n",
       "      <td>189028</td>\n",
       "      <td>2144-05-17 18:51:00</td>\n",
       "      <td>2144-05-23 14:10:00</td>\n",
       "      <td>NaT</td>\n",
       "      <td>EMERGENCY</td>\n",
       "      <td>NaT</td>\n",
       "      <td>NaN</td>\n",
       "    </tr>\n",
       "    <tr>\n",
       "      <th>58877</th>\n",
       "      <td>99661</td>\n",
       "      <td>177077</td>\n",
       "      <td>2160-05-11 23:46:00</td>\n",
       "      <td>2160-05-15 15:06:00</td>\n",
       "      <td>NaT</td>\n",
       "      <td>EMERGENCY</td>\n",
       "      <td>NaT</td>\n",
       "      <td>NaN</td>\n",
       "    </tr>\n",
       "    <tr>\n",
       "      <th>58878</th>\n",
       "      <td>99666</td>\n",
       "      <td>128787</td>\n",
       "      <td>2171-07-24 16:38:00</td>\n",
       "      <td>2171-08-07 13:40:00</td>\n",
       "      <td>NaT</td>\n",
       "      <td>EMERGENCY</td>\n",
       "      <td>NaT</td>\n",
       "      <td>NaN</td>\n",
       "    </tr>\n",
       "    <tr>\n",
       "      <th>58879</th>\n",
       "      <td>99669</td>\n",
       "      <td>162441</td>\n",
       "      <td>2171-05-06 07:15:00</td>\n",
       "      <td>2171-05-15 14:15:00</td>\n",
       "      <td>NaT</td>\n",
       "      <td>ELECTIVE</td>\n",
       "      <td>NaT</td>\n",
       "      <td>NaN</td>\n",
       "    </tr>\n",
       "    <tr>\n",
       "      <th>58880</th>\n",
       "      <td>99674</td>\n",
       "      <td>101645</td>\n",
       "      <td>2105-06-12 19:45:00</td>\n",
       "      <td>2105-06-19 16:45:00</td>\n",
       "      <td>NaT</td>\n",
       "      <td>EMERGENCY</td>\n",
       "      <td>NaT</td>\n",
       "      <td>NaN</td>\n",
       "    </tr>\n",
       "    <tr>\n",
       "      <th>...</th>\n",
       "      <td>...</td>\n",
       "      <td>...</td>\n",
       "      <td>...</td>\n",
       "      <td>...</td>\n",
       "      <td>...</td>\n",
       "      <td>...</td>\n",
       "      <td>...</td>\n",
       "      <td>...</td>\n",
       "    </tr>\n",
       "    <tr>\n",
       "      <th>58971</th>\n",
       "      <td>99985</td>\n",
       "      <td>176670</td>\n",
       "      <td>2181-01-27 02:47:00</td>\n",
       "      <td>2181-02-12 17:05:00</td>\n",
       "      <td>NaT</td>\n",
       "      <td>EMERGENCY</td>\n",
       "      <td>NaT</td>\n",
       "      <td>NaN</td>\n",
       "    </tr>\n",
       "    <tr>\n",
       "      <th>58972</th>\n",
       "      <td>99991</td>\n",
       "      <td>151118</td>\n",
       "      <td>2184-12-24 08:30:00</td>\n",
       "      <td>2185-01-05 12:15:00</td>\n",
       "      <td>NaT</td>\n",
       "      <td>ELECTIVE</td>\n",
       "      <td>NaT</td>\n",
       "      <td>NaN</td>\n",
       "    </tr>\n",
       "    <tr>\n",
       "      <th>58973</th>\n",
       "      <td>99992</td>\n",
       "      <td>197084</td>\n",
       "      <td>2144-07-25 18:03:00</td>\n",
       "      <td>2144-07-28 17:56:00</td>\n",
       "      <td>NaT</td>\n",
       "      <td>EMERGENCY</td>\n",
       "      <td>NaT</td>\n",
       "      <td>NaN</td>\n",
       "    </tr>\n",
       "    <tr>\n",
       "      <th>58974</th>\n",
       "      <td>99995</td>\n",
       "      <td>137810</td>\n",
       "      <td>2147-02-08 08:00:00</td>\n",
       "      <td>2147-02-11 13:15:00</td>\n",
       "      <td>NaT</td>\n",
       "      <td>ELECTIVE</td>\n",
       "      <td>NaT</td>\n",
       "      <td>NaN</td>\n",
       "    </tr>\n",
       "    <tr>\n",
       "      <th>58975</th>\n",
       "      <td>99999</td>\n",
       "      <td>113369</td>\n",
       "      <td>2117-12-30 07:15:00</td>\n",
       "      <td>2118-01-04 16:30:00</td>\n",
       "      <td>NaT</td>\n",
       "      <td>ELECTIVE</td>\n",
       "      <td>NaT</td>\n",
       "      <td>NaN</td>\n",
       "    </tr>\n",
       "  </tbody>\n",
       "</table>\n",
       "<p>100 rows × 8 columns</p>\n",
       "</div>"
      ],
      "text/plain": [
       "       SUBJECT_ID  HADM_ID           ADMITTIME           DISCHTIME DEATHTIME  \\\n",
       "58876       99660   189028 2144-05-17 18:51:00 2144-05-23 14:10:00       NaT   \n",
       "58877       99661   177077 2160-05-11 23:46:00 2160-05-15 15:06:00       NaT   \n",
       "58878       99666   128787 2171-07-24 16:38:00 2171-08-07 13:40:00       NaT   \n",
       "58879       99669   162441 2171-05-06 07:15:00 2171-05-15 14:15:00       NaT   \n",
       "58880       99674   101645 2105-06-12 19:45:00 2105-06-19 16:45:00       NaT   \n",
       "...           ...      ...                 ...                 ...       ...   \n",
       "58971       99985   176670 2181-01-27 02:47:00 2181-02-12 17:05:00       NaT   \n",
       "58972       99991   151118 2184-12-24 08:30:00 2185-01-05 12:15:00       NaT   \n",
       "58973       99992   197084 2144-07-25 18:03:00 2144-07-28 17:56:00       NaT   \n",
       "58974       99995   137810 2147-02-08 08:00:00 2147-02-11 13:15:00       NaT   \n",
       "58975       99999   113369 2117-12-30 07:15:00 2118-01-04 16:30:00       NaT   \n",
       "\n",
       "      ADMISSION_TYPE NEXT_ADMITTIME NEXT_ADMISSION_TYPE  \n",
       "58876      EMERGENCY            NaT                 NaN  \n",
       "58877      EMERGENCY            NaT                 NaN  \n",
       "58878      EMERGENCY            NaT                 NaN  \n",
       "58879       ELECTIVE            NaT                 NaN  \n",
       "58880      EMERGENCY            NaT                 NaN  \n",
       "...              ...            ...                 ...  \n",
       "58971      EMERGENCY            NaT                 NaN  \n",
       "58972       ELECTIVE            NaT                 NaN  \n",
       "58973      EMERGENCY            NaT                 NaN  \n",
       "58974       ELECTIVE            NaT                 NaN  \n",
       "58975       ELECTIVE            NaT                 NaN  \n",
       "\n",
       "[100 rows x 8 columns]"
      ]
     },
     "execution_count": 15,
     "metadata": {},
     "output_type": "execute_result"
    }
   ],
   "source": [
    "df_adm2.tail(100)\n"
   ]
  },
  {
   "cell_type": "code",
   "execution_count": 16,
   "metadata": {},
   "outputs": [],
   "source": [
    "Rows_elective = df_adm2.NEXT_ADMISSION_TYPE == 'ELECTIVE'\n",
    "#Rows_elective\n",
    "df_adm2.loc[Rows_elective,'NEXT_ADMITTIME'] = pd.NaT\n",
    "df_adm2.loc[Rows_elective,'NEXT_ADMISSION_TYPE'] = np.NaN\n",
    "\n"
   ]
  },
  {
   "cell_type": "code",
   "execution_count": 17,
   "metadata": {},
   "outputs": [],
   "source": [
    "#sort by subject_ID and admission date\n",
    "# it is safer to sort right before the fill in case something changed the order above\n",
    "\n",
    "df_adm2 = df_adm2.sort_values(['SUBJECT_ID','ADMITTIME'])\n",
    "# back fill (this will take a little while)\n",
    "df_adm2[['NEXT_ADMITTIME','NEXT_ADMISSION_TYPE']] = df_adm2.groupby(['SUBJECT_ID'])[['NEXT_ADMITTIME','NEXT_ADMISSION_TYPE']].fillna(method = 'bfill')\n"
   ]
  },
  {
   "cell_type": "code",
   "execution_count": 18,
   "metadata": {},
   "outputs": [
    {
     "data": {
      "text/html": [
       "<div>\n",
       "<style scoped>\n",
       "    .dataframe tbody tr th:only-of-type {\n",
       "        vertical-align: middle;\n",
       "    }\n",
       "\n",
       "    .dataframe tbody tr th {\n",
       "        vertical-align: top;\n",
       "    }\n",
       "\n",
       "    .dataframe thead th {\n",
       "        text-align: right;\n",
       "    }\n",
       "</style>\n",
       "<table border=\"1\" class=\"dataframe\">\n",
       "  <thead>\n",
       "    <tr style=\"text-align: right;\">\n",
       "      <th></th>\n",
       "      <th>SUBJECT_ID</th>\n",
       "      <th>HADM_ID</th>\n",
       "      <th>ADMITTIME</th>\n",
       "      <th>DISCHTIME</th>\n",
       "      <th>DEATHTIME</th>\n",
       "      <th>ADMISSION_TYPE</th>\n",
       "      <th>NEXT_ADMITTIME</th>\n",
       "      <th>NEXT_ADMISSION_TYPE</th>\n",
       "    </tr>\n",
       "  </thead>\n",
       "  <tbody>\n",
       "    <tr>\n",
       "      <th>0</th>\n",
       "      <td>2</td>\n",
       "      <td>163353</td>\n",
       "      <td>2138-07-17 19:04:00</td>\n",
       "      <td>2138-07-21 15:48:00</td>\n",
       "      <td>NaT</td>\n",
       "      <td>NEWBORN</td>\n",
       "      <td>NaT</td>\n",
       "      <td>NaN</td>\n",
       "    </tr>\n",
       "    <tr>\n",
       "      <th>1</th>\n",
       "      <td>3</td>\n",
       "      <td>145834</td>\n",
       "      <td>2101-10-20 19:08:00</td>\n",
       "      <td>2101-10-31 13:58:00</td>\n",
       "      <td>NaT</td>\n",
       "      <td>EMERGENCY</td>\n",
       "      <td>NaT</td>\n",
       "      <td>NaN</td>\n",
       "    </tr>\n",
       "    <tr>\n",
       "      <th>2</th>\n",
       "      <td>4</td>\n",
       "      <td>185777</td>\n",
       "      <td>2191-03-16 00:28:00</td>\n",
       "      <td>2191-03-23 18:41:00</td>\n",
       "      <td>NaT</td>\n",
       "      <td>EMERGENCY</td>\n",
       "      <td>NaT</td>\n",
       "      <td>NaN</td>\n",
       "    </tr>\n",
       "    <tr>\n",
       "      <th>3</th>\n",
       "      <td>5</td>\n",
       "      <td>178980</td>\n",
       "      <td>2103-02-02 04:31:00</td>\n",
       "      <td>2103-02-04 12:15:00</td>\n",
       "      <td>NaT</td>\n",
       "      <td>NEWBORN</td>\n",
       "      <td>NaT</td>\n",
       "      <td>NaN</td>\n",
       "    </tr>\n",
       "    <tr>\n",
       "      <th>4</th>\n",
       "      <td>6</td>\n",
       "      <td>107064</td>\n",
       "      <td>2175-05-30 07:15:00</td>\n",
       "      <td>2175-06-15 16:00:00</td>\n",
       "      <td>NaT</td>\n",
       "      <td>ELECTIVE</td>\n",
       "      <td>NaT</td>\n",
       "      <td>NaN</td>\n",
       "    </tr>\n",
       "  </tbody>\n",
       "</table>\n",
       "</div>"
      ],
      "text/plain": [
       "   SUBJECT_ID  HADM_ID           ADMITTIME           DISCHTIME DEATHTIME  \\\n",
       "0           2   163353 2138-07-17 19:04:00 2138-07-21 15:48:00       NaT   \n",
       "1           3   145834 2101-10-20 19:08:00 2101-10-31 13:58:00       NaT   \n",
       "2           4   185777 2191-03-16 00:28:00 2191-03-23 18:41:00       NaT   \n",
       "3           5   178980 2103-02-02 04:31:00 2103-02-04 12:15:00       NaT   \n",
       "4           6   107064 2175-05-30 07:15:00 2175-06-15 16:00:00       NaT   \n",
       "\n",
       "  ADMISSION_TYPE NEXT_ADMITTIME NEXT_ADMISSION_TYPE  \n",
       "0        NEWBORN            NaT                 NaN  \n",
       "1      EMERGENCY            NaT                 NaN  \n",
       "2      EMERGENCY            NaT                 NaN  \n",
       "3        NEWBORN            NaT                 NaN  \n",
       "4       ELECTIVE            NaT                 NaN  "
      ]
     },
     "execution_count": 18,
     "metadata": {},
     "output_type": "execute_result"
    }
   ],
   "source": [
    "df_adm2.head()"
   ]
  },
  {
   "cell_type": "code",
   "execution_count": 19,
   "metadata": {},
   "outputs": [],
   "source": [
    "df_adm2['DAYS_NEXT_ADMIT'] = (df_adm2.NEXT_ADMITTIME - df_adm2.DISCHTIME).dt.total_seconds()/(24*60*60)"
   ]
  },
  {
   "cell_type": "code",
   "execution_count": 20,
   "metadata": {},
   "outputs": [
    {
     "data": {
      "text/html": [
       "<div>\n",
       "<style scoped>\n",
       "    .dataframe tbody tr th:only-of-type {\n",
       "        vertical-align: middle;\n",
       "    }\n",
       "\n",
       "    .dataframe tbody tr th {\n",
       "        vertical-align: top;\n",
       "    }\n",
       "\n",
       "    .dataframe thead th {\n",
       "        text-align: right;\n",
       "    }\n",
       "</style>\n",
       "<table border=\"1\" class=\"dataframe\">\n",
       "  <thead>\n",
       "    <tr style=\"text-align: right;\">\n",
       "      <th></th>\n",
       "      <th>SUBJECT_ID</th>\n",
       "      <th>HADM_ID</th>\n",
       "      <th>ADMITTIME</th>\n",
       "      <th>DISCHTIME</th>\n",
       "      <th>DEATHTIME</th>\n",
       "      <th>ADMISSION_TYPE</th>\n",
       "      <th>NEXT_ADMITTIME</th>\n",
       "      <th>NEXT_ADMISSION_TYPE</th>\n",
       "      <th>DAYS_NEXT_ADMIT</th>\n",
       "    </tr>\n",
       "  </thead>\n",
       "  <tbody>\n",
       "    <tr>\n",
       "      <th>0</th>\n",
       "      <td>2</td>\n",
       "      <td>163353</td>\n",
       "      <td>2138-07-17 19:04:00</td>\n",
       "      <td>2138-07-21 15:48:00</td>\n",
       "      <td>NaT</td>\n",
       "      <td>NEWBORN</td>\n",
       "      <td>NaT</td>\n",
       "      <td>NaN</td>\n",
       "      <td>NaN</td>\n",
       "    </tr>\n",
       "    <tr>\n",
       "      <th>1</th>\n",
       "      <td>3</td>\n",
       "      <td>145834</td>\n",
       "      <td>2101-10-20 19:08:00</td>\n",
       "      <td>2101-10-31 13:58:00</td>\n",
       "      <td>NaT</td>\n",
       "      <td>EMERGENCY</td>\n",
       "      <td>NaT</td>\n",
       "      <td>NaN</td>\n",
       "      <td>NaN</td>\n",
       "    </tr>\n",
       "    <tr>\n",
       "      <th>2</th>\n",
       "      <td>4</td>\n",
       "      <td>185777</td>\n",
       "      <td>2191-03-16 00:28:00</td>\n",
       "      <td>2191-03-23 18:41:00</td>\n",
       "      <td>NaT</td>\n",
       "      <td>EMERGENCY</td>\n",
       "      <td>NaT</td>\n",
       "      <td>NaN</td>\n",
       "      <td>NaN</td>\n",
       "    </tr>\n",
       "    <tr>\n",
       "      <th>3</th>\n",
       "      <td>5</td>\n",
       "      <td>178980</td>\n",
       "      <td>2103-02-02 04:31:00</td>\n",
       "      <td>2103-02-04 12:15:00</td>\n",
       "      <td>NaT</td>\n",
       "      <td>NEWBORN</td>\n",
       "      <td>NaT</td>\n",
       "      <td>NaN</td>\n",
       "      <td>NaN</td>\n",
       "    </tr>\n",
       "    <tr>\n",
       "      <th>4</th>\n",
       "      <td>6</td>\n",
       "      <td>107064</td>\n",
       "      <td>2175-05-30 07:15:00</td>\n",
       "      <td>2175-06-15 16:00:00</td>\n",
       "      <td>NaT</td>\n",
       "      <td>ELECTIVE</td>\n",
       "      <td>NaT</td>\n",
       "      <td>NaN</td>\n",
       "      <td>NaN</td>\n",
       "    </tr>\n",
       "    <tr>\n",
       "      <th>5</th>\n",
       "      <td>7</td>\n",
       "      <td>118037</td>\n",
       "      <td>2121-05-23 15:05:00</td>\n",
       "      <td>2121-05-27 11:57:00</td>\n",
       "      <td>NaT</td>\n",
       "      <td>NEWBORN</td>\n",
       "      <td>NaT</td>\n",
       "      <td>NaN</td>\n",
       "      <td>NaN</td>\n",
       "    </tr>\n",
       "    <tr>\n",
       "      <th>6</th>\n",
       "      <td>8</td>\n",
       "      <td>159514</td>\n",
       "      <td>2117-11-20 10:22:00</td>\n",
       "      <td>2117-11-24 14:20:00</td>\n",
       "      <td>NaT</td>\n",
       "      <td>NEWBORN</td>\n",
       "      <td>NaT</td>\n",
       "      <td>NaN</td>\n",
       "      <td>NaN</td>\n",
       "    </tr>\n",
       "    <tr>\n",
       "      <th>7</th>\n",
       "      <td>9</td>\n",
       "      <td>150750</td>\n",
       "      <td>2149-11-09 13:06:00</td>\n",
       "      <td>2149-11-14 10:15:00</td>\n",
       "      <td>2149-11-14 10:15:00</td>\n",
       "      <td>EMERGENCY</td>\n",
       "      <td>NaT</td>\n",
       "      <td>NaN</td>\n",
       "      <td>NaN</td>\n",
       "    </tr>\n",
       "    <tr>\n",
       "      <th>8</th>\n",
       "      <td>10</td>\n",
       "      <td>184167</td>\n",
       "      <td>2103-06-28 11:36:00</td>\n",
       "      <td>2103-07-06 12:10:00</td>\n",
       "      <td>NaT</td>\n",
       "      <td>NEWBORN</td>\n",
       "      <td>NaT</td>\n",
       "      <td>NaN</td>\n",
       "      <td>NaN</td>\n",
       "    </tr>\n",
       "    <tr>\n",
       "      <th>9</th>\n",
       "      <td>11</td>\n",
       "      <td>194540</td>\n",
       "      <td>2178-04-16 06:18:00</td>\n",
       "      <td>2178-05-11 19:00:00</td>\n",
       "      <td>NaT</td>\n",
       "      <td>EMERGENCY</td>\n",
       "      <td>NaT</td>\n",
       "      <td>NaN</td>\n",
       "      <td>NaN</td>\n",
       "    </tr>\n",
       "    <tr>\n",
       "      <th>10</th>\n",
       "      <td>12</td>\n",
       "      <td>112213</td>\n",
       "      <td>2104-08-07 10:15:00</td>\n",
       "      <td>2104-08-20 02:57:00</td>\n",
       "      <td>2104-08-20 02:57:00</td>\n",
       "      <td>ELECTIVE</td>\n",
       "      <td>NaT</td>\n",
       "      <td>NaN</td>\n",
       "      <td>NaN</td>\n",
       "    </tr>\n",
       "    <tr>\n",
       "      <th>11</th>\n",
       "      <td>13</td>\n",
       "      <td>143045</td>\n",
       "      <td>2167-01-08 18:43:00</td>\n",
       "      <td>2167-01-15 15:15:00</td>\n",
       "      <td>NaT</td>\n",
       "      <td>EMERGENCY</td>\n",
       "      <td>NaT</td>\n",
       "      <td>NaN</td>\n",
       "      <td>NaN</td>\n",
       "    </tr>\n",
       "    <tr>\n",
       "      <th>12</th>\n",
       "      <td>16</td>\n",
       "      <td>103251</td>\n",
       "      <td>2178-02-03 06:35:00</td>\n",
       "      <td>2178-02-05 10:51:00</td>\n",
       "      <td>NaT</td>\n",
       "      <td>NEWBORN</td>\n",
       "      <td>NaT</td>\n",
       "      <td>NaN</td>\n",
       "      <td>NaN</td>\n",
       "    </tr>\n",
       "    <tr>\n",
       "      <th>13</th>\n",
       "      <td>17</td>\n",
       "      <td>194023</td>\n",
       "      <td>2134-12-27 07:15:00</td>\n",
       "      <td>2134-12-31 16:05:00</td>\n",
       "      <td>NaT</td>\n",
       "      <td>ELECTIVE</td>\n",
       "      <td>2135-05-09 14:11:00</td>\n",
       "      <td>EMERGENCY</td>\n",
       "      <td>128.920833</td>\n",
       "    </tr>\n",
       "    <tr>\n",
       "      <th>14</th>\n",
       "      <td>17</td>\n",
       "      <td>161087</td>\n",
       "      <td>2135-05-09 14:11:00</td>\n",
       "      <td>2135-05-13 14:40:00</td>\n",
       "      <td>NaT</td>\n",
       "      <td>EMERGENCY</td>\n",
       "      <td>NaT</td>\n",
       "      <td>NaN</td>\n",
       "      <td>NaN</td>\n",
       "    </tr>\n",
       "    <tr>\n",
       "      <th>15</th>\n",
       "      <td>18</td>\n",
       "      <td>188822</td>\n",
       "      <td>2167-10-02 11:18:00</td>\n",
       "      <td>2167-10-04 16:15:00</td>\n",
       "      <td>NaT</td>\n",
       "      <td>EMERGENCY</td>\n",
       "      <td>NaT</td>\n",
       "      <td>NaN</td>\n",
       "      <td>NaN</td>\n",
       "    </tr>\n",
       "    <tr>\n",
       "      <th>16</th>\n",
       "      <td>19</td>\n",
       "      <td>109235</td>\n",
       "      <td>2108-08-05 16:25:00</td>\n",
       "      <td>2108-08-11 11:29:00</td>\n",
       "      <td>NaT</td>\n",
       "      <td>EMERGENCY</td>\n",
       "      <td>NaT</td>\n",
       "      <td>NaN</td>\n",
       "      <td>NaN</td>\n",
       "    </tr>\n",
       "    <tr>\n",
       "      <th>17</th>\n",
       "      <td>20</td>\n",
       "      <td>157681</td>\n",
       "      <td>2183-04-28 09:45:00</td>\n",
       "      <td>2183-05-03 14:45:00</td>\n",
       "      <td>NaT</td>\n",
       "      <td>ELECTIVE</td>\n",
       "      <td>NaT</td>\n",
       "      <td>NaN</td>\n",
       "      <td>NaN</td>\n",
       "    </tr>\n",
       "    <tr>\n",
       "      <th>18</th>\n",
       "      <td>21</td>\n",
       "      <td>109451</td>\n",
       "      <td>2134-09-11 12:17:00</td>\n",
       "      <td>2134-09-24 16:15:00</td>\n",
       "      <td>NaT</td>\n",
       "      <td>EMERGENCY</td>\n",
       "      <td>2135-01-30 20:50:00</td>\n",
       "      <td>EMERGENCY</td>\n",
       "      <td>128.190972</td>\n",
       "    </tr>\n",
       "    <tr>\n",
       "      <th>19</th>\n",
       "      <td>21</td>\n",
       "      <td>111970</td>\n",
       "      <td>2135-01-30 20:50:00</td>\n",
       "      <td>2135-02-08 02:08:00</td>\n",
       "      <td>2135-02-08 02:08:00</td>\n",
       "      <td>EMERGENCY</td>\n",
       "      <td>NaT</td>\n",
       "      <td>NaN</td>\n",
       "      <td>NaN</td>\n",
       "    </tr>\n",
       "  </tbody>\n",
       "</table>\n",
       "</div>"
      ],
      "text/plain": [
       "    SUBJECT_ID  HADM_ID           ADMITTIME           DISCHTIME  \\\n",
       "0            2   163353 2138-07-17 19:04:00 2138-07-21 15:48:00   \n",
       "1            3   145834 2101-10-20 19:08:00 2101-10-31 13:58:00   \n",
       "2            4   185777 2191-03-16 00:28:00 2191-03-23 18:41:00   \n",
       "3            5   178980 2103-02-02 04:31:00 2103-02-04 12:15:00   \n",
       "4            6   107064 2175-05-30 07:15:00 2175-06-15 16:00:00   \n",
       "5            7   118037 2121-05-23 15:05:00 2121-05-27 11:57:00   \n",
       "6            8   159514 2117-11-20 10:22:00 2117-11-24 14:20:00   \n",
       "7            9   150750 2149-11-09 13:06:00 2149-11-14 10:15:00   \n",
       "8           10   184167 2103-06-28 11:36:00 2103-07-06 12:10:00   \n",
       "9           11   194540 2178-04-16 06:18:00 2178-05-11 19:00:00   \n",
       "10          12   112213 2104-08-07 10:15:00 2104-08-20 02:57:00   \n",
       "11          13   143045 2167-01-08 18:43:00 2167-01-15 15:15:00   \n",
       "12          16   103251 2178-02-03 06:35:00 2178-02-05 10:51:00   \n",
       "13          17   194023 2134-12-27 07:15:00 2134-12-31 16:05:00   \n",
       "14          17   161087 2135-05-09 14:11:00 2135-05-13 14:40:00   \n",
       "15          18   188822 2167-10-02 11:18:00 2167-10-04 16:15:00   \n",
       "16          19   109235 2108-08-05 16:25:00 2108-08-11 11:29:00   \n",
       "17          20   157681 2183-04-28 09:45:00 2183-05-03 14:45:00   \n",
       "18          21   109451 2134-09-11 12:17:00 2134-09-24 16:15:00   \n",
       "19          21   111970 2135-01-30 20:50:00 2135-02-08 02:08:00   \n",
       "\n",
       "             DEATHTIME ADMISSION_TYPE      NEXT_ADMITTIME NEXT_ADMISSION_TYPE  \\\n",
       "0                  NaT        NEWBORN                 NaT                 NaN   \n",
       "1                  NaT      EMERGENCY                 NaT                 NaN   \n",
       "2                  NaT      EMERGENCY                 NaT                 NaN   \n",
       "3                  NaT        NEWBORN                 NaT                 NaN   \n",
       "4                  NaT       ELECTIVE                 NaT                 NaN   \n",
       "5                  NaT        NEWBORN                 NaT                 NaN   \n",
       "6                  NaT        NEWBORN                 NaT                 NaN   \n",
       "7  2149-11-14 10:15:00      EMERGENCY                 NaT                 NaN   \n",
       "8                  NaT        NEWBORN                 NaT                 NaN   \n",
       "9                  NaT      EMERGENCY                 NaT                 NaN   \n",
       "10 2104-08-20 02:57:00       ELECTIVE                 NaT                 NaN   \n",
       "11                 NaT      EMERGENCY                 NaT                 NaN   \n",
       "12                 NaT        NEWBORN                 NaT                 NaN   \n",
       "13                 NaT       ELECTIVE 2135-05-09 14:11:00           EMERGENCY   \n",
       "14                 NaT      EMERGENCY                 NaT                 NaN   \n",
       "15                 NaT      EMERGENCY                 NaT                 NaN   \n",
       "16                 NaT      EMERGENCY                 NaT                 NaN   \n",
       "17                 NaT       ELECTIVE                 NaT                 NaN   \n",
       "18                 NaT      EMERGENCY 2135-01-30 20:50:00           EMERGENCY   \n",
       "19 2135-02-08 02:08:00      EMERGENCY                 NaT                 NaN   \n",
       "\n",
       "    DAYS_NEXT_ADMIT  \n",
       "0               NaN  \n",
       "1               NaN  \n",
       "2               NaN  \n",
       "3               NaN  \n",
       "4               NaN  \n",
       "5               NaN  \n",
       "6               NaN  \n",
       "7               NaN  \n",
       "8               NaN  \n",
       "9               NaN  \n",
       "10              NaN  \n",
       "11              NaN  \n",
       "12              NaN  \n",
       "13       128.920833  \n",
       "14              NaN  \n",
       "15              NaN  \n",
       "16              NaN  \n",
       "17              NaN  \n",
       "18       128.190972  \n",
       "19              NaN  "
      ]
     },
     "execution_count": 20,
     "metadata": {},
     "output_type": "execute_result"
    }
   ],
   "source": [
    "df_adm2.head(20)"
   ]
  },
  {
   "cell_type": "code",
   "execution_count": 21,
   "metadata": {},
   "outputs": [
    {
     "data": {
      "text/html": [
       "<div>\n",
       "<style scoped>\n",
       "    .dataframe tbody tr th:only-of-type {\n",
       "        vertical-align: middle;\n",
       "    }\n",
       "\n",
       "    .dataframe tbody tr th {\n",
       "        vertical-align: top;\n",
       "    }\n",
       "\n",
       "    .dataframe thead th {\n",
       "        text-align: right;\n",
       "    }\n",
       "</style>\n",
       "<table border=\"1\" class=\"dataframe\">\n",
       "  <thead>\n",
       "    <tr style=\"text-align: right;\">\n",
       "      <th></th>\n",
       "      <th>SUBJECT_ID</th>\n",
       "      <th>ADMITTIME</th>\n",
       "      <th>ADMISSION_TYPE</th>\n",
       "      <th>NEXT_ADMITTIME</th>\n",
       "      <th>NEXT_ADMISSION_TYPE</th>\n",
       "    </tr>\n",
       "  </thead>\n",
       "  <tbody>\n",
       "    <tr>\n",
       "      <th>165</th>\n",
       "      <td>124</td>\n",
       "      <td>2160-06-24 21:25:00</td>\n",
       "      <td>EMERGENCY</td>\n",
       "      <td>2161-12-17 03:39:00</td>\n",
       "      <td>EMERGENCY</td>\n",
       "    </tr>\n",
       "    <tr>\n",
       "      <th>166</th>\n",
       "      <td>124</td>\n",
       "      <td>2161-12-17 03:39:00</td>\n",
       "      <td>EMERGENCY</td>\n",
       "      <td>2165-12-31 18:55:00</td>\n",
       "      <td>EMERGENCY</td>\n",
       "    </tr>\n",
       "    <tr>\n",
       "      <th>167</th>\n",
       "      <td>124</td>\n",
       "      <td>2165-05-21 21:02:00</td>\n",
       "      <td>ELECTIVE</td>\n",
       "      <td>2165-12-31 18:55:00</td>\n",
       "      <td>EMERGENCY</td>\n",
       "    </tr>\n",
       "    <tr>\n",
       "      <th>168</th>\n",
       "      <td>124</td>\n",
       "      <td>2165-12-31 18:55:00</td>\n",
       "      <td>EMERGENCY</td>\n",
       "      <td>NaT</td>\n",
       "      <td>NaN</td>\n",
       "    </tr>\n",
       "  </tbody>\n",
       "</table>\n",
       "</div>"
      ],
      "text/plain": [
       "     SUBJECT_ID           ADMITTIME ADMISSION_TYPE      NEXT_ADMITTIME  \\\n",
       "165         124 2160-06-24 21:25:00      EMERGENCY 2161-12-17 03:39:00   \n",
       "166         124 2161-12-17 03:39:00      EMERGENCY 2165-12-31 18:55:00   \n",
       "167         124 2165-05-21 21:02:00       ELECTIVE 2165-12-31 18:55:00   \n",
       "168         124 2165-12-31 18:55:00      EMERGENCY                 NaT   \n",
       "\n",
       "    NEXT_ADMISSION_TYPE  \n",
       "165           EMERGENCY  \n",
       "166           EMERGENCY  \n",
       "167           EMERGENCY  \n",
       "168                 NaN  "
      ]
     },
     "execution_count": 21,
     "metadata": {},
     "output_type": "execute_result"
    }
   ],
   "source": [
    "# Checking the subject id 124 if our previous codes are doing fine or not\n",
    "df_adm2.loc[df_adm2.SUBJECT_ID == 124,['SUBJECT_ID','ADMITTIME','ADMISSION_TYPE','NEXT_ADMITTIME','NEXT_ADMISSION_TYPE']]"
   ]
  },
  {
   "cell_type": "code",
   "execution_count": 22,
   "metadata": {},
   "outputs": [
    {
     "name": "stdout",
     "output_type": "stream",
     "text": [
      "Num_readmitted: 11399\n",
      "Total Number: 58976\n"
     ]
    }
   ],
   "source": [
    "print('Num_readmitted:', (~df_adm2.DAYS_NEXT_ADMIT.isnull()).sum())\n",
    "print('Total Number:', len(df_adm2))\n"
   ]
  },
  {
   "cell_type": "code",
   "execution_count": 23,
   "metadata": {},
   "outputs": [
    {
     "name": "stdout",
     "output_type": "stream",
     "text": [
      "19.328201302224635\n"
     ]
    }
   ],
   "source": [
    "num_readmitted = (~df_adm2.DAYS_NEXT_ADMIT.isnull()).sum()\n",
    "total_number = len(df_adm2)\n",
    "\n",
    "percentage_readmission = (num_readmitted/total_number) * 100\n",
    "print(percentage_readmission)\n",
    "# about 19% of patients have been readmitted \n",
    "\n"
   ]
  },
  {
   "cell_type": "code",
   "execution_count": 24,
   "metadata": {},
   "outputs": [
    {
     "data": {
      "text/plain": [
       "3227"
      ]
     },
     "execution_count": 24,
     "metadata": {},
     "output_type": "execute_result"
    }
   ],
   "source": [
    "num_readmitted_less_30 = (df_adm2.DAYS_NEXT_ADMIT<30.000000).sum()\n",
    "num_readmitted_less_30\n"
   ]
  },
  {
   "cell_type": "markdown",
   "metadata": {},
   "source": [
    "\n",
    "58976 total number of patients \n",
    "11399 were readmitted \n",
    "3227 patients have been readmitted before in less than 30 days after discharge from the hospital\n"
   ]
  },
  {
   "cell_type": "code",
   "execution_count": 25,
   "metadata": {},
   "outputs": [
    {
     "data": {
      "image/png": "[encoded data removed]",
      "text/plain": [
       "<Figure size 1000x600 with 1 Axes>"
      ]
     },
     "metadata": {},
     "output_type": "display_data"
    }
   ],
   "source": [
    "import seaborn as sns\n",
    "import matplotlib.pyplot as plt\n",
    "\n",
    "# Set the style for the plot\n",
    "sns.set(style=\"whitegrid\")\n",
    "\n",
    "# Create a figure and axis with a specific size\n",
    "plt.figure(figsize=(10, 6))\n",
    "\n",
    "# Plot the histogram using Seaborn\n",
    "sns.histplot(data=df_adm2.loc[~df_adm2.DAYS_NEXT_ADMIT.isnull(),'DAYS_NEXT_ADMIT'], bins=range(0, 365, 30), kde=False, color='steelblue', edgecolor='black')\n",
    "\n",
    "# Set plot title and labels\n",
    "plt.title('Histogram of Days Between Readmissions')\n",
    "plt.xlabel('Days Between Admissions')\n",
    "plt.ylabel('Counts')\n",
    "\n",
    "# Set x-axis and y-axis limits\n",
    "plt.xlim([0, 365])\n",
    "\n",
    "# Show plot\n",
    "plt.show()"
   ]
  },
  {
   "cell_type": "code",
   "execution_count": 26,
   "metadata": {},
   "outputs": [
    {
     "name": "stdout",
     "output_type": "stream",
     "text": [
      "Requirement already satisfied: seaborn in c:\\users\\t\\appdata\\local\\programs\\python\\python311\\lib\\site-packages (0.12.2)\n",
      "Requirement already satisfied: numpy!=1.24.0,>=1.17 in c:\\users\\t\\appdata\\local\\programs\\python\\python311\\lib\\site-packages (from seaborn) (1.25.1)\n",
      "Requirement already satisfied: pandas>=0.25 in c:\\users\\t\\appdata\\local\\programs\\python\\python311\\lib\\site-packages (from seaborn) (2.0.3)\n",
      "Requirement already satisfied: matplotlib!=3.6.1,>=3.1 in c:\\users\\t\\appdata\\local\\programs\\python\\python311\\lib\\site-packages (from seaborn) (3.7.2)\n",
      "Requirement already satisfied: contourpy>=1.0.1 in c:\\users\\t\\appdata\\local\\programs\\python\\python311\\lib\\site-packages (from matplotlib!=3.6.1,>=3.1->seaborn) (1.1.0)\n",
      "Requirement already satisfied: cycler>=0.10 in c:\\users\\t\\appdata\\local\\programs\\python\\python311\\lib\\site-packages (from matplotlib!=3.6.1,>=3.1->seaborn) (0.11.0)\n",
      "Requirement already satisfied: fonttools>=4.22.0 in c:\\users\\t\\appdata\\local\\programs\\python\\python311\\lib\\site-packages (from matplotlib!=3.6.1,>=3.1->seaborn) (4.42.0)\n",
      "Requirement already satisfied: kiwisolver>=1.0.1 in c:\\users\\t\\appdata\\local\\programs\\python\\python311\\lib\\site-packages (from matplotlib!=3.6.1,>=3.1->seaborn) (1.4.4)\n",
      "Requirement already satisfied: packaging>=20.0 in c:\\users\\t\\appdata\\local\\programs\\python\\python311\\lib\\site-packages (from matplotlib!=3.6.1,>=3.1->seaborn) (23.1)\n",
      "Requirement already satisfied: pillow>=6.2.0 in c:\\users\\t\\appdata\\local\\programs\\python\\python311\\lib\\site-packages (from matplotlib!=3.6.1,>=3.1->seaborn) (10.0.0)\n",
      "Requirement already satisfied: pyparsing<3.1,>=2.3.1 in c:\\users\\t\\appdata\\local\\programs\\python\\python311\\lib\\site-packages (from matplotlib!=3.6.1,>=3.1->seaborn) (3.0.9)\n",
      "Requirement already satisfied: python-dateutil>=2.7 in c:\\users\\t\\appdata\\local\\programs\\python\\python311\\lib\\site-packages (from matplotlib!=3.6.1,>=3.1->seaborn) (2.8.2)\n",
      "Requirement already satisfied: pytz>=2020.1 in c:\\users\\t\\appdata\\local\\programs\\python\\python311\\lib\\site-packages (from pandas>=0.25->seaborn) (2023.3)\n",
      "Requirement already satisfied: tzdata>=2022.1 in c:\\users\\t\\appdata\\local\\programs\\python\\python311\\lib\\site-packages (from pandas>=0.25->seaborn) (2023.3)\n",
      "Requirement already satisfied: six>=1.5 in c:\\users\\t\\appdata\\local\\programs\\python\\python311\\lib\\site-packages (from python-dateutil>=2.7->matplotlib!=3.6.1,>=3.1->seaborn) (1.16.0)\n"
     ]
    },
    {
     "name": "stderr",
     "output_type": "stream",
     "text": [
      "\n",
      "[notice] A new release of pip is available: 23.1.2 -> 23.2.1\n",
      "[notice] To update, run: python.exe -m pip install --upgrade pip\n"
     ]
    }
   ],
   "source": [
    "!pip install seaborn"
   ]
  },
  {
   "cell_type": "code",
   "execution_count": 27,
   "metadata": {},
   "outputs": [
    {
     "name": "stderr",
     "output_type": "stream",
     "text": [
      "C:\\Users\\T\\AppData\\Local\\Temp\\ipykernel_508\\2246050120.py:1: DtypeWarning: Columns (4,5) have mixed types. Specify dtype option on import or set low_memory=False.\n",
      "  df_notes = pd.read_csv(\"NOTEEVENTS.csv.gz\")\n"
     ]
    }
   ],
   "source": [
    "df_notes = pd.read_csv(\"NOTEEVENTS.csv.gz\")\n"
   ]
  },
  {
   "cell_type": "code",
   "execution_count": 28,
   "metadata": {},
   "outputs": [],
   "source": [
    "use_cols = ['SUBJECT_ID', 'HADM_ID', 'CATEGORY', 'TEXT']\n"
   ]
  },
  {
   "cell_type": "code",
   "execution_count": 29,
   "metadata": {},
   "outputs": [],
   "source": [
    "df_notes = pd.read_csv(\"NOTEEVENTS.csv.gz\",usecols= use_cols, low_memory = False, engine = \"c\")\n"
   ]
  },
  {
   "cell_type": "code",
   "execution_count": 30,
   "metadata": {},
   "outputs": [
    {
     "name": "stdout",
     "output_type": "stream",
     "text": [
      "Number of Notes: 2083180\n"
     ]
    }
   ],
   "source": [
    "print('Number of Notes: {}'.format(len(df_notes)))"
   ]
  },
  {
   "cell_type": "code",
   "execution_count": 31,
   "metadata": {},
   "outputs": [
    {
     "data": {
      "text/html": [
       "<div>\n",
       "<style scoped>\n",
       "    .dataframe tbody tr th:only-of-type {\n",
       "        vertical-align: middle;\n",
       "    }\n",
       "\n",
       "    .dataframe tbody tr th {\n",
       "        vertical-align: top;\n",
       "    }\n",
       "\n",
       "    .dataframe thead th {\n",
       "        text-align: right;\n",
       "    }\n",
       "</style>\n",
       "<table border=\"1\" class=\"dataframe\">\n",
       "  <thead>\n",
       "    <tr style=\"text-align: right;\">\n",
       "      <th></th>\n",
       "      <th>SUBJECT_ID</th>\n",
       "      <th>HADM_ID</th>\n",
       "      <th>CATEGORY</th>\n",
       "      <th>TEXT</th>\n",
       "    </tr>\n",
       "  </thead>\n",
       "  <tbody>\n",
       "    <tr>\n",
       "      <th>0</th>\n",
       "      <td>22532</td>\n",
       "      <td>167853.0</td>\n",
       "      <td>Discharge summary</td>\n",
       "      <td>Admission Date:  [**2151-7-16**]       Dischar...</td>\n",
       "    </tr>\n",
       "    <tr>\n",
       "      <th>1</th>\n",
       "      <td>13702</td>\n",
       "      <td>107527.0</td>\n",
       "      <td>Discharge summary</td>\n",
       "      <td>Admission Date:  [**2118-6-2**]       Discharg...</td>\n",
       "    </tr>\n",
       "    <tr>\n",
       "      <th>2</th>\n",
       "      <td>13702</td>\n",
       "      <td>167118.0</td>\n",
       "      <td>Discharge summary</td>\n",
       "      <td>Admission Date:  [**2119-5-4**]              D...</td>\n",
       "    </tr>\n",
       "    <tr>\n",
       "      <th>3</th>\n",
       "      <td>13702</td>\n",
       "      <td>196489.0</td>\n",
       "      <td>Discharge summary</td>\n",
       "      <td>Admission Date:  [**2124-7-21**]              ...</td>\n",
       "    </tr>\n",
       "    <tr>\n",
       "      <th>4</th>\n",
       "      <td>26880</td>\n",
       "      <td>135453.0</td>\n",
       "      <td>Discharge summary</td>\n",
       "      <td>Admission Date:  [**2162-3-3**]              D...</td>\n",
       "    </tr>\n",
       "  </tbody>\n",
       "</table>\n",
       "</div>"
      ],
      "text/plain": [
       "   SUBJECT_ID   HADM_ID           CATEGORY  \\\n",
       "0       22532  167853.0  Discharge summary   \n",
       "1       13702  107527.0  Discharge summary   \n",
       "2       13702  167118.0  Discharge summary   \n",
       "3       13702  196489.0  Discharge summary   \n",
       "4       26880  135453.0  Discharge summary   \n",
       "\n",
       "                                                TEXT  \n",
       "0  Admission Date:  [**2151-7-16**]       Dischar...  \n",
       "1  Admission Date:  [**2118-6-2**]       Discharg...  \n",
       "2  Admission Date:  [**2119-5-4**]              D...  \n",
       "3  Admission Date:  [**2124-7-21**]              ...  \n",
       "4  Admission Date:  [**2162-3-3**]              D...  "
      ]
     },
     "execution_count": 31,
     "metadata": {},
     "output_type": "execute_result"
    }
   ],
   "source": [
    "df_notes.head()"
   ]
  },
  {
   "cell_type": "code",
   "execution_count": 32,
   "metadata": {},
   "outputs": [
    {
     "data": {
      "text/plain": [
       "array(['Discharge summary', 'Echo', 'ECG', 'Nursing', 'Physician ',\n",
       "       'Rehab Services', 'Case Management ', 'Respiratory ', 'Nutrition',\n",
       "       'General', 'Social Work', 'Pharmacy', 'Consult', 'Radiology',\n",
       "       'Nursing/other'], dtype=object)"
      ]
     },
     "execution_count": 32,
     "metadata": {},
     "output_type": "execute_result"
    }
   ],
   "source": [
    "df_notes.CATEGORY.unique()"
   ]
  },
  {
   "cell_type": "code",
   "execution_count": 33,
   "metadata": {},
   "outputs": [
    {
     "data": {
      "text/plain": [
       "'Admission Date:  [**2151-7-16**]       Discharge Date:  [**2151-8-4**]\\n\\n\\nService:\\nADDENDUM:\\n\\nRADIOLOGIC STUDIES:  Radiologic studies also included a chest\\nCT, which confirmed cavitary lesions in the left lung apex\\nconsistent with infectious process/tuberculosis.  This also\\nmoderate-sized left pleural effusion.\\n\\nHEAD CT:  Head CT showed no intracranial hemorrhage or mass\\neffect, but old infarction consistent with past medical\\nhistory.\\n\\nABDOMINAL CT:  Abdominal CT showed lesions of\\nT10 and sacrum most likely secondary to osteoporosis. These can\\nbe followed by repeat imaging as an outpatient.\\n\\n\\n\\n                            [**First Name8 (NamePattern2) **] [**First Name4 (NamePattern1) 1775**] [**Last Name (NamePattern1) **], M.D.  [**MD Number(1) 1776**]\\n\\nDictated By:[**Hospital 1807**]\\nMEDQUIST36\\n\\nD:  [**2151-8-5**]  12:11\\nT:  [**2151-8-5**]  12:21\\nJOB#:  [**Job Number 1808**]\\n'"
      ]
     },
     "execution_count": 33,
     "metadata": {},
     "output_type": "execute_result"
    }
   ],
   "source": [
    "df_notes.TEXT.iloc[0]"
   ]
  },
  {
   "cell_type": "code",
   "execution_count": 34,
   "metadata": {},
   "outputs": [],
   "source": [
    "case_124 = df_notes.loc[df_notes.SUBJECT_ID == 124,['SUBJECT_ID','HADM_ID','CATEGORY','TEXT']]"
   ]
  },
  {
   "cell_type": "code",
   "execution_count": 35,
   "metadata": {},
   "outputs": [
    {
     "data": {
      "text/plain": [
       "array(['Discharge summary', 'Echo', 'ECG', 'Physician ', 'Nursing',\n",
       "       'Respiratory ', 'Rehab Services', 'Nutrition', 'General',\n",
       "       'Radiology', 'Nursing/other'], dtype=object)"
      ]
     },
     "execution_count": 35,
     "metadata": {},
     "output_type": "execute_result"
    }
   ],
   "source": [
    "case_124.CATEGORY.unique()"
   ]
  },
  {
   "cell_type": "code",
   "execution_count": 36,
   "metadata": {},
   "outputs": [],
   "source": [
    "# filter to discharge summary\n",
    "df_notes_dis_sum = df_notes.loc[df_notes.CATEGORY == 'Discharge summary']"
   ]
  },
  {
   "cell_type": "code",
   "execution_count": 37,
   "metadata": {},
   "outputs": [
    {
     "data": {
      "text/html": [
       "<div>\n",
       "<style scoped>\n",
       "    .dataframe tbody tr th:only-of-type {\n",
       "        vertical-align: middle;\n",
       "    }\n",
       "\n",
       "    .dataframe tbody tr th {\n",
       "        vertical-align: top;\n",
       "    }\n",
       "\n",
       "    .dataframe thead th {\n",
       "        text-align: right;\n",
       "    }\n",
       "</style>\n",
       "<table border=\"1\" class=\"dataframe\">\n",
       "  <thead>\n",
       "    <tr style=\"text-align: right;\">\n",
       "      <th></th>\n",
       "      <th>SUBJECT_ID</th>\n",
       "      <th>HADM_ID</th>\n",
       "      <th>CATEGORY</th>\n",
       "      <th>TEXT</th>\n",
       "    </tr>\n",
       "  </thead>\n",
       "  <tbody>\n",
       "    <tr>\n",
       "      <th>0</th>\n",
       "      <td>22532</td>\n",
       "      <td>167853.0</td>\n",
       "      <td>Discharge summary</td>\n",
       "      <td>Admission Date:  [**2151-7-16**]       Dischar...</td>\n",
       "    </tr>\n",
       "    <tr>\n",
       "      <th>1</th>\n",
       "      <td>13702</td>\n",
       "      <td>107527.0</td>\n",
       "      <td>Discharge summary</td>\n",
       "      <td>Admission Date:  [**2118-6-2**]       Discharg...</td>\n",
       "    </tr>\n",
       "    <tr>\n",
       "      <th>2</th>\n",
       "      <td>13702</td>\n",
       "      <td>167118.0</td>\n",
       "      <td>Discharge summary</td>\n",
       "      <td>Admission Date:  [**2119-5-4**]              D...</td>\n",
       "    </tr>\n",
       "    <tr>\n",
       "      <th>3</th>\n",
       "      <td>13702</td>\n",
       "      <td>196489.0</td>\n",
       "      <td>Discharge summary</td>\n",
       "      <td>Admission Date:  [**2124-7-21**]              ...</td>\n",
       "    </tr>\n",
       "    <tr>\n",
       "      <th>4</th>\n",
       "      <td>26880</td>\n",
       "      <td>135453.0</td>\n",
       "      <td>Discharge summary</td>\n",
       "      <td>Admission Date:  [**2162-3-3**]              D...</td>\n",
       "    </tr>\n",
       "  </tbody>\n",
       "</table>\n",
       "</div>"
      ],
      "text/plain": [
       "   SUBJECT_ID   HADM_ID           CATEGORY  \\\n",
       "0       22532  167853.0  Discharge summary   \n",
       "1       13702  107527.0  Discharge summary   \n",
       "2       13702  167118.0  Discharge summary   \n",
       "3       13702  196489.0  Discharge summary   \n",
       "4       26880  135453.0  Discharge summary   \n",
       "\n",
       "                                                TEXT  \n",
       "0  Admission Date:  [**2151-7-16**]       Dischar...  \n",
       "1  Admission Date:  [**2118-6-2**]       Discharg...  \n",
       "2  Admission Date:  [**2119-5-4**]              D...  \n",
       "3  Admission Date:  [**2124-7-21**]              ...  \n",
       "4  Admission Date:  [**2162-3-3**]              D...  "
      ]
     },
     "execution_count": 37,
     "metadata": {},
     "output_type": "execute_result"
    }
   ],
   "source": [
    "df_notes_dis_sum.head()"
   ]
  },
  {
   "cell_type": "code",
   "execution_count": 38,
   "metadata": {},
   "outputs": [
    {
     "data": {
      "text/plain": [
       "6926"
      ]
     },
     "execution_count": 38,
     "metadata": {},
     "output_type": "execute_result"
    }
   ],
   "source": [
    "df_notes_dis_sum.duplicated(['HADM_ID']).sum()"
   ]
  },
  {
   "cell_type": "markdown",
   "metadata": {},
   "source": [
    "assert ..., \"\""
   ]
  },
  {
   "cell_type": "code",
   "execution_count": 39,
   "metadata": {},
   "outputs": [
    {
     "ename": "AssertionError",
     "evalue": "Multiple discharge summaries per admission",
     "output_type": "error",
     "traceback": [
      "\u001b[1;31m---------------------------------------------------------------------------\u001b[0m",
      "\u001b[1;31mAssertionError\u001b[0m                            Traceback (most recent call last)",
      "Cell \u001b[1;32mIn[39], line 1\u001b[0m\n\u001b[1;32m----> 1\u001b[0m \u001b[39massert\u001b[39;00m df_notes_dis_sum\u001b[39m.\u001b[39mduplicated([\u001b[39m'\u001b[39m\u001b[39mHADM_ID\u001b[39m\u001b[39m'\u001b[39m])\u001b[39m.\u001b[39msum() \u001b[39m==\u001b[39m \u001b[39m0\u001b[39m, \u001b[39m'\u001b[39m\u001b[39mMultiple discharge summaries per admission\u001b[39m\u001b[39m'\u001b[39m\n",
      "\u001b[1;31mAssertionError\u001b[0m: Multiple discharge summaries per admission"
     ]
    }
   ],
   "source": [
    "assert df_notes_dis_sum.duplicated(['HADM_ID']).sum() == 0, 'Multiple discharge summaries per admission'"
   ]
  },
  {
   "cell_type": "markdown",
   "metadata": {},
   "source": [
    "\n",
    "#if df_notes_dis_sum.duplicated(['HADM_ID']).sum() != 0:\n",
    "    raise AssertionError('Multiple discharge summaries per admission')"
   ]
  },
  {
   "cell_type": "code",
   "execution_count": 40,
   "metadata": {},
   "outputs": [
    {
     "data": {
      "text/html": [
       "<div>\n",
       "<style scoped>\n",
       "    .dataframe tbody tr th:only-of-type {\n",
       "        vertical-align: middle;\n",
       "    }\n",
       "\n",
       "    .dataframe tbody tr th {\n",
       "        vertical-align: top;\n",
       "    }\n",
       "\n",
       "    .dataframe thead th {\n",
       "        text-align: right;\n",
       "    }\n",
       "</style>\n",
       "<table border=\"1\" class=\"dataframe\">\n",
       "  <thead>\n",
       "    <tr style=\"text-align: right;\">\n",
       "      <th></th>\n",
       "      <th>SUBJECT_ID</th>\n",
       "      <th>HADM_ID</th>\n",
       "      <th>CATEGORY</th>\n",
       "      <th>TEXT</th>\n",
       "    </tr>\n",
       "  </thead>\n",
       "  <tbody>\n",
       "    <tr>\n",
       "      <th>0</th>\n",
       "      <td>22532</td>\n",
       "      <td>167853.0</td>\n",
       "      <td>Discharge summary</td>\n",
       "      <td>Admission Date:  [**2151-7-16**]       Dischar...</td>\n",
       "    </tr>\n",
       "    <tr>\n",
       "      <th>1</th>\n",
       "      <td>13702</td>\n",
       "      <td>107527.0</td>\n",
       "      <td>Discharge summary</td>\n",
       "      <td>Admission Date:  [**2118-6-2**]       Discharg...</td>\n",
       "    </tr>\n",
       "    <tr>\n",
       "      <th>2</th>\n",
       "      <td>13702</td>\n",
       "      <td>167118.0</td>\n",
       "      <td>Discharge summary</td>\n",
       "      <td>Admission Date:  [**2119-5-4**]              D...</td>\n",
       "    </tr>\n",
       "    <tr>\n",
       "      <th>3</th>\n",
       "      <td>13702</td>\n",
       "      <td>196489.0</td>\n",
       "      <td>Discharge summary</td>\n",
       "      <td>Admission Date:  [**2124-7-21**]              ...</td>\n",
       "    </tr>\n",
       "    <tr>\n",
       "      <th>4</th>\n",
       "      <td>26880</td>\n",
       "      <td>135453.0</td>\n",
       "      <td>Discharge summary</td>\n",
       "      <td>Admission Date:  [**2162-3-3**]              D...</td>\n",
       "    </tr>\n",
       "  </tbody>\n",
       "</table>\n",
       "</div>"
      ],
      "text/plain": [
       "   SUBJECT_ID   HADM_ID           CATEGORY  \\\n",
       "0       22532  167853.0  Discharge summary   \n",
       "1       13702  107527.0  Discharge summary   \n",
       "2       13702  167118.0  Discharge summary   \n",
       "3       13702  196489.0  Discharge summary   \n",
       "4       26880  135453.0  Discharge summary   \n",
       "\n",
       "                                                TEXT  \n",
       "0  Admission Date:  [**2151-7-16**]       Dischar...  \n",
       "1  Admission Date:  [**2118-6-2**]       Discharg...  \n",
       "2  Admission Date:  [**2119-5-4**]              D...  \n",
       "3  Admission Date:  [**2124-7-21**]              ...  \n",
       "4  Admission Date:  [**2162-3-3**]              D...  "
      ]
     },
     "execution_count": 40,
     "metadata": {},
     "output_type": "execute_result"
    }
   ],
   "source": [
    "df_notes_dis_sum.head()"
   ]
  },
  {
   "cell_type": "code",
   "execution_count": 41,
   "metadata": {},
   "outputs": [
    {
     "data": {
      "text/html": [
       "<div>\n",
       "<style scoped>\n",
       "    .dataframe tbody tr th:only-of-type {\n",
       "        vertical-align: middle;\n",
       "    }\n",
       "\n",
       "    .dataframe tbody tr th {\n",
       "        vertical-align: top;\n",
       "    }\n",
       "\n",
       "    .dataframe thead th {\n",
       "        text-align: right;\n",
       "    }\n",
       "</style>\n",
       "<table border=\"1\" class=\"dataframe\">\n",
       "  <thead>\n",
       "    <tr style=\"text-align: right;\">\n",
       "      <th></th>\n",
       "      <th>SUBJECT_ID</th>\n",
       "      <th>HADM_ID</th>\n",
       "      <th>CATEGORY</th>\n",
       "      <th>TEXT</th>\n",
       "    </tr>\n",
       "  </thead>\n",
       "  <tbody>\n",
       "    <tr>\n",
       "      <th>0</th>\n",
       "      <td>22532</td>\n",
       "      <td>167853.0</td>\n",
       "      <td>Discharge summary</td>\n",
       "      <td>Admission Date:  [**2151-7-16**]       Dischar...</td>\n",
       "    </tr>\n",
       "    <tr>\n",
       "      <th>1</th>\n",
       "      <td>13702</td>\n",
       "      <td>107527.0</td>\n",
       "      <td>Discharge summary</td>\n",
       "      <td>Admission Date:  [**2118-6-2**]       Discharg...</td>\n",
       "    </tr>\n",
       "    <tr>\n",
       "      <th>2</th>\n",
       "      <td>13702</td>\n",
       "      <td>167118.0</td>\n",
       "      <td>Discharge summary</td>\n",
       "      <td>Admission Date:  [**2119-5-4**]              D...</td>\n",
       "    </tr>\n",
       "    <tr>\n",
       "      <th>3</th>\n",
       "      <td>13702</td>\n",
       "      <td>196489.0</td>\n",
       "      <td>Discharge summary</td>\n",
       "      <td>Admission Date:  [**2124-7-21**]              ...</td>\n",
       "    </tr>\n",
       "    <tr>\n",
       "      <th>4</th>\n",
       "      <td>26880</td>\n",
       "      <td>135453.0</td>\n",
       "      <td>Discharge summary</td>\n",
       "      <td>Admission Date:  [**2162-3-3**]              D...</td>\n",
       "    </tr>\n",
       "    <tr>\n",
       "      <th>...</th>\n",
       "      <td>...</td>\n",
       "      <td>...</td>\n",
       "      <td>...</td>\n",
       "      <td>...</td>\n",
       "    </tr>\n",
       "    <tr>\n",
       "      <th>60411</th>\n",
       "      <td>93924</td>\n",
       "      <td>135672.0</td>\n",
       "      <td>Discharge summary</td>\n",
       "      <td>Name:  [**Known lastname 18321**],[**Known fir...</td>\n",
       "    </tr>\n",
       "    <tr>\n",
       "      <th>60412</th>\n",
       "      <td>17782</td>\n",
       "      <td>155710.0</td>\n",
       "      <td>Discharge summary</td>\n",
       "      <td>Name:  [**Known lastname 2706**], [**Known fir...</td>\n",
       "    </tr>\n",
       "    <tr>\n",
       "      <th>60413</th>\n",
       "      <td>96333</td>\n",
       "      <td>183951.0</td>\n",
       "      <td>Discharge summary</td>\n",
       "      <td>Name:  [**Known lastname 18357**]-[**Known las...</td>\n",
       "    </tr>\n",
       "    <tr>\n",
       "      <th>60414</th>\n",
       "      <td>66717</td>\n",
       "      <td>169165.0</td>\n",
       "      <td>Discharge summary</td>\n",
       "      <td>Name:  [**Known lastname **],[**Known firstnam...</td>\n",
       "    </tr>\n",
       "    <tr>\n",
       "      <th>60415</th>\n",
       "      <td>73790</td>\n",
       "      <td>157100.0</td>\n",
       "      <td>Discharge summary</td>\n",
       "      <td>Name:  [**Known lastname 12459**],[**Known fir...</td>\n",
       "    </tr>\n",
       "  </tbody>\n",
       "</table>\n",
       "<p>59635 rows × 4 columns</p>\n",
       "</div>"
      ],
      "text/plain": [
       "       SUBJECT_ID   HADM_ID           CATEGORY  \\\n",
       "0           22532  167853.0  Discharge summary   \n",
       "1           13702  107527.0  Discharge summary   \n",
       "2           13702  167118.0  Discharge summary   \n",
       "3           13702  196489.0  Discharge summary   \n",
       "4           26880  135453.0  Discharge summary   \n",
       "...           ...       ...                ...   \n",
       "60411       93924  135672.0  Discharge summary   \n",
       "60412       17782  155710.0  Discharge summary   \n",
       "60413       96333  183951.0  Discharge summary   \n",
       "60414       66717  169165.0  Discharge summary   \n",
       "60415       73790  157100.0  Discharge summary   \n",
       "\n",
       "                                                    TEXT  \n",
       "0      Admission Date:  [**2151-7-16**]       Dischar...  \n",
       "1      Admission Date:  [**2118-6-2**]       Discharg...  \n",
       "2      Admission Date:  [**2119-5-4**]              D...  \n",
       "3      Admission Date:  [**2124-7-21**]              ...  \n",
       "4      Admission Date:  [**2162-3-3**]              D...  \n",
       "...                                                  ...  \n",
       "60411  Name:  [**Known lastname 18321**],[**Known fir...  \n",
       "60412  Name:  [**Known lastname 2706**], [**Known fir...  \n",
       "60413  Name:  [**Known lastname 18357**]-[**Known las...  \n",
       "60414  Name:  [**Known lastname **],[**Known firstnam...  \n",
       "60415  Name:  [**Known lastname 12459**],[**Known fir...  \n",
       "\n",
       "[59635 rows x 4 columns]"
      ]
     },
     "execution_count": 41,
     "metadata": {},
     "output_type": "execute_result"
    }
   ],
   "source": [
    "df_notes_dis_sum.groupby(['SUBJECT_ID','HADM_ID']).head()"
   ]
  },
  {
   "cell_type": "markdown",
   "metadata": {},
   "source": [
    "if df_notes_dis_sum.duplicated(['HADM_ID']).sum() != 0:\n",
    "    raise AssertionError('Multiple discharge summaries per admission')"
   ]
  },
  {
   "cell_type": "code",
   "execution_count": 42,
   "metadata": {},
   "outputs": [],
   "source": [
    "df_notes_dis_sum_last = (df_notes_dis_sum.groupby(['SUBJECT_ID','HADM_ID']).nth(-1)).reset_index()\n",
    "assert df_notes_dis_sum_last.duplicated(['HADM_ID']).sum() == 0, 'Multiple discharge summaries per admission'"
   ]
  },
  {
   "cell_type": "markdown",
   "metadata": {},
   "source": [
    "subject_id = 13702\n",
    "subject_data = df_notes_dis_sum_last[df_notes_dis_sum_last['SUBJECT_ID'] == subject_id]\n",
    "subject_data.TEXT[0]"
   ]
  },
  {
   "cell_type": "markdown",
   "metadata": {},
   "source": [
    "subject_data"
   ]
  },
  {
   "cell_type": "code",
   "execution_count": 43,
   "metadata": {},
   "outputs": [],
   "source": [
    "df_adm_notes = pd.merge(df_adm2[['SUBJECT_ID','HADM_ID','ADMITTIME','DISCHTIME','DAYS_NEXT_ADMIT','NEXT_ADMITTIME','ADMISSION_TYPE','DEATHTIME']],\n",
    "                        df_notes_dis_sum_last[['SUBJECT_ID','HADM_ID','TEXT']], \n",
    "                        on = ['SUBJECT_ID','HADM_ID'],\n",
    "                        how = 'left')\n",
    "assert len(df_adm2) == len(df_adm_notes), 'Number of rows increased'"
   ]
  },
  {
   "cell_type": "code",
   "execution_count": 44,
   "metadata": {},
   "outputs": [
    {
     "data": {
      "text/html": [
       "<div>\n",
       "<style scoped>\n",
       "    .dataframe tbody tr th:only-of-type {\n",
       "        vertical-align: middle;\n",
       "    }\n",
       "\n",
       "    .dataframe tbody tr th {\n",
       "        vertical-align: top;\n",
       "    }\n",
       "\n",
       "    .dataframe thead th {\n",
       "        text-align: right;\n",
       "    }\n",
       "</style>\n",
       "<table border=\"1\" class=\"dataframe\">\n",
       "  <thead>\n",
       "    <tr style=\"text-align: right;\">\n",
       "      <th></th>\n",
       "      <th>SUBJECT_ID</th>\n",
       "      <th>HADM_ID</th>\n",
       "      <th>ADMITTIME</th>\n",
       "      <th>DISCHTIME</th>\n",
       "      <th>DAYS_NEXT_ADMIT</th>\n",
       "      <th>NEXT_ADMITTIME</th>\n",
       "      <th>ADMISSION_TYPE</th>\n",
       "      <th>DEATHTIME</th>\n",
       "      <th>TEXT</th>\n",
       "    </tr>\n",
       "  </thead>\n",
       "  <tbody>\n",
       "    <tr>\n",
       "      <th>0</th>\n",
       "      <td>2</td>\n",
       "      <td>163353</td>\n",
       "      <td>2138-07-17 19:04:00</td>\n",
       "      <td>2138-07-21 15:48:00</td>\n",
       "      <td>NaN</td>\n",
       "      <td>NaT</td>\n",
       "      <td>NEWBORN</td>\n",
       "      <td>NaT</td>\n",
       "      <td>NaN</td>\n",
       "    </tr>\n",
       "    <tr>\n",
       "      <th>1</th>\n",
       "      <td>3</td>\n",
       "      <td>145834</td>\n",
       "      <td>2101-10-20 19:08:00</td>\n",
       "      <td>2101-10-31 13:58:00</td>\n",
       "      <td>NaN</td>\n",
       "      <td>NaT</td>\n",
       "      <td>EMERGENCY</td>\n",
       "      <td>NaT</td>\n",
       "      <td>Admission Date:  [**2101-10-20**]     Discharg...</td>\n",
       "    </tr>\n",
       "    <tr>\n",
       "      <th>2</th>\n",
       "      <td>4</td>\n",
       "      <td>185777</td>\n",
       "      <td>2191-03-16 00:28:00</td>\n",
       "      <td>2191-03-23 18:41:00</td>\n",
       "      <td>NaN</td>\n",
       "      <td>NaT</td>\n",
       "      <td>EMERGENCY</td>\n",
       "      <td>NaT</td>\n",
       "      <td>Admission Date:  [**2191-3-16**]     Discharge...</td>\n",
       "    </tr>\n",
       "    <tr>\n",
       "      <th>3</th>\n",
       "      <td>5</td>\n",
       "      <td>178980</td>\n",
       "      <td>2103-02-02 04:31:00</td>\n",
       "      <td>2103-02-04 12:15:00</td>\n",
       "      <td>NaN</td>\n",
       "      <td>NaT</td>\n",
       "      <td>NEWBORN</td>\n",
       "      <td>NaT</td>\n",
       "      <td>NaN</td>\n",
       "    </tr>\n",
       "    <tr>\n",
       "      <th>4</th>\n",
       "      <td>6</td>\n",
       "      <td>107064</td>\n",
       "      <td>2175-05-30 07:15:00</td>\n",
       "      <td>2175-06-15 16:00:00</td>\n",
       "      <td>NaN</td>\n",
       "      <td>NaT</td>\n",
       "      <td>ELECTIVE</td>\n",
       "      <td>NaT</td>\n",
       "      <td>Admission Date: [**2175-5-30**]        Dischar...</td>\n",
       "    </tr>\n",
       "  </tbody>\n",
       "</table>\n",
       "</div>"
      ],
      "text/plain": [
       "   SUBJECT_ID  HADM_ID           ADMITTIME           DISCHTIME  \\\n",
       "0           2   163353 2138-07-17 19:04:00 2138-07-21 15:48:00   \n",
       "1           3   145834 2101-10-20 19:08:00 2101-10-31 13:58:00   \n",
       "2           4   185777 2191-03-16 00:28:00 2191-03-23 18:41:00   \n",
       "3           5   178980 2103-02-02 04:31:00 2103-02-04 12:15:00   \n",
       "4           6   107064 2175-05-30 07:15:00 2175-06-15 16:00:00   \n",
       "\n",
       "   DAYS_NEXT_ADMIT NEXT_ADMITTIME ADMISSION_TYPE DEATHTIME  \\\n",
       "0              NaN            NaT        NEWBORN       NaT   \n",
       "1              NaN            NaT      EMERGENCY       NaT   \n",
       "2              NaN            NaT      EMERGENCY       NaT   \n",
       "3              NaN            NaT        NEWBORN       NaT   \n",
       "4              NaN            NaT       ELECTIVE       NaT   \n",
       "\n",
       "                                                TEXT  \n",
       "0                                                NaN  \n",
       "1  Admission Date:  [**2101-10-20**]     Discharg...  \n",
       "2  Admission Date:  [**2191-3-16**]     Discharge...  \n",
       "3                                                NaN  \n",
       "4  Admission Date: [**2175-5-30**]        Dischar...  "
      ]
     },
     "execution_count": 44,
     "metadata": {},
     "output_type": "execute_result"
    }
   ],
   "source": [
    "df_adm_notes.head()"
   ]
  },
  {
   "cell_type": "markdown",
   "metadata": {},
   "source": [
    "Check to see if there are alot of notes that are missing text (might be a sign of a problem)."
   ]
  },
  {
   "cell_type": "code",
   "execution_count": 45,
   "metadata": {},
   "outputs": [
    {
     "data": {
      "text/plain": [
       "6250"
      ]
     },
     "execution_count": 45,
     "metadata": {},
     "output_type": "execute_result"
    }
   ],
   "source": [
    "df_adm_notes.TEXT.isnull().sum()"
   ]
  },
  {
   "cell_type": "code",
   "execution_count": 46,
   "metadata": {},
   "outputs": [
    {
     "data": {
      "text/plain": [
       "10.59753119913185"
      ]
     },
     "execution_count": 46,
     "metadata": {},
     "output_type": "execute_result"
    }
   ],
   "source": [
    "df_adm_notes.TEXT.isnull().sum() / len(df_adm_notes) * 100"
   ]
  },
  {
   "cell_type": "code",
   "execution_count": 47,
   "metadata": {},
   "outputs": [
    {
     "data": {
      "text/plain": [
       "52726"
      ]
     },
     "execution_count": 47,
     "metadata": {},
     "output_type": "execute_result"
    }
   ],
   "source": [
    "df_adm_notes.TEXT.str.contains('\\n').sum()"
   ]
  },
  {
   "cell_type": "code",
   "execution_count": 48,
   "metadata": {},
   "outputs": [
    {
     "data": {
      "text/plain": [
       "89.40246880086815"
      ]
     },
     "execution_count": 48,
     "metadata": {},
     "output_type": "execute_result"
    }
   ],
   "source": [
    "df_adm_notes.TEXT.str.contains('\\n').sum() / len(df_adm_notes)*100"
   ]
  },
  {
   "cell_type": "code",
   "execution_count": 49,
   "metadata": {},
   "outputs": [
    {
     "name": "stdout",
     "output_type": "stream",
     "text": [
      "Fraction of missing notes: 10.59753119913185\n",
      "Fraction notes with newlines: 89.40246880086815\n",
      "Fraction notes with carriage returns: 0.0\n"
     ]
    }
   ],
   "source": [
    "print('Fraction of missing notes:', df_adm_notes.TEXT.isnull().sum() / len(df_adm_notes)*100)\n",
    "print('Fraction notes with newlines:', df_adm_notes.TEXT.str.contains('\\n').sum() / len(df_adm_notes)*100)\n",
    "print('Fraction notes with carriage returns:', df_adm_notes.TEXT.str.contains('\\r').sum() / len(df_adm_notes)*100)"
   ]
  },
  {
   "cell_type": "markdown",
   "metadata": {},
   "source": [
    "This code calculates the fraction of missing values in the 'TEXT' column for each unique admission type in the `df_adm_notes` DataFrame. It does this by grouping the DataFrame by the 'ADMISSION_TYPE' column, then applying a lambda function to calculate the sum of missing 'TEXT' values for each group. This sum is then divided by the total number of rows for each admission type, resulting in a Series where the index consists of the unique admission types, and the values are the corresponding fractions of missing 'TEXT' values."
   ]
  },
  {
   "cell_type": "code",
   "execution_count": 50,
   "metadata": {},
   "outputs": [
    {
     "data": {
      "text/plain": [
       "ADMISSION_TYPE\n",
       "ELECTIVE      4.866338\n",
       "EMERGENCY     3.798341\n",
       "NEWBORN      53.669083\n",
       "URGENT        4.266467\n",
       "dtype: float64"
      ]
     },
     "execution_count": 50,
     "metadata": {},
     "output_type": "execute_result"
    }
   ],
   "source": [
    "df_adm_notes.groupby('ADMISSION_TYPE').apply(lambda g: g.TEXT.isnull().sum())/df_adm_notes.groupby('ADMISSION_TYPE').size()*100"
   ]
  },
  {
   "cell_type": "code",
   "execution_count": 51,
   "metadata": {},
   "outputs": [],
   "source": [
    "df_adm_notes_clean = df_adm_notes.loc[df_adm_notes.ADMISSION_TYPE != 'NEWBORN'].copy()"
   ]
  },
  {
   "cell_type": "code",
   "execution_count": 52,
   "metadata": {},
   "outputs": [
    {
     "data": {
      "text/html": [
       "<div>\n",
       "<style scoped>\n",
       "    .dataframe tbody tr th:only-of-type {\n",
       "        vertical-align: middle;\n",
       "    }\n",
       "\n",
       "    .dataframe tbody tr th {\n",
       "        vertical-align: top;\n",
       "    }\n",
       "\n",
       "    .dataframe thead th {\n",
       "        text-align: right;\n",
       "    }\n",
       "</style>\n",
       "<table border=\"1\" class=\"dataframe\">\n",
       "  <thead>\n",
       "    <tr style=\"text-align: right;\">\n",
       "      <th></th>\n",
       "      <th>SUBJECT_ID</th>\n",
       "      <th>HADM_ID</th>\n",
       "      <th>ADMITTIME</th>\n",
       "      <th>DISCHTIME</th>\n",
       "      <th>DAYS_NEXT_ADMIT</th>\n",
       "      <th>NEXT_ADMITTIME</th>\n",
       "      <th>ADMISSION_TYPE</th>\n",
       "      <th>DEATHTIME</th>\n",
       "      <th>TEXT</th>\n",
       "    </tr>\n",
       "  </thead>\n",
       "  <tbody>\n",
       "    <tr>\n",
       "      <th>1</th>\n",
       "      <td>3</td>\n",
       "      <td>145834</td>\n",
       "      <td>2101-10-20 19:08:00</td>\n",
       "      <td>2101-10-31 13:58:00</td>\n",
       "      <td>NaN</td>\n",
       "      <td>NaT</td>\n",
       "      <td>EMERGENCY</td>\n",
       "      <td>NaT</td>\n",
       "      <td>Admission Date:  [**2101-10-20**]     Discharg...</td>\n",
       "    </tr>\n",
       "    <tr>\n",
       "      <th>2</th>\n",
       "      <td>4</td>\n",
       "      <td>185777</td>\n",
       "      <td>2191-03-16 00:28:00</td>\n",
       "      <td>2191-03-23 18:41:00</td>\n",
       "      <td>NaN</td>\n",
       "      <td>NaT</td>\n",
       "      <td>EMERGENCY</td>\n",
       "      <td>NaT</td>\n",
       "      <td>Admission Date:  [**2191-3-16**]     Discharge...</td>\n",
       "    </tr>\n",
       "    <tr>\n",
       "      <th>4</th>\n",
       "      <td>6</td>\n",
       "      <td>107064</td>\n",
       "      <td>2175-05-30 07:15:00</td>\n",
       "      <td>2175-06-15 16:00:00</td>\n",
       "      <td>NaN</td>\n",
       "      <td>NaT</td>\n",
       "      <td>ELECTIVE</td>\n",
       "      <td>NaT</td>\n",
       "      <td>Admission Date: [**2175-5-30**]        Dischar...</td>\n",
       "    </tr>\n",
       "    <tr>\n",
       "      <th>7</th>\n",
       "      <td>9</td>\n",
       "      <td>150750</td>\n",
       "      <td>2149-11-09 13:06:00</td>\n",
       "      <td>2149-11-14 10:15:00</td>\n",
       "      <td>NaN</td>\n",
       "      <td>NaT</td>\n",
       "      <td>EMERGENCY</td>\n",
       "      <td>2149-11-14 10:15:00</td>\n",
       "      <td>Name:  [**Known lastname 10050**], [**Known fi...</td>\n",
       "    </tr>\n",
       "    <tr>\n",
       "      <th>9</th>\n",
       "      <td>11</td>\n",
       "      <td>194540</td>\n",
       "      <td>2178-04-16 06:18:00</td>\n",
       "      <td>2178-05-11 19:00:00</td>\n",
       "      <td>NaN</td>\n",
       "      <td>NaT</td>\n",
       "      <td>EMERGENCY</td>\n",
       "      <td>NaT</td>\n",
       "      <td>Admission Date:  [**2178-4-16**]              ...</td>\n",
       "    </tr>\n",
       "  </tbody>\n",
       "</table>\n",
       "</div>"
      ],
      "text/plain": [
       "   SUBJECT_ID  HADM_ID           ADMITTIME           DISCHTIME  \\\n",
       "1           3   145834 2101-10-20 19:08:00 2101-10-31 13:58:00   \n",
       "2           4   185777 2191-03-16 00:28:00 2191-03-23 18:41:00   \n",
       "4           6   107064 2175-05-30 07:15:00 2175-06-15 16:00:00   \n",
       "7           9   150750 2149-11-09 13:06:00 2149-11-14 10:15:00   \n",
       "9          11   194540 2178-04-16 06:18:00 2178-05-11 19:00:00   \n",
       "\n",
       "   DAYS_NEXT_ADMIT NEXT_ADMITTIME ADMISSION_TYPE           DEATHTIME  \\\n",
       "1              NaN            NaT      EMERGENCY                 NaT   \n",
       "2              NaN            NaT      EMERGENCY                 NaT   \n",
       "4              NaN            NaT       ELECTIVE                 NaT   \n",
       "7              NaN            NaT      EMERGENCY 2149-11-14 10:15:00   \n",
       "9              NaN            NaT      EMERGENCY                 NaT   \n",
       "\n",
       "                                                TEXT  \n",
       "1  Admission Date:  [**2101-10-20**]     Discharg...  \n",
       "2  Admission Date:  [**2191-3-16**]     Discharge...  \n",
       "4  Admission Date: [**2175-5-30**]        Dischar...  \n",
       "7  Name:  [**Known lastname 10050**], [**Known fi...  \n",
       "9  Admission Date:  [**2178-4-16**]              ...  "
      ]
     },
     "execution_count": 52,
     "metadata": {},
     "output_type": "execute_result"
    }
   ],
   "source": [
    "df_adm_notes_clean.head()"
   ]
  },
  {
   "cell_type": "code",
   "execution_count": null,
   "metadata": {},
   "outputs": [
    {
     "name": "stdout",
     "output_type": "stream",
     "text": [
      "Fraction of missing notes: 3.97%\n",
      "Fraction notes with newlines: 96.03%\n",
      "Fraction notes with carriage returns: 0.00%\n"
     ]
    }
   ],
   "source": [
    "# Calculate the fraction of missing notes\n",
    "missing_notes_fraction = df_adm_notes_clean.TEXT.isnull().sum() / len(df_adm_notes_clean)\n",
    "print('Fraction of missing notes:', \"{:.2%}\".format(missing_notes_fraction))\n",
    "\n",
    "# Calculate the fraction of notes with newlines\n",
    "newlines_fraction = df_adm_notes_clean.TEXT.str.contains('\\n').sum() / len(df_adm_notes_clean)\n",
    "print('Fraction notes with newlines:', \"{:.2%}\".format(newlines_fraction))\n",
    "\n",
    "# Calculate the fraction of notes with carriage returns\n",
    "carriage_returns_fraction = df_adm_notes_clean.TEXT.str.contains('\\r').sum() / len(df_adm_notes_clean)\n",
    "print('Fraction notes with carriage returns:', \"{:.2%}\".format(carriage_returns_fraction))"
   ]
  },
  {
   "cell_type": "markdown",
   "metadata": {},
   "source": [
    "Prepare a label\n",
    "\n",
    "\n",
    "I like to create a specific column in the dataframe as OUTPUT_LABEL that has exactly what we are trying to predict. Here we want if the patient was re-admitted within 30 days"
   ]
  },
  {
   "cell_type": "code",
   "execution_count": 53,
   "metadata": {},
   "outputs": [],
   "source": [
    "df_adm_notes_clean['OUTPUT_LABEL'] = (df_adm_notes_clean.DAYS_NEXT_ADMIT < 30).astype('int')"
   ]
  },
  {
   "cell_type": "code",
   "execution_count": 54,
   "metadata": {},
   "outputs": [
    {
     "data": {
      "text/plain": [
       "1        0\n",
       "2        0\n",
       "4        0\n",
       "7        0\n",
       "9        0\n",
       "        ..\n",
       "58971    0\n",
       "58972    0\n",
       "58973    0\n",
       "58974    0\n",
       "58975    0\n",
       "Name: OUTPUT_LABEL, Length: 51113, dtype: int32"
      ]
     },
     "execution_count": 54,
     "metadata": {},
     "output_type": "execute_result"
    }
   ],
   "source": [
    "df_adm_notes_clean['OUTPUT_LABEL']"
   ]
  },
  {
   "cell_type": "code",
   "execution_count": 55,
   "metadata": {},
   "outputs": [
    {
     "name": "stdout",
     "output_type": "stream",
     "text": [
      "Number of positive samples: 3004\n",
      "Number of negative samples: 48109\n",
      "Total samples: 51113\n"
     ]
    }
   ],
   "source": [
    "print('Number of positive samples:', (df_adm_notes_clean.OUTPUT_LABEL == 1).sum())\n",
    "print('Number of negative samples:',  (df_adm_notes_clean.OUTPUT_LABEL == 0).sum())\n",
    "print('Total samples:', len(df_adm_notes_clean))\n",
    "\n",
    "num_positive_samples = (df_adm_notes_clean.OUTPUT_LABEL == 1).sum()\n",
    "num_negative_samples = (df_adm_notes_clean.OUTPUT_LABEL == 0).sum()\n",
    "total_samples = len(df_adm_notes_clean)"
   ]
  },
  {
   "cell_type": "code",
   "execution_count": 56,
   "metadata": {},
   "outputs": [
    {
     "data": {
      "image/png": "[encoded data removed]",
      "text/plain": [
       "<Figure size 800x600 with 1 Axes>"
      ]
     },
     "metadata": {},
     "output_type": "display_data"
    },
    {
     "name": "stdout",
     "output_type": "stream",
     "text": [
      "Total samples: 51113\n"
     ]
    }
   ],
   "source": [
    "import seaborn as sns\n",
    "import matplotlib.pyplot as plt\n",
    "\n",
    "# Create a bar plot using seaborn\n",
    "plt.figure(figsize=(8, 6))\n",
    "sns.barplot(x=['Positive', 'Negative'], y=[num_positive_samples, num_negative_samples], palette=['blue', 'red'])\n",
    "plt.xlabel('Sample Type')\n",
    "plt.ylabel('Number of Samples')\n",
    "plt.title('Distribution of Positive and Negative Samples')\n",
    "plt.xticks(rotation=45)\n",
    "plt.tight_layout()\n",
    "\n",
    "# Display the plot\n",
    "plt.show()\n",
    "\n",
    "# Print total samples\n",
    "print('Total samples:', total_samples)"
   ]
  },
  {
   "cell_type": "code",
   "execution_count": 57,
   "metadata": {},
   "outputs": [
    {
     "name": "stdout",
     "output_type": "stream",
     "text": [
      "Percentage of Positive Samples: 5.88%\n",
      "Percentage of Negative Samples: 94.12%\n",
      "Total samples: 51113\n"
     ]
    }
   ],
   "source": [
    "# Calculate the percentages\n",
    "percentage_positive = (num_positive_samples / total_samples) * 100\n",
    "percentage_negative = (num_negative_samples / total_samples) * 100\n",
    "\n",
    "# Print the percentages\n",
    "print('Percentage of Positive Samples:', \"{:.2f}%\".format(percentage_positive))\n",
    "print('Percentage of Negative Samples:', \"{:.2f}%\".format(percentage_negative))\n",
    "print('Total samples:', total_samples)"
   ]
  },
  {
   "cell_type": "markdown",
   "metadata": {},
   "source": [
    "## Create training and test dataframes\n",
    "\n",
    "When we build a predictive model, we want the model to work well on data that the model has never seen. To test for this, we take our data and split it into three datasets: training, validation, and test.\n",
    "\n",
    "- **Training set:** Used to train the model.\n",
    "- **Validation set:** Data the model didn't see, but is used to optimize or tune the model.\n",
    "- **Test set:** Data the model and tuning process never saw, which serves as a true test of generalizability.\n",
    "\n",
    "The validation and test sets should be as close to the production data as possible. We don't want to make decisions on validation data that are not from the same type of data as the test set. For example, avoid using high-resolution images for the validation set if you expect the production data to consist of amateur photos from your phone."
   ]
  },
  {
   "cell_type": "code",
   "execution_count": 61,
   "metadata": {},
   "outputs": [],
   "source": [
    "# # Shuffle the samples\n",
    "# df_adm_notes_clean = df_adm_notes_clean.sample(frac=1, random_state=42).reset_index(drop=True)\n",
    "\n",
    "# # Split data into validation, test, and training sets\n",
    "# frac_validation_test = 0.3 #30% -> validation set\n",
    "# frac_test = 0.5            # 50% -> testing set\n",
    "\n",
    "# num_samples = len(df_adm_notes_clean)\n",
    "# num_validation = int(num_samples * frac_validation_test) # we are going to change num_validatio_test  to num_validation\n",
    "# num_test = int(num_samples * frac_test)\n",
    "\n",
    "# df_valid_test = df_adm_notes_clean[:num_validation]\n",
    "# df_test = df_valid_test.sample(n=num_test, random_state=42)\n",
    "# df_valid = df_valid_test.drop(df_test.index)\n",
    "# df_train_all = df_adm_notes_clean[num_validation:]\n",
    "\n",
    "# # Calculate and print prevalences\n",
    "# def calculate_prevalence(df):\n",
    "#     return df.OUTPUT_LABEL.sum() / len(df) * 100\n",
    "\n",
    "# print(f'Test prevalence (n = {len(df_test)}): {calculate_prevalence(df_test):.2f}%')\n",
    "# print(f'Valid prevalence (n = {len(df_valid)}): {calculate_prevalence(df_valid):.2f}%')\n",
    "# print(f'Train all prevalence (n = {len(df_train_all)}): {calculate_prevalence(df_train_all):.2f}%')\n",
    "# print(f'All samples (n = {num_samples})')\n",
    "\n",
    "# # Assertion check\n",
    "# assert num_samples == len(df_test) + len(df_valid) + len(df_train_all), 'Math didn\\'t work'\n"
   ]
  },
  {
   "cell_type": "code",
   "execution_count": 62,
   "metadata": {},
   "outputs": [
    {
     "name": "stdout",
     "output_type": "stream",
     "text": [
      "Test prevalence(n = 7667): 0.061953828094430674\n",
      "Valid prevalence(n = 7667): 0.056997521846876224\n",
      "Train all prevalence(n = 35779): 0.05847005226529529\n",
      "all samples (n = 51113)\n"
     ]
    }
   ],
   "source": [
    "# shuffle the samples\n",
    "df_adm_notes_clean = df_adm_notes_clean.sample(n = len(df_adm_notes_clean), random_state = 42)\n",
    "df_adm_notes_clean = df_adm_notes_clean.reset_index(drop = True)\n",
    "\n",
    "# Save 30% of the data as validation and test data\n",
    "df_valid_set = df_adm_notes_clean.sample(frac=0.30, random_state=42)\n",
    "\n",
    "df_test = df_valid_set.sample(frac = 0.5, random_state=42)\n",
    "df_valid = df_valid_set.drop(df_test.index)\n",
    "\n",
    "# use the rest of the data as training data\n",
    "df_train_all = df_adm_notes_clean.drop(df_valid_set.index)\n",
    "\n",
    "print('Test prevalence(n = %d):'%len(df_test), df_test.OUTPUT_LABEL.sum()/ len(df_test))\n",
    "print('Valid prevalence(n = %d):'%len(df_valid), df_valid.OUTPUT_LABEL.sum()/ len(df_valid))\n",
    "print('Train all prevalence(n = %d):'%len(df_train_all), df_train_all.OUTPUT_LABEL.sum()/ len(df_train_all))\n",
    "print('all samples (n = %d)'%len(df_adm_notes_clean))\n",
    "assert len(df_adm_notes_clean) == (len(df_test)+len(df_valid)+len(df_train_all)),'math didnt work'"
   ]
  },
  {
   "cell_type": "markdown",
   "metadata": {},
   "source": [
    "Since the prevalence is so low, we want to prevent the model from always predicting negative. To do this, we have a few options\n",
    "- balance the data by sub-sampling the negatives\n",
    "- balance the data by over-sampling the positives\n",
    "- create synthetic data (e.g. SMOTE)\n",
    "\n",
    "In this example, we will sub-sample the negatives"
   ]
  },
  {
   "cell_type": "code",
   "execution_count": 63,
   "metadata": {},
   "outputs": [
    {
     "name": "stdout",
     "output_type": "stream",
     "text": [
      "Train prevalence (n = 4184): 50.0%\n"
     ]
    }
   ],
   "source": [
    "# Under-sampling:\n",
    "# split the training data into positive and negative\n",
    "rows_pos = df_train_all.OUTPUT_LABEL == 1\n",
    "df_train_pos = df_train_all.loc[rows_pos]\n",
    "df_train_neg = df_train_all.loc[~rows_pos]\n",
    "\n",
    "# merge the balanced data\n",
    "df_train = pd.concat([df_train_pos, df_train_neg.sample(n = len(df_train_pos), random_state = 42)],axis = 0)\n",
    "\n",
    "# shuffle the order of training samples\n",
    "df_train = df_train.sample(n = len(df_train), random_state = 42).reset_index(drop = True)\n",
    "\n",
    "print('Train prevalence (n = {}): {}%'.format(len(df_train), df_train.OUTPUT_LABEL.sum()/ len(df_train)*100))"
   ]
  },
  {
   "cell_type": "markdown",
   "metadata": {},
   "source": [
    "# Step 2: Preprocess text data\n",
    "Now that we have created data sets that have a label and the notes, we need to preprocess our text data to convert it to something useful (i.e. numbers) for the machine learning model. We are going to use the Bag-of-Words (BOW) approach.\n",
    "\n",
    "BOW basically breaks up the note into the individual words and counts how many times each word occurs. Your numerical data then becomes counts for some set of words as shown below. BOW is the simplest way to do NLP classification. In most blog posts I have read, fancier techniques have a hard time beating BOW for NLP classification tasks.\n",
    "\n",
    "In this process, there are few choices that need to be made\n",
    "- how to pre-process the words\n",
    "- how to count the words\n",
    "- which words to use\n",
    "\n",
    "There is no optimal choice for all NLP projects, so I recommend trying out a few options when building your own models.\n",
    "\n",
    "You can do the pre-processing in two ways:\n",
    "- modify the original dataframe TEXT column\n",
    "- pre-process as part of your pipeline so you don't edit the original data (allows you try out a few options easily)"
   ]
  },
  {
   "cell_type": "markdown",
   "metadata": {},
   "source": [
    "### Preprocess all the notes\n",
    "Modify the original dataframe by dealing with the missing text, newlines and carriage returns"
   ]
  },
  {
   "cell_type": "code",
   "execution_count": 64,
   "metadata": {},
   "outputs": [],
   "source": [
    "def preprocess_text(df):\n",
    "    # This function preprocesses the text by filling not a number and replacing new lines ('\\n') and carriage returns ('\\r')\n",
    "    df.TEXT = df.TEXT.fillna(' ')\n",
    "    df.TEXT =df.TEXT.str.replace('\\n',' ')\n",
    "    df.TEXT =df.TEXT.str.replace('\\r',' ')\n",
    "    return df"
   ]
  },
  {
   "cell_type": "code",
   "execution_count": 65,
   "metadata": {},
   "outputs": [],
   "source": [
    "# preprocess the text to deal with known issues\n",
    "df_train = preprocess_text(df_train)\n",
    "df_valid = preprocess_text(df_valid)\n",
    "df_test = preprocess_text(df_test)"
   ]
  },
  {
   "cell_type": "markdown",
   "metadata": {},
   "source": [
    "### Build a tokenizer\n",
    "Now we need to create a function that splits the note into individual words. This function is called a tokenizer. We can use the nltk.word_tokenize function to this for us."
   ]
  },
  {
   "cell_type": "code",
   "execution_count": 66,
   "metadata": {},
   "outputs": [
    {
     "data": {
      "text/plain": [
       "['This',\n",
       " 'should',\n",
       " 'be',\n",
       " 'tokenized',\n",
       " '.',\n",
       " '02/02/2018',\n",
       " 'sentence',\n",
       " 'has',\n",
       " 'stars',\n",
       " '*',\n",
       " '*']"
      ]
     },
     "execution_count": 66,
     "metadata": {},
     "output_type": "execute_result"
    }
   ],
   "source": [
    "import nltk\n",
    "from nltk import word_tokenize\n",
    "word_tokenize('This should be tokenized. 02/02/2018 sentence has stars**')"
   ]
  },
  {
   "cell_type": "markdown",
   "metadata": {},
   "source": [
    "Note that some punctuation is separated but not all punctuation.\n",
    "We can define our own custom tokenizer. Our tokenizer will\n",
    "- replace punctuation with spaces\n",
    "- remove numbers with spaces\n",
    "- lowercase all words\n",
    "\n",
    "I like to do these steps as part of the tokenizer, so I can go back and look at the original note. The new line and carriage return is more difficult to deal with so I did it in the preprocessing step above."
   ]
  },
  {
   "cell_type": "code",
   "execution_count": 67,
   "metadata": {},
   "outputs": [
    {
     "name": "stdout",
     "output_type": "stream",
     "text": [
      "!\"#$%&'()*+,-./:;<=>?@[\\]^_`{|}~\n"
     ]
    }
   ],
   "source": [
    "import string\n",
    "print(string.punctuation)"
   ]
  },
  {
   "cell_type": "code",
   "execution_count": 68,
   "metadata": {},
   "outputs": [],
   "source": [
    "def tokenizer_better(text):\n",
    "    # tokenize the text by replacing punctuation and numbers with spaces and lowercase all words\n",
    "\n",
    "    punc_list = string.punctuation + '0123456789'\n",
    "    t = str.maketrans(dict.fromkeys(punc_list, \" \"))\n",
    "    text = text.lower().translate(t)\n",
    "    tokens = word_tokenize(text)\n",
    "    return tokens"
   ]
  },
  {
   "cell_type": "markdown",
   "metadata": {},
   "source": [
    "Testing the function on the previous text example"
   ]
  },
  {
   "cell_type": "code",
   "execution_count": 69,
   "metadata": {},
   "outputs": [
    {
     "data": {
      "text/plain": [
       "['this', 'should', 'be', 'tokenized', 'sentence', 'has', 'stars']"
      ]
     },
     "execution_count": 69,
     "metadata": {},
     "output_type": "execute_result"
    }
   ],
   "source": [
    "tokenizer_better('This should be tokenized. 02/02/2018 sentence has stars**')"
   ]
  },
  {
   "cell_type": "markdown",
   "metadata": {},
   "source": [
    "### Build a simple vectorizer\n",
    "Now that we have a way to convert free-text into tokens, we need a way to create features from these tokens."
   ]
  },
  {
   "cell_type": "code",
   "execution_count": 70,
   "metadata": {},
   "outputs": [],
   "source": [
    "sample_text = ['Data science is about the data', 'The science is amazing', 'Predictive modeling is part of data science']"
   ]
  },
  {
   "cell_type": "code",
   "execution_count": 76,
   "metadata": {},
   "outputs": [
    {
     "name": "stderr",
     "output_type": "stream",
     "text": [
      "c:\\Users\\T\\AppData\\Local\\Programs\\Python\\Python311\\Lib\\site-packages\\sklearn\\feature_extraction\\text.py:525: UserWarning: The parameter 'token_pattern' will not be used since 'tokenizer' is not None'\n",
      "  warnings.warn(\n"
     ]
    }
   ],
   "source": [
    "from sklearn.feature_extraction.text import CountVectorizer\n",
    "vect = CountVectorizer(tokenizer = tokenizer_better)\n",
    "vect.fit(sample_text)\n",
    "\n",
    "# matrix is stored as a sparse matrix (since you have a lot of zeros)\n",
    "X = vect.transform(sample_text)"
   ]
  },
  {
   "cell_type": "code",
   "execution_count": 79,
   "metadata": {},
   "outputs": [
    {
     "data": {
      "text/plain": [
       "<3x10 sparse matrix of type '<class 'numpy.int64'>'\n",
       "\twith 16 stored elements in Compressed Sparse Row format>"
      ]
     },
     "execution_count": 79,
     "metadata": {},
     "output_type": "execute_result"
    }
   ],
   "source": [
    "X"
   ]
  },
  {
   "cell_type": "code",
   "execution_count": 80,
   "metadata": {},
   "outputs": [
    {
     "data": {
      "text/plain": [
       "array([[1, 0, 2, 1, 0, 0, 0, 0, 1, 1],\n",
       "       [0, 1, 0, 1, 0, 0, 0, 0, 1, 1],\n",
       "       [0, 0, 1, 1, 1, 1, 1, 1, 1, 0]], dtype=int64)"
      ]
     },
     "execution_count": 80,
     "metadata": {},
     "output_type": "execute_result"
    }
   ],
   "source": [
    "# we can visualize this small example if we convert it to an array\n",
    "X.toarray()"
   ]
  },
  {
   "cell_type": "code",
   "execution_count": 86,
   "metadata": {},
   "outputs": [
    {
     "name": "stdout",
     "output_type": "stream",
     "text": [
      "['about' 'amazing' 'data' 'is' 'modeling' 'of' 'part' 'predictive'\n",
      " 'science' 'the']\n"
     ]
    }
   ],
   "source": [
    "# Retrieve the vocabulary (feature names) from the CountVectorizer instance\n",
    "feature_names = vect.get_feature_names_out()\n",
    "print(feature_names)"
   ]
  },
  {
   "cell_type": "markdown",
   "metadata": {},
   "source": [
    "## build a vectorizer on the clinical notes"
   ]
  },
  {
   "cell_type": "code",
   "execution_count": 87,
   "metadata": {},
   "outputs": [
    {
     "name": "stderr",
     "output_type": "stream",
     "text": [
      "c:\\Users\\T\\AppData\\Local\\Programs\\Python\\Python311\\Lib\\site-packages\\sklearn\\feature_extraction\\text.py:525: UserWarning: The parameter 'token_pattern' will not be used since 'tokenizer' is not None'\n",
      "  warnings.warn(\n"
     ]
    },
    {
     "data": {
      "text/html": [
       "<style>#sk-container-id-1 {color: black;}#sk-container-id-1 pre{padding: 0;}#sk-container-id-1 div.sk-toggleable {background-color: white;}#sk-container-id-1 label.sk-toggleable__label {cursor: pointer;display: block;width: 100%;margin-bottom: 0;padding: 0.3em;box-sizing: border-box;text-align: center;}#sk-container-id-1 label.sk-toggleable__label-arrow:before {content: \"▸\";float: left;margin-right: 0.25em;color: #696969;}#sk-container-id-1 label.sk-toggleable__label-arrow:hover:before {color: black;}#sk-container-id-1 div.sk-estimator:hover label.sk-toggleable__label-arrow:before {color: black;}#sk-container-id-1 div.sk-toggleable__content {max-height: 0;max-width: 0;overflow: hidden;text-align: left;background-color: #f0f8ff;}#sk-container-id-1 div.sk-toggleable__content pre {margin: 0.2em;color: black;border-radius: 0.25em;background-color: #f0f8ff;}#sk-container-id-1 input.sk-toggleable__control:checked~div.sk-toggleable__content {max-height: 200px;max-width: 100%;overflow: auto;}#sk-container-id-1 input.sk-toggleable__control:checked~label.sk-toggleable__label-arrow:before {content: \"▾\";}#sk-container-id-1 div.sk-estimator input.sk-toggleable__control:checked~label.sk-toggleable__label {background-color: #d4ebff;}#sk-container-id-1 div.sk-label input.sk-toggleable__control:checked~label.sk-toggleable__label {background-color: #d4ebff;}#sk-container-id-1 input.sk-hidden--visually {border: 0;clip: rect(1px 1px 1px 1px);clip: rect(1px, 1px, 1px, 1px);height: 1px;margin: -1px;overflow: hidden;padding: 0;position: absolute;width: 1px;}#sk-container-id-1 div.sk-estimator {font-family: monospace;background-color: #f0f8ff;border: 1px dotted black;border-radius: 0.25em;box-sizing: border-box;margin-bottom: 0.5em;}#sk-container-id-1 div.sk-estimator:hover {background-color: #d4ebff;}#sk-container-id-1 div.sk-parallel-item::after {content: \"\";width: 100%;border-bottom: 1px solid gray;flex-grow: 1;}#sk-container-id-1 div.sk-label:hover label.sk-toggleable__label {background-color: #d4ebff;}#sk-container-id-1 div.sk-serial::before {content: \"\";position: absolute;border-left: 1px solid gray;box-sizing: border-box;top: 0;bottom: 0;left: 50%;z-index: 0;}#sk-container-id-1 div.sk-serial {display: flex;flex-direction: column;align-items: center;background-color: white;padding-right: 0.2em;padding-left: 0.2em;position: relative;}#sk-container-id-1 div.sk-item {position: relative;z-index: 1;}#sk-container-id-1 div.sk-parallel {display: flex;align-items: stretch;justify-content: center;background-color: white;position: relative;}#sk-container-id-1 div.sk-item::before, #sk-container-id-1 div.sk-parallel-item::before {content: \"\";position: absolute;border-left: 1px solid gray;box-sizing: border-box;top: 0;bottom: 0;left: 50%;z-index: -1;}#sk-container-id-1 div.sk-parallel-item {display: flex;flex-direction: column;z-index: 1;position: relative;background-color: white;}#sk-container-id-1 div.sk-parallel-item:first-child::after {align-self: flex-end;width: 50%;}#sk-container-id-1 div.sk-parallel-item:last-child::after {align-self: flex-start;width: 50%;}#sk-container-id-1 div.sk-parallel-item:only-child::after {width: 0;}#sk-container-id-1 div.sk-dashed-wrapped {border: 1px dashed gray;margin: 0 0.4em 0.5em 0.4em;box-sizing: border-box;padding-bottom: 0.4em;background-color: white;}#sk-container-id-1 div.sk-label label {font-family: monospace;font-weight: bold;display: inline-block;line-height: 1.2em;}#sk-container-id-1 div.sk-label-container {text-align: center;}#sk-container-id-1 div.sk-container {/* jupyter's `normalize.less` sets `[hidden] { display: none; }` but bootstrap.min.css set `[hidden] { display: none !important; }` so we also need the `!important` here to be able to override the default hidden behavior on the sphinx rendered scikit-learn.org. See: https://github.com/scikit-learn/scikit-learn/issues/21755 */display: inline-block !important;position: relative;}#sk-container-id-1 div.sk-text-repr-fallback {display: none;}</style><div id=\"sk-container-id-1\" class=\"sk-top-container\"><div class=\"sk-text-repr-fallback\"><pre>CountVectorizer(max_features=3000,\n",
       "                tokenizer=&lt;function tokenizer_better at 0x000001FEB844ADE0&gt;)</pre><b>In a Jupyter environment, please rerun this cell to show the HTML representation or trust the notebook. <br />On GitHub, the HTML representation is unable to render, please try loading this page with nbviewer.org.</b></div><div class=\"sk-container\" hidden><div class=\"sk-item\"><div class=\"sk-estimator sk-toggleable\"><input class=\"sk-toggleable__control sk-hidden--visually\" id=\"sk-estimator-id-1\" type=\"checkbox\" checked><label for=\"sk-estimator-id-1\" class=\"sk-toggleable__label sk-toggleable__label-arrow\">CountVectorizer</label><div class=\"sk-toggleable__content\"><pre>CountVectorizer(max_features=3000,\n",
       "                tokenizer=&lt;function tokenizer_better at 0x000001FEB844ADE0&gt;)</pre></div></div></div></div></div>"
      ],
      "text/plain": [
       "CountVectorizer(max_features=3000,\n",
       "                tokenizer=<function tokenizer_better at 0x000001FEB844ADE0>)"
      ]
     },
     "execution_count": 87,
     "metadata": {},
     "output_type": "execute_result"
    }
   ],
   "source": [
    "# from sklearn.feature_extraction.text import CountVectorizer\n",
    "vect = CountVectorizer(max_features = 3000, tokenizer = tokenizer_better)\n",
    "\n",
    "# this could take a while\n",
    "vect.fit(df_train.TEXT.values)"
   ]
  },
  {
   "cell_type": "markdown",
   "metadata": {},
   "source": [
    "# Zipf's law"
   ]
  },
  {
   "cell_type": "code",
   "execution_count": null,
   "metadata": {},
   "outputs": [],
   "source": [
    "# Transform text data for negative class samples\n",
    "neg_doc_matrix = vect.transform(df_train[df_train.OUTPUT_LABEL == 0].TEXT)\n",
    "\n",
    "# Transform text data for positive class samples\n",
    "pos_doc_matrix = vect.transform(df_train[df_train.OUTPUT_LABEL == 1].TEXT)\n",
    "\n",
    "# Compute term frequency for negative class documents\n",
    "neg_tf = np.sum(neg_doc_matrix, axis=0)\n",
    "\n",
    "# Compute term frequency for positive class documents\n",
    "pos_tf = np.sum(pos_doc_matrix, axis=0)\n",
    "\n",
    "# Convert term frequency matrices to 1D arrays\n",
    "neg = np.squeeze(np.asarray(neg_tf))\n",
    "pos = np.squeeze(np.asarray(pos_tf))\n",
    "\n",
    "# Create a DataFrame to store term frequency information\n",
    "term_freq_df = pd.DataFrame([neg, pos], columns=vect.get_feature_names_out()).transpose()\n",
    "term_freq_df.columns = ['negative', 'positive']\n",
    "\n",
    "# Add a 'total' column representing the sum of negative and positive counts\n",
    "term_freq_df['total'] = term_freq_df['negative'] + term_freq_df['positive']\n",
    "\n",
    "# Sort the DataFrame by total counts in descending order and retrieve the top 10 terms\n",
    "top_terms = term_freq_df.sort_values(by='total', ascending=False).iloc[:10]\n",
    "\n",
    "# # Create a bar plot for the top terms' counts\n",
    "# ax = top_terms['total'].plot(kind='bar', figsize=(10, 6), width=0.8, fontsize=14, rot=90, color='b')\n",
    "# ax.title.set_size(18)\n",
    "# plt.ylabel('count')\n",
    "# plt.show()\n",
    "\n",
    "# # Create a Series from the total term frequencies and sort it in descending order\n",
    "# d = pd.Series(term_freq_df.total, index=term_freq_df.index).sort_values(ascending=False)\n",
    "\n",
    "# # Create a bar plot for the top 50-100 terms' counts\n",
    "# ax = d[50:100].plot(kind='bar', figsize=(10, 6), width=0.8, fontsize=14, rot=90, color='b')\n",
    "# ax.title.set_size(18)\n",
    "# plt.ylabel('count')\n",
    "# plt.show()"
   ]
  },
  {
   "cell_type": "code",
   "execution_count": 89,
   "metadata": {},
   "outputs": [
    {
     "data": {
      "image/png": "[encoded data removed]",
      "text/plain": [
       "<Figure size 1200x800 with 1 Axes>"
      ]
     },
     "metadata": {},
     "output_type": "display_data"
    },
    {
     "data": {
      "image/png": "[encoded data removed]",
      "text/plain": [
       "<Figure size 1200x800 with 1 Axes>"
      ]
     },
     "metadata": {},
     "output_type": "display_data"
    }
   ],
   "source": [
    "# Set a more visually pleasing style for the plots\n",
    "sns.set(style=\"whitegrid\")\n",
    "plt.figure(figsize=(12, 8))  # Set a larger figure size\n",
    "\n",
    "# Create a bar plot for the top terms' counts\n",
    "ax = top_terms['total'].plot(kind='bar', color='dodgerblue', width=0.8)\n",
    "ax.set_title('Top Terms Frequency', fontsize=20)\n",
    "ax.set_xlabel('Terms', fontsize=16)\n",
    "ax.set_ylabel('Count', fontsize=16)\n",
    "ax.tick_params(axis='x', labelrotation=45)\n",
    "plt.xticks(fontsize=12)\n",
    "plt.yticks(fontsize=12)\n",
    "plt.tight_layout()\n",
    "plt.show()\n",
    "\n",
    "# Set a larger figure size again for the second plot\n",
    "plt.figure(figsize=(12, 8))\n",
    "\n",
    "# Create a bar plot for the top 50-100 terms' counts\n",
    "ax = d[50:100].plot(kind='bar', color='dodgerblue', width=0.8)\n",
    "ax.set_title('Top 50-100 Terms Frequency', fontsize=20)\n",
    "ax.set_xlabel('Terms', fontsize=16)\n",
    "ax.set_ylabel('Count', fontsize=16)\n",
    "ax.tick_params(axis='x', labelrotation=45)\n",
    "plt.xticks(fontsize=12)\n",
    "plt.yticks(fontsize=12)\n",
    "plt.tight_layout()\n",
    "plt.show()"
   ]
  },
  {
   "cell_type": "markdown",
   "metadata": {},
   "source": [
    "# Adding stopwords"
   ]
  },
  {
   "cell_type": "code",
   "execution_count": 96,
   "metadata": {},
   "outputs": [],
   "source": [
    "from nltk.corpus import stopwords\n",
    "\n",
    "# Load the English stop words list\n",
    "stop_words = stopwords.words('english')"
   ]
  },
  {
   "cell_type": "code",
   "execution_count": 97,
   "metadata": {},
   "outputs": [
    {
     "name": "stdout",
     "output_type": "stream",
     "text": [
      "['i', 'me', 'my', 'myself', 'we', 'our', 'ours', 'ourselves', 'you', \"you're\", \"you've\", \"you'll\", \"you'd\", 'your', 'yours', 'yourself', 'yourselves', 'he', 'him', 'his', 'himself', 'she', \"she's\", 'her', 'hers', 'herself', 'it', \"it's\", 'its', 'itself', 'they', 'them', 'their', 'theirs', 'themselves', 'what', 'which', 'who', 'whom', 'this', 'that', \"that'll\", 'these', 'those', 'am', 'is', 'are', 'was', 'were', 'be', 'been', 'being', 'have', 'has', 'had', 'having', 'do', 'does', 'did', 'doing', 'a', 'an', 'the', 'and', 'but', 'if', 'or', 'because', 'as', 'until', 'while', 'of', 'at', 'by', 'for', 'with', 'about', 'against', 'between', 'into', 'through', 'during', 'before', 'after', 'above', 'below', 'to', 'from', 'up', 'down', 'in', 'out', 'on', 'off', 'over', 'under', 'again', 'further', 'then', 'once', 'here', 'there', 'when', 'where', 'why', 'how', 'all', 'any', 'both', 'each', 'few', 'more', 'most', 'other', 'some', 'such', 'no', 'nor', 'not', 'only', 'own', 'same', 'so', 'than', 'too', 'very', 's', 't', 'can', 'will', 'just', 'don', \"don't\", 'should', \"should've\", 'now', 'd', 'll', 'm', 'o', 're', 've', 'y', 'ain', 'aren', \"aren't\", 'couldn', \"couldn't\", 'didn', \"didn't\", 'doesn', \"doesn't\", 'hadn', \"hadn't\", 'hasn', \"hasn't\", 'haven', \"haven't\", 'isn', \"isn't\", 'ma', 'mightn', \"mightn't\", 'mustn', \"mustn't\", 'needn', \"needn't\", 'shan', \"shan't\", 'shouldn', \"shouldn't\", 'wasn', \"wasn't\", 'weren', \"weren't\", 'won', \"won't\", 'wouldn', \"wouldn't\"]\n"
     ]
    }
   ],
   "source": [
    "print(stop_words)"
   ]
  },
  {
   "cell_type": "markdown",
   "metadata": {},
   "source": [
    "## Using vectorizer while removing the stopwords from text"
   ]
  },
  {
   "cell_type": "code",
   "execution_count": 102,
   "metadata": {},
   "outputs": [
    {
     "data": {
      "text/html": [
       "<style>#sk-container-id-3 {color: black;}#sk-container-id-3 pre{padding: 0;}#sk-container-id-3 div.sk-toggleable {background-color: white;}#sk-container-id-3 label.sk-toggleable__label {cursor: pointer;display: block;width: 100%;margin-bottom: 0;padding: 0.3em;box-sizing: border-box;text-align: center;}#sk-container-id-3 label.sk-toggleable__label-arrow:before {content: \"▸\";float: left;margin-right: 0.25em;color: #696969;}#sk-container-id-3 label.sk-toggleable__label-arrow:hover:before {color: black;}#sk-container-id-3 div.sk-estimator:hover label.sk-toggleable__label-arrow:before {color: black;}#sk-container-id-3 div.sk-toggleable__content {max-height: 0;max-width: 0;overflow: hidden;text-align: left;background-color: #f0f8ff;}#sk-container-id-3 div.sk-toggleable__content pre {margin: 0.2em;color: black;border-radius: 0.25em;background-color: #f0f8ff;}#sk-container-id-3 input.sk-toggleable__control:checked~div.sk-toggleable__content {max-height: 200px;max-width: 100%;overflow: auto;}#sk-container-id-3 input.sk-toggleable__control:checked~label.sk-toggleable__label-arrow:before {content: \"▾\";}#sk-container-id-3 div.sk-estimator input.sk-toggleable__control:checked~label.sk-toggleable__label {background-color: #d4ebff;}#sk-container-id-3 div.sk-label input.sk-toggleable__control:checked~label.sk-toggleable__label {background-color: #d4ebff;}#sk-container-id-3 input.sk-hidden--visually {border: 0;clip: rect(1px 1px 1px 1px);clip: rect(1px, 1px, 1px, 1px);height: 1px;margin: -1px;overflow: hidden;padding: 0;position: absolute;width: 1px;}#sk-container-id-3 div.sk-estimator {font-family: monospace;background-color: #f0f8ff;border: 1px dotted black;border-radius: 0.25em;box-sizing: border-box;margin-bottom: 0.5em;}#sk-container-id-3 div.sk-estimator:hover {background-color: #d4ebff;}#sk-container-id-3 div.sk-parallel-item::after {content: \"\";width: 100%;border-bottom: 1px solid gray;flex-grow: 1;}#sk-container-id-3 div.sk-label:hover label.sk-toggleable__label {background-color: #d4ebff;}#sk-container-id-3 div.sk-serial::before {content: \"\";position: absolute;border-left: 1px solid gray;box-sizing: border-box;top: 0;bottom: 0;left: 50%;z-index: 0;}#sk-container-id-3 div.sk-serial {display: flex;flex-direction: column;align-items: center;background-color: white;padding-right: 0.2em;padding-left: 0.2em;position: relative;}#sk-container-id-3 div.sk-item {position: relative;z-index: 1;}#sk-container-id-3 div.sk-parallel {display: flex;align-items: stretch;justify-content: center;background-color: white;position: relative;}#sk-container-id-3 div.sk-item::before, #sk-container-id-3 div.sk-parallel-item::before {content: \"\";position: absolute;border-left: 1px solid gray;box-sizing: border-box;top: 0;bottom: 0;left: 50%;z-index: -1;}#sk-container-id-3 div.sk-parallel-item {display: flex;flex-direction: column;z-index: 1;position: relative;background-color: white;}#sk-container-id-3 div.sk-parallel-item:first-child::after {align-self: flex-end;width: 50%;}#sk-container-id-3 div.sk-parallel-item:last-child::after {align-self: flex-start;width: 50%;}#sk-container-id-3 div.sk-parallel-item:only-child::after {width: 0;}#sk-container-id-3 div.sk-dashed-wrapped {border: 1px dashed gray;margin: 0 0.4em 0.5em 0.4em;box-sizing: border-box;padding-bottom: 0.4em;background-color: white;}#sk-container-id-3 div.sk-label label {font-family: monospace;font-weight: bold;display: inline-block;line-height: 1.2em;}#sk-container-id-3 div.sk-label-container {text-align: center;}#sk-container-id-3 div.sk-container {/* jupyter's `normalize.less` sets `[hidden] { display: none; }` but bootstrap.min.css set `[hidden] { display: none !important; }` so we also need the `!important` here to be able to override the default hidden behavior on the sphinx rendered scikit-learn.org. See: https://github.com/scikit-learn/scikit-learn/issues/21755 */display: inline-block !important;position: relative;}#sk-container-id-3 div.sk-text-repr-fallback {display: none;}</style><div id=\"sk-container-id-3\" class=\"sk-top-container\"><div class=\"sk-text-repr-fallback\"><pre>CountVectorizer(max_features=3000,\n",
       "                stop_words=[&#x27;i&#x27;, &#x27;me&#x27;, &#x27;my&#x27;, &#x27;myself&#x27;, &#x27;we&#x27;, &#x27;our&#x27;, &#x27;ours&#x27;,\n",
       "                            &#x27;ourselves&#x27;, &#x27;you&#x27;, &quot;you&#x27;re&quot;, &quot;you&#x27;ve&quot;, &quot;you&#x27;ll&quot;,\n",
       "                            &quot;you&#x27;d&quot;, &#x27;your&#x27;, &#x27;yours&#x27;, &#x27;yourself&#x27;, &#x27;yourselves&#x27;,\n",
       "                            &#x27;he&#x27;, &#x27;him&#x27;, &#x27;his&#x27;, &#x27;himself&#x27;, &#x27;she&#x27;, &quot;she&#x27;s&quot;,\n",
       "                            &#x27;her&#x27;, &#x27;hers&#x27;, &#x27;herself&#x27;, &#x27;it&#x27;, &quot;it&#x27;s&quot;, &#x27;its&#x27;,\n",
       "                            &#x27;itself&#x27;, ...],\n",
       "                tokenizer=&lt;function tokenizer_better at 0x000001FEB844ADE0&gt;)</pre><b>In a Jupyter environment, please rerun this cell to show the HTML representation or trust the notebook. <br />On GitHub, the HTML representation is unable to render, please try loading this page with nbviewer.org.</b></div><div class=\"sk-container\" hidden><div class=\"sk-item\"><div class=\"sk-estimator sk-toggleable\"><input class=\"sk-toggleable__control sk-hidden--visually\" id=\"sk-estimator-id-3\" type=\"checkbox\" checked><label for=\"sk-estimator-id-3\" class=\"sk-toggleable__label sk-toggleable__label-arrow\">CountVectorizer</label><div class=\"sk-toggleable__content\"><pre>CountVectorizer(max_features=3000,\n",
       "                stop_words=[&#x27;i&#x27;, &#x27;me&#x27;, &#x27;my&#x27;, &#x27;myself&#x27;, &#x27;we&#x27;, &#x27;our&#x27;, &#x27;ours&#x27;,\n",
       "                            &#x27;ourselves&#x27;, &#x27;you&#x27;, &quot;you&#x27;re&quot;, &quot;you&#x27;ve&quot;, &quot;you&#x27;ll&quot;,\n",
       "                            &quot;you&#x27;d&quot;, &#x27;your&#x27;, &#x27;yours&#x27;, &#x27;yourself&#x27;, &#x27;yourselves&#x27;,\n",
       "                            &#x27;he&#x27;, &#x27;him&#x27;, &#x27;his&#x27;, &#x27;himself&#x27;, &#x27;she&#x27;, &quot;she&#x27;s&quot;,\n",
       "                            &#x27;her&#x27;, &#x27;hers&#x27;, &#x27;herself&#x27;, &#x27;it&#x27;, &quot;it&#x27;s&quot;, &#x27;its&#x27;,\n",
       "                            &#x27;itself&#x27;, ...],\n",
       "                tokenizer=&lt;function tokenizer_better at 0x000001FEB844ADE0&gt;)</pre></div></div></div></div></div>"
      ],
      "text/plain": [
       "CountVectorizer(max_features=3000,\n",
       "                stop_words=['i', 'me', 'my', 'myself', 'we', 'our', 'ours',\n",
       "                            'ourselves', 'you', \"you're\", \"you've\", \"you'll\",\n",
       "                            \"you'd\", 'your', 'yours', 'yourself', 'yourselves',\n",
       "                            'he', 'him', 'his', 'himself', 'she', \"she's\",\n",
       "                            'her', 'hers', 'herself', 'it', \"it's\", 'its',\n",
       "                            'itself', ...],\n",
       "                tokenizer=<function tokenizer_better at 0x000001FEB844ADE0>)"
      ]
     },
     "execution_count": 102,
     "metadata": {},
     "output_type": "execute_result"
    }
   ],
   "source": [
    "vect = CountVectorizer(max_features = 3000,\n",
    "                       tokenizer = tokenizer_better,\n",
    "                       stop_words = stop_words\n",
    "                       )\n",
    "# this could take a while\n",
    "vect.fit(df_train.TEXT.values)"
   ]
  },
  {
   "cell_type": "markdown",
   "metadata": {},
   "source": [
    "Transform notes into the vector format"
   ]
  },
  {
   "cell_type": "code",
   "execution_count": 103,
   "metadata": {},
   "outputs": [],
   "source": [
    "X_train_tf = vect.transform(df_train.TEXT.values)\n",
    "X_valid_tf = vect.transform(df_valid.TEXT.values)"
   ]
  },
  {
   "cell_type": "markdown",
   "metadata": {},
   "source": [
    "Get labels"
   ]
  },
  {
   "cell_type": "code",
   "execution_count": 106,
   "metadata": {},
   "outputs": [],
   "source": [
    "y_train = df_train.OUTPUT_LABEL\n",
    "y_valid = df_valid.OUTPUT_LABEL"
   ]
  },
  {
   "cell_type": "code",
   "execution_count": null,
   "metadata": {},
   "outputs": [],
   "source": []
  }
 ],
 "metadata": {
  "kernelspec": {
   "display_name": "Python 3",
   "language": "python",
   "name": "python3"
  },
  "language_info": {
   "codemirror_mode": {
    "name": "ipython",
    "version": 3
   },
   "file_extension": ".py",
   "mimetype": "text/x-python",
   "name": "python",
   "nbconvert_exporter": "python",
   "pygments_lexer": "ipython3",
   "version": "3.11.4"
  },
  "orig_nbformat": 4
 },
 "nbformat": 4,
 "nbformat_minor": 2
}
