{
 "cells": [
  {
   "cell_type": "markdown",
   "metadata": {},
   "source": [
    " build a classification model to predict which patients are at risk for 30-day unplanned readmission utilizing free-text hospital discharge summaries."
   ]
  },
  {
   "cell_type": "code",
   "execution_count": 1,
   "metadata": {},
   "outputs": [],
   "source": [
    "import pandas as pd \n",
    "import numpy as np \n",
    "import matplotlib.pyplot as plt\n",
    "df_adm = pd.read_csv('ADMISSIONS.csv.gz')\n",
    "#!pip install seaborn\n",
    "import seaborn as sns\n",
    "#!pip install scikit-learn"
   ]
  },
  {
   "cell_type": "code",
   "execution_count": null,
   "metadata": {},
   "outputs": [],
   "source": [
    "df_adm.info()\n"
   ]
  },
  {
   "cell_type": "code",
   "execution_count": null,
   "metadata": {},
   "outputs": [],
   "source": [
    "df_adm.head(100)\n"
   ]
  },
  {
   "cell_type": "code",
   "execution_count": 4,
   "metadata": {},
   "outputs": [],
   "source": [
    "df_adm2 = df_adm[['SUBJECT_ID', 'HADM_ID', 'ADMITTIME', 'DISCHTIME',\n",
    "       'DEATHTIME', 'ADMISSION_TYPE']]"
   ]
  },
  {
   "cell_type": "code",
   "execution_count": 5,
   "metadata": {},
   "outputs": [
    {
     "data": {
      "text/html": [
       "<div>\n",
       "<style scoped>\n",
       "    .dataframe tbody tr th:only-of-type {\n",
       "        vertical-align: middle;\n",
       "    }\n",
       "\n",
       "    .dataframe tbody tr th {\n",
       "        vertical-align: top;\n",
       "    }\n",
       "\n",
       "    .dataframe thead th {\n",
       "        text-align: right;\n",
       "    }\n",
       "</style>\n",
       "<table border=\"1\" class=\"dataframe\">\n",
       "  <thead>\n",
       "    <tr style=\"text-align: right;\">\n",
       "      <th></th>\n",
       "      <th>SUBJECT_ID</th>\n",
       "      <th>HADM_ID</th>\n",
       "      <th>ADMITTIME</th>\n",
       "      <th>DISCHTIME</th>\n",
       "      <th>DEATHTIME</th>\n",
       "      <th>ADMISSION_TYPE</th>\n",
       "    </tr>\n",
       "  </thead>\n",
       "  <tbody>\n",
       "    <tr>\n",
       "      <th>0</th>\n",
       "      <td>22</td>\n",
       "      <td>165315</td>\n",
       "      <td>2196-04-09 12:26:00</td>\n",
       "      <td>2196-04-10 15:54:00</td>\n",
       "      <td>NaN</td>\n",
       "      <td>EMERGENCY</td>\n",
       "    </tr>\n",
       "    <tr>\n",
       "      <th>1</th>\n",
       "      <td>23</td>\n",
       "      <td>152223</td>\n",
       "      <td>2153-09-03 07:15:00</td>\n",
       "      <td>2153-09-08 19:10:00</td>\n",
       "      <td>NaN</td>\n",
       "      <td>ELECTIVE</td>\n",
       "    </tr>\n",
       "    <tr>\n",
       "      <th>2</th>\n",
       "      <td>23</td>\n",
       "      <td>124321</td>\n",
       "      <td>2157-10-18 19:34:00</td>\n",
       "      <td>2157-10-25 14:00:00</td>\n",
       "      <td>NaN</td>\n",
       "      <td>EMERGENCY</td>\n",
       "    </tr>\n",
       "    <tr>\n",
       "      <th>3</th>\n",
       "      <td>24</td>\n",
       "      <td>161859</td>\n",
       "      <td>2139-06-06 16:14:00</td>\n",
       "      <td>2139-06-09 12:48:00</td>\n",
       "      <td>NaN</td>\n",
       "      <td>EMERGENCY</td>\n",
       "    </tr>\n",
       "    <tr>\n",
       "      <th>4</th>\n",
       "      <td>25</td>\n",
       "      <td>129635</td>\n",
       "      <td>2160-11-02 02:06:00</td>\n",
       "      <td>2160-11-05 14:55:00</td>\n",
       "      <td>NaN</td>\n",
       "      <td>EMERGENCY</td>\n",
       "    </tr>\n",
       "  </tbody>\n",
       "</table>\n",
       "</div>"
      ],
      "text/plain": [
       "   SUBJECT_ID  HADM_ID            ADMITTIME            DISCHTIME DEATHTIME  \\\n",
       "0          22   165315  2196-04-09 12:26:00  2196-04-10 15:54:00       NaN   \n",
       "1          23   152223  2153-09-03 07:15:00  2153-09-08 19:10:00       NaN   \n",
       "2          23   124321  2157-10-18 19:34:00  2157-10-25 14:00:00       NaN   \n",
       "3          24   161859  2139-06-06 16:14:00  2139-06-09 12:48:00       NaN   \n",
       "4          25   129635  2160-11-02 02:06:00  2160-11-05 14:55:00       NaN   \n",
       "\n",
       "  ADMISSION_TYPE  \n",
       "0      EMERGENCY  \n",
       "1       ELECTIVE  \n",
       "2      EMERGENCY  \n",
       "3      EMERGENCY  \n",
       "4      EMERGENCY  "
      ]
     },
     "execution_count": 5,
     "metadata": {},
     "output_type": "execute_result"
    }
   ],
   "source": [
    "df_adm2.head()"
   ]
  },
  {
   "cell_type": "code",
   "execution_count": null,
   "metadata": {},
   "outputs": [],
   "source": [
    "# convert the dates from their string format into a datetime.\n",
    "df_adm2.ADMITTIME = pd.to_datetime( df_adm2.ADMITTIME, format = '%Y-%m-%d %H:%M:%S', errors ='coerce')\n",
    "\n",
    "df_adm2.DISCHTIME = pd.to_datetime( df_adm2.DISCHTIME, format = '%Y-%m-%d %H:%M:%S', errors ='coerce')\n",
    "\n",
    "df_adm2.DEATHTIME = pd.to_datetime( df_adm2.DEATHTIME, format = '%Y-%m-%d %H:%M:%S', errors ='coerce')"
   ]
  },
  {
   "cell_type": "code",
   "execution_count": 7,
   "metadata": {},
   "outputs": [
    {
     "name": "stdout",
     "output_type": "stream",
     "text": [
      "<class 'pandas.core.frame.DataFrame'>\n",
      "RangeIndex: 58976 entries, 0 to 58975\n",
      "Data columns (total 6 columns):\n",
      " #   Column          Non-Null Count  Dtype         \n",
      "---  ------          --------------  -----         \n",
      " 0   SUBJECT_ID      58976 non-null  int64         \n",
      " 1   HADM_ID         58976 non-null  int64         \n",
      " 2   ADMITTIME       58976 non-null  datetime64[ns]\n",
      " 3   DISCHTIME       58976 non-null  datetime64[ns]\n",
      " 4   DEATHTIME       5854 non-null   datetime64[ns]\n",
      " 5   ADMISSION_TYPE  58976 non-null  object        \n",
      "dtypes: datetime64[ns](3), int64(2), object(1)\n",
      "memory usage: 2.7+ MB\n"
     ]
    }
   ],
   "source": [
    "df_adm2.info()"
   ]
  },
  {
   "cell_type": "code",
   "execution_count": 8,
   "metadata": {},
   "outputs": [],
   "source": [
    "df_adm2 = df_adm2.sort_values(['SUBJECT_ID','ADMITTIME'])\n",
    "df_adm2 = df_adm2.reset_index(drop = True)"
   ]
  },
  {
   "cell_type": "code",
   "execution_count": null,
   "metadata": {},
   "outputs": [],
   "source": [
    "pd.options.display.max_rows = 200\n",
    "df_adm2.head(200)\n"
   ]
  },
  {
   "cell_type": "markdown",
   "metadata": {},
   "source": [
    "It is worth observing that SUBJECT_ID==109 has been admitted a total of 34 times between the dates 2137-11-04 and 2142-08-28."
   ]
  },
  {
   "cell_type": "code",
   "execution_count": 10,
   "metadata": {},
   "outputs": [
    {
     "data": {
      "text/html": [
       "<div>\n",
       "<style scoped>\n",
       "    .dataframe tbody tr th:only-of-type {\n",
       "        vertical-align: middle;\n",
       "    }\n",
       "\n",
       "    .dataframe tbody tr th {\n",
       "        vertical-align: top;\n",
       "    }\n",
       "\n",
       "    .dataframe thead th {\n",
       "        text-align: right;\n",
       "    }\n",
       "</style>\n",
       "<table border=\"1\" class=\"dataframe\">\n",
       "  <thead>\n",
       "    <tr style=\"text-align: right;\">\n",
       "      <th></th>\n",
       "      <th>SUBJECT_ID</th>\n",
       "      <th>HADM_ID</th>\n",
       "      <th>ADMITTIME</th>\n",
       "      <th>DISCHTIME</th>\n",
       "      <th>DEATHTIME</th>\n",
       "      <th>ADMISSION_TYPE</th>\n",
       "      <th>NEXT_ADMITTIME</th>\n",
       "      <th>NEXT_ADMISSION_TYPE</th>\n",
       "    </tr>\n",
       "  </thead>\n",
       "  <tbody>\n",
       "    <tr>\n",
       "      <th>35</th>\n",
       "      <td>36</td>\n",
       "      <td>182104</td>\n",
       "      <td>2131-04-30 07:15:00</td>\n",
       "      <td>2131-05-08 14:00:00</td>\n",
       "      <td>NaT</td>\n",
       "      <td>EMERGENCY</td>\n",
       "      <td>2131-05-12 19:49:00</td>\n",
       "      <td>EMERGENCY</td>\n",
       "    </tr>\n",
       "    <tr>\n",
       "      <th>36</th>\n",
       "      <td>36</td>\n",
       "      <td>122659</td>\n",
       "      <td>2131-05-12 19:49:00</td>\n",
       "      <td>2131-05-25 13:30:00</td>\n",
       "      <td>NaT</td>\n",
       "      <td>EMERGENCY</td>\n",
       "      <td>2134-05-10 11:30:00</td>\n",
       "      <td>ELECTIVE</td>\n",
       "    </tr>\n",
       "    <tr>\n",
       "      <th>37</th>\n",
       "      <td>36</td>\n",
       "      <td>165660</td>\n",
       "      <td>2134-05-10 11:30:00</td>\n",
       "      <td>2134-05-20 13:16:00</td>\n",
       "      <td>NaT</td>\n",
       "      <td>ELECTIVE</td>\n",
       "      <td>NaT</td>\n",
       "      <td>NaN</td>\n",
       "    </tr>\n",
       "    <tr>\n",
       "      <th>38</th>\n",
       "      <td>37</td>\n",
       "      <td>188670</td>\n",
       "      <td>2183-08-21 16:48:00</td>\n",
       "      <td>2183-08-26 18:54:00</td>\n",
       "      <td>NaT</td>\n",
       "      <td>EMERGENCY</td>\n",
       "      <td>NaT</td>\n",
       "      <td>NaN</td>\n",
       "    </tr>\n",
       "  </tbody>\n",
       "</table>\n",
       "</div>"
      ],
      "text/plain": [
       "    SUBJECT_ID  HADM_ID           ADMITTIME           DISCHTIME DEATHTIME  \\\n",
       "35          36   182104 2131-04-30 07:15:00 2131-05-08 14:00:00       NaT   \n",
       "36          36   122659 2131-05-12 19:49:00 2131-05-25 13:30:00       NaT   \n",
       "37          36   165660 2134-05-10 11:30:00 2134-05-20 13:16:00       NaT   \n",
       "38          37   188670 2183-08-21 16:48:00 2183-08-26 18:54:00       NaT   \n",
       "\n",
       "   ADMISSION_TYPE      NEXT_ADMITTIME NEXT_ADMISSION_TYPE  \n",
       "35      EMERGENCY 2131-05-12 19:49:00           EMERGENCY  \n",
       "36      EMERGENCY 2134-05-10 11:30:00            ELECTIVE  \n",
       "37       ELECTIVE                 NaT                 NaN  \n",
       "38      EMERGENCY                 NaT                 NaN  "
      ]
     },
     "execution_count": 10,
     "metadata": {},
     "output_type": "execute_result"
    }
   ],
   "source": [
    "# we add 2 new column. \n",
    "df_adm2['NEXT_ADMITTIME'] = df_adm2.groupby(\"SUBJECT_ID\").ADMITTIME.shift(-1)\n",
    "\n",
    "df_adm2['NEXT_ADMISSION_TYPE'] = df_adm2.groupby('SUBJECT_ID').ADMISSION_TYPE.shift(-1)\n",
    "df_adm2.head(20)\n",
    "# For each admission, we can observe the time and type of any subsequent admission, if applicable.\n",
    "\n",
    "\n",
    "#Subject_ID 36 serves as an excellent illustration of having experienced two consecutive admissions,\n",
    "#with the final one being elective.\n",
    "df_adm2.loc[ [35,36,37,38] , :]\n",
    "\n",
    "\n"
   ]
  },
  {
   "cell_type": "markdown",
   "metadata": {},
   "source": [
    "But, we want to predict UNPLANNED re-admissions, so we should filter out the ELECTIVE next admissions."
   ]
  },
  {
   "cell_type": "code",
   "execution_count": 70,
   "metadata": {},
   "outputs": [
    {
     "data": {
      "text/html": [
       "<div>\n",
       "<style scoped>\n",
       "    .dataframe tbody tr th:only-of-type {\n",
       "        vertical-align: middle;\n",
       "    }\n",
       "\n",
       "    .dataframe tbody tr th {\n",
       "        vertical-align: top;\n",
       "    }\n",
       "\n",
       "    .dataframe thead th {\n",
       "        text-align: right;\n",
       "    }\n",
       "</style>\n",
       "<table border=\"1\" class=\"dataframe\">\n",
       "  <thead>\n",
       "    <tr style=\"text-align: right;\">\n",
       "      <th></th>\n",
       "      <th>SUBJECT_ID</th>\n",
       "      <th>HADM_ID</th>\n",
       "      <th>ADMITTIME</th>\n",
       "      <th>DISCHTIME</th>\n",
       "      <th>DEATHTIME</th>\n",
       "      <th>ADMISSION_TYPE</th>\n",
       "      <th>NEXT_ADMITTIME</th>\n",
       "      <th>NEXT_ADMISSION_TYPE</th>\n",
       "    </tr>\n",
       "  </thead>\n",
       "  <tbody>\n",
       "    <tr>\n",
       "      <th>35</th>\n",
       "      <td>36</td>\n",
       "      <td>182104</td>\n",
       "      <td>2131-04-30 07:15:00</td>\n",
       "      <td>2131-05-08 14:00:00</td>\n",
       "      <td>NaT</td>\n",
       "      <td>EMERGENCY</td>\n",
       "      <td>2131-05-12 19:49:00</td>\n",
       "      <td>EMERGENCY</td>\n",
       "    </tr>\n",
       "    <tr>\n",
       "      <th>36</th>\n",
       "      <td>36</td>\n",
       "      <td>122659</td>\n",
       "      <td>2131-05-12 19:49:00</td>\n",
       "      <td>2131-05-25 13:30:00</td>\n",
       "      <td>NaT</td>\n",
       "      <td>EMERGENCY</td>\n",
       "      <td>NaT</td>\n",
       "      <td>NaN</td>\n",
       "    </tr>\n",
       "    <tr>\n",
       "      <th>37</th>\n",
       "      <td>36</td>\n",
       "      <td>165660</td>\n",
       "      <td>2134-05-10 11:30:00</td>\n",
       "      <td>2134-05-20 13:16:00</td>\n",
       "      <td>NaT</td>\n",
       "      <td>ELECTIVE</td>\n",
       "      <td>NaT</td>\n",
       "      <td>NaN</td>\n",
       "    </tr>\n",
       "    <tr>\n",
       "      <th>38</th>\n",
       "      <td>37</td>\n",
       "      <td>188670</td>\n",
       "      <td>2183-08-21 16:48:00</td>\n",
       "      <td>2183-08-26 18:54:00</td>\n",
       "      <td>NaT</td>\n",
       "      <td>EMERGENCY</td>\n",
       "      <td>NaT</td>\n",
       "      <td>NaN</td>\n",
       "    </tr>\n",
       "  </tbody>\n",
       "</table>\n",
       "</div>"
      ],
      "text/plain": [
       "    SUBJECT_ID  HADM_ID           ADMITTIME           DISCHTIME DEATHTIME  \\\n",
       "35          36   182104 2131-04-30 07:15:00 2131-05-08 14:00:00       NaT   \n",
       "36          36   122659 2131-05-12 19:49:00 2131-05-25 13:30:00       NaT   \n",
       "37          36   165660 2134-05-10 11:30:00 2134-05-20 13:16:00       NaT   \n",
       "38          37   188670 2183-08-21 16:48:00 2183-08-26 18:54:00       NaT   \n",
       "\n",
       "   ADMISSION_TYPE      NEXT_ADMITTIME NEXT_ADMISSION_TYPE  \n",
       "35      EMERGENCY 2131-05-12 19:49:00           EMERGENCY  \n",
       "36      EMERGENCY                 NaT                 NaN  \n",
       "37       ELECTIVE                 NaT                 NaN  \n",
       "38      EMERGENCY                 NaT                 NaN  "
      ]
     },
     "execution_count": 70,
     "metadata": {},
     "output_type": "execute_result"
    }
   ],
   "source": [
    "# get rows where next admission is elective\n",
    "Rows_next_elective = df_adm2.NEXT_ADMISSION_TYPE == 'ELECTIVE'\n",
    "\n",
    "#next admission time and type replaced by(NaT, NaN) in rows with elective admission\n",
    "df_adm2.loc[Rows_next_elective,'NEXT_ADMITTIME'] = pd.NaT\n",
    "df_adm2.loc[Rows_next_elective,'NEXT_ADMISSION_TYPE'] = np.NaN\n",
    "\n",
    "df_adm2.loc[ [35,36,37,38] , :]\n",
    "# we can observe the changes in SUBJECT_ID==36"
   ]
  },
  {
   "cell_type": "code",
   "execution_count": 71,
   "metadata": {},
   "outputs": [],
   "source": [
    "#sort by subject_ID and admission date\n",
    "# it is safer to sort right before the fill in case something changed the order above\n",
    "\n",
    "df_adm2 = df_adm2.sort_values(['SUBJECT_ID','ADMITTIME'])\n",
    "# back fill (this will take a little while)\n",
    "df_adm2[['NEXT_ADMITTIME','NEXT_ADMISSION_TYPE']] = df_adm2.groupby(['SUBJECT_ID'])[['NEXT_ADMITTIME','NEXT_ADMISSION_TYPE']].fillna(method = 'bfill')\n"
   ]
  },
  {
   "cell_type": "markdown",
   "metadata": {},
   "source": [
    "Next step = calculate the days until the next admission"
   ]
  },
  {
   "cell_type": "code",
   "execution_count": 22,
   "metadata": {},
   "outputs": [
    {
     "data": {
      "text/html": [
       "<div>\n",
       "<style scoped>\n",
       "    .dataframe tbody tr th:only-of-type {\n",
       "        vertical-align: middle;\n",
       "    }\n",
       "\n",
       "    .dataframe tbody tr th {\n",
       "        vertical-align: top;\n",
       "    }\n",
       "\n",
       "    .dataframe thead th {\n",
       "        text-align: right;\n",
       "    }\n",
       "</style>\n",
       "<table border=\"1\" class=\"dataframe\">\n",
       "  <thead>\n",
       "    <tr style=\"text-align: right;\">\n",
       "      <th></th>\n",
       "      <th>SUBJECT_ID</th>\n",
       "      <th>HADM_ID</th>\n",
       "      <th>ADMITTIME</th>\n",
       "      <th>DISCHTIME</th>\n",
       "      <th>DEATHTIME</th>\n",
       "      <th>ADMISSION_TYPE</th>\n",
       "      <th>NEXT_ADMITTIME</th>\n",
       "      <th>NEXT_ADMISSION_TYPE</th>\n",
       "      <th>DAYS_NEXT_ADMIT</th>\n",
       "    </tr>\n",
       "  </thead>\n",
       "  <tbody>\n",
       "    <tr>\n",
       "      <th>35</th>\n",
       "      <td>36</td>\n",
       "      <td>182104</td>\n",
       "      <td>2131-04-30 07:15:00</td>\n",
       "      <td>2131-05-08 14:00:00</td>\n",
       "      <td>NaT</td>\n",
       "      <td>EMERGENCY</td>\n",
       "      <td>2131-05-12 19:49:00</td>\n",
       "      <td>EMERGENCY</td>\n",
       "      <td>4.242361</td>\n",
       "    </tr>\n",
       "    <tr>\n",
       "      <th>36</th>\n",
       "      <td>36</td>\n",
       "      <td>122659</td>\n",
       "      <td>2131-05-12 19:49:00</td>\n",
       "      <td>2131-05-25 13:30:00</td>\n",
       "      <td>NaT</td>\n",
       "      <td>EMERGENCY</td>\n",
       "      <td>2134-05-10 11:30:00</td>\n",
       "      <td>ELECTIVE</td>\n",
       "      <td>1080.916667</td>\n",
       "    </tr>\n",
       "    <tr>\n",
       "      <th>37</th>\n",
       "      <td>36</td>\n",
       "      <td>165660</td>\n",
       "      <td>2134-05-10 11:30:00</td>\n",
       "      <td>2134-05-20 13:16:00</td>\n",
       "      <td>NaT</td>\n",
       "      <td>ELECTIVE</td>\n",
       "      <td>NaT</td>\n",
       "      <td>NaN</td>\n",
       "      <td>NaN</td>\n",
       "    </tr>\n",
       "    <tr>\n",
       "      <th>38</th>\n",
       "      <td>37</td>\n",
       "      <td>188670</td>\n",
       "      <td>2183-08-21 16:48:00</td>\n",
       "      <td>2183-08-26 18:54:00</td>\n",
       "      <td>NaT</td>\n",
       "      <td>EMERGENCY</td>\n",
       "      <td>NaT</td>\n",
       "      <td>NaN</td>\n",
       "      <td>NaN</td>\n",
       "    </tr>\n",
       "  </tbody>\n",
       "</table>\n",
       "</div>"
      ],
      "text/plain": [
       "    SUBJECT_ID  HADM_ID           ADMITTIME           DISCHTIME DEATHTIME  \\\n",
       "35          36   182104 2131-04-30 07:15:00 2131-05-08 14:00:00       NaT   \n",
       "36          36   122659 2131-05-12 19:49:00 2131-05-25 13:30:00       NaT   \n",
       "37          36   165660 2134-05-10 11:30:00 2134-05-20 13:16:00       NaT   \n",
       "38          37   188670 2183-08-21 16:48:00 2183-08-26 18:54:00       NaT   \n",
       "\n",
       "   ADMISSION_TYPE      NEXT_ADMITTIME NEXT_ADMISSION_TYPE  DAYS_NEXT_ADMIT  \n",
       "35      EMERGENCY 2131-05-12 19:49:00           EMERGENCY         4.242361  \n",
       "36      EMERGENCY 2134-05-10 11:30:00            ELECTIVE      1080.916667  \n",
       "37       ELECTIVE                 NaT                 NaN              NaN  \n",
       "38      EMERGENCY                 NaT                 NaN              NaN  "
      ]
     },
     "execution_count": 22,
     "metadata": {},
     "output_type": "execute_result"
    }
   ],
   "source": [
    "\n",
    "df_adm2['DAYS_NEXT_ADMIT'] = (df_adm2.NEXT_ADMITTIME - df_adm2.DISCHTIME).dt.total_seconds()/(24*60*60)\n",
    "df_adm2.loc[ [35,36,37,38] , :]\n"
   ]
  },
  {
   "cell_type": "code",
   "execution_count": 20,
   "metadata": {},
   "outputs": [
    {
     "name": "stdout",
     "output_type": "stream",
     "text": [
      "Num_readmitted: 12456\n",
      "Total_Number: 58976\n"
     ]
    }
   ],
   "source": [
    "\n",
    "print('Num_readmitted:', (~df_adm2.DAYS_NEXT_ADMIT.isnull()).sum())\n",
    "print('Total_Number:', len(df_adm2))\n",
    "\n",
    "\n",
    "#In our dataset with 58976 hospitalizations, there are 11399 re-admissions\n",
    "# about 19% of patients have been readmitted \n"
   ]
  },
  {
   "cell_type": "code",
   "execution_count": 24,
   "metadata": {},
   "outputs": [
    {
     "data": {
      "text/plain": [
       "3390"
      ]
     },
     "execution_count": 24,
     "metadata": {},
     "output_type": "execute_result"
    }
   ],
   "source": [
    "num_readmitted_less_30 = (df_adm2.DAYS_NEXT_ADMIT<30.000000).sum()\n",
    "num_readmitted_less_30\n"
   ]
  },
  {
   "cell_type": "markdown",
   "metadata": {},
   "source": [
    "Out of 58,976 patients, 11,399 were readmitted, and 3390 of them had been readmitted within 30 days of leaving the hospital."
   ]
  },
  {
   "cell_type": "code",
   "execution_count": 25,
   "metadata": {},
   "outputs": [
    {
     "data": {
      "image/png": "[encoded data removed]",
      "text/plain": [
       "<Figure size 1000x600 with 1 Axes>"
      ]
     },
     "metadata": {},
     "output_type": "display_data"
    }
   ],
   "source": [
    "\n",
    "# Set the style for the plot\n",
    "sns.set(style=\"whitegrid\")\n",
    "\n",
    "# Create a figure and axis with a specific size\n",
    "plt.figure(figsize=(10, 6))\n",
    "\n",
    "# Plot the histogram using Seaborn\n",
    "sns.histplot(data=df_adm2.loc[~df_adm2.DAYS_NEXT_ADMIT.isnull(),'DAYS_NEXT_ADMIT'], bins=range(0, 365, 30), kde=False, color='steelblue', edgecolor='black')\n",
    "\n",
    "# Set plot title and labels\n",
    "plt.title('Histogram of Days Between Readmissions')\n",
    "plt.xlabel('Days Between Admissions')\n",
    "plt.ylabel('Counts')\n",
    "\n",
    "# Set x-axis and y-axis limits\n",
    "plt.xlim([0, 365])\n",
    "\n",
    "# Show plot\n",
    "plt.show()"
   ]
  },
  {
   "cell_type": "code",
   "execution_count": 26,
   "metadata": {},
   "outputs": [
    {
     "name": "stderr",
     "output_type": "stream",
     "text": [
      "C:\\Users\\T\\AppData\\Local\\Temp\\ipykernel_4904\\2246050120.py:1: DtypeWarning: Columns (4,5) have mixed types. Specify dtype option on import or set low_memory=False.\n",
      "  df_notes = pd.read_csv(\"NOTEEVENTS.csv.gz\")\n"
     ]
    }
   ],
   "source": [
    "df_notes = pd.read_csv(\"NOTEEVENTS.csv.gz\")\n"
   ]
  },
  {
   "cell_type": "code",
   "execution_count": null,
   "metadata": {},
   "outputs": [],
   "source": [
    "df_notes.head()\n"
   ]
  },
  {
   "cell_type": "code",
   "execution_count": 28,
   "metadata": {},
   "outputs": [
    {
     "name": "stdout",
     "output_type": "stream",
     "text": [
      "<class 'pandas.core.frame.DataFrame'>\n",
      "RangeIndex: 2083180 entries, 0 to 2083179\n",
      "Data columns (total 11 columns):\n",
      " #   Column       Dtype  \n",
      "---  ------       -----  \n",
      " 0   ROW_ID       int64  \n",
      " 1   SUBJECT_ID   int64  \n",
      " 2   HADM_ID      float64\n",
      " 3   CHARTDATE    object \n",
      " 4   CHARTTIME    object \n",
      " 5   STORETIME    object \n",
      " 6   CATEGORY     object \n",
      " 7   DESCRIPTION  object \n",
      " 8   CGID         float64\n",
      " 9   ISERROR      float64\n",
      " 10  TEXT         object \n",
      "dtypes: float64(3), int64(2), object(6)\n",
      "memory usage: 174.8+ MB\n"
     ]
    }
   ],
   "source": [
    "df_notes.info()"
   ]
  },
  {
   "cell_type": "code",
   "execution_count": 29,
   "metadata": {},
   "outputs": [],
   "source": [
    "use_cols = ['SUBJECT_ID', 'HADM_ID', 'CATEGORY', 'TEXT']\n"
   ]
  },
  {
   "cell_type": "code",
   "execution_count": 30,
   "metadata": {},
   "outputs": [],
   "source": [
    "df_notes = pd.read_csv(\"NOTEEVENTS.csv.gz\",usecols= use_cols, low_memory = False, engine = \"c\")\n"
   ]
  },
  {
   "cell_type": "code",
   "execution_count": 31,
   "metadata": {},
   "outputs": [
    {
     "name": "stdout",
     "output_type": "stream",
     "text": [
      "Number of Notes: 2083180\n"
     ]
    }
   ],
   "source": [
    "print('Number of Notes: {}'.format(len(df_notes)))"
   ]
  },
  {
   "cell_type": "code",
   "execution_count": 32,
   "metadata": {},
   "outputs": [
    {
     "data": {
      "text/html": [
       "<div>\n",
       "<style scoped>\n",
       "    .dataframe tbody tr th:only-of-type {\n",
       "        vertical-align: middle;\n",
       "    }\n",
       "\n",
       "    .dataframe tbody tr th {\n",
       "        vertical-align: top;\n",
       "    }\n",
       "\n",
       "    .dataframe thead th {\n",
       "        text-align: right;\n",
       "    }\n",
       "</style>\n",
       "<table border=\"1\" class=\"dataframe\">\n",
       "  <thead>\n",
       "    <tr style=\"text-align: right;\">\n",
       "      <th></th>\n",
       "      <th>SUBJECT_ID</th>\n",
       "      <th>HADM_ID</th>\n",
       "      <th>CATEGORY</th>\n",
       "      <th>TEXT</th>\n",
       "    </tr>\n",
       "  </thead>\n",
       "  <tbody>\n",
       "    <tr>\n",
       "      <th>0</th>\n",
       "      <td>22532</td>\n",
       "      <td>167853.0</td>\n",
       "      <td>Discharge summary</td>\n",
       "      <td>Admission Date:  [**2151-7-16**]       Dischar...</td>\n",
       "    </tr>\n",
       "    <tr>\n",
       "      <th>1</th>\n",
       "      <td>13702</td>\n",
       "      <td>107527.0</td>\n",
       "      <td>Discharge summary</td>\n",
       "      <td>Admission Date:  [**2118-6-2**]       Discharg...</td>\n",
       "    </tr>\n",
       "    <tr>\n",
       "      <th>2</th>\n",
       "      <td>13702</td>\n",
       "      <td>167118.0</td>\n",
       "      <td>Discharge summary</td>\n",
       "      <td>Admission Date:  [**2119-5-4**]              D...</td>\n",
       "    </tr>\n",
       "    <tr>\n",
       "      <th>3</th>\n",
       "      <td>13702</td>\n",
       "      <td>196489.0</td>\n",
       "      <td>Discharge summary</td>\n",
       "      <td>Admission Date:  [**2124-7-21**]              ...</td>\n",
       "    </tr>\n",
       "    <tr>\n",
       "      <th>4</th>\n",
       "      <td>26880</td>\n",
       "      <td>135453.0</td>\n",
       "      <td>Discharge summary</td>\n",
       "      <td>Admission Date:  [**2162-3-3**]              D...</td>\n",
       "    </tr>\n",
       "  </tbody>\n",
       "</table>\n",
       "</div>"
      ],
      "text/plain": [
       "   SUBJECT_ID   HADM_ID           CATEGORY  \\\n",
       "0       22532  167853.0  Discharge summary   \n",
       "1       13702  107527.0  Discharge summary   \n",
       "2       13702  167118.0  Discharge summary   \n",
       "3       13702  196489.0  Discharge summary   \n",
       "4       26880  135453.0  Discharge summary   \n",
       "\n",
       "                                                TEXT  \n",
       "0  Admission Date:  [**2151-7-16**]       Dischar...  \n",
       "1  Admission Date:  [**2118-6-2**]       Discharg...  \n",
       "2  Admission Date:  [**2119-5-4**]              D...  \n",
       "3  Admission Date:  [**2124-7-21**]              ...  \n",
       "4  Admission Date:  [**2162-3-3**]              D...  "
      ]
     },
     "execution_count": 32,
     "metadata": {},
     "output_type": "execute_result"
    }
   ],
   "source": [
    "df_notes.head()"
   ]
  },
  {
   "cell_type": "code",
   "execution_count": 33,
   "metadata": {},
   "outputs": [
    {
     "data": {
      "text/plain": [
       "array(['Discharge summary', 'Echo', 'ECG', 'Nursing', 'Physician ',\n",
       "       'Rehab Services', 'Case Management ', 'Respiratory ', 'Nutrition',\n",
       "       'General', 'Social Work', 'Pharmacy', 'Consult', 'Radiology',\n",
       "       'Nursing/other'], dtype=object)"
      ]
     },
     "execution_count": 33,
     "metadata": {},
     "output_type": "execute_result"
    }
   ],
   "source": [
    "df_notes.CATEGORY.unique()"
   ]
  },
  {
   "cell_type": "code",
   "execution_count": 34,
   "metadata": {},
   "outputs": [
    {
     "data": {
      "text/plain": [
       "'Admission Date:  [**2151-7-16**]       Discharge Date:  [**2151-8-4**]\\n\\n\\nService:\\nADDENDUM:\\n\\nRADIOLOGIC STUDIES:  Radiologic studies also included a chest\\nCT, which confirmed cavitary lesions in the left lung apex\\nconsistent with infectious process/tuberculosis.  This also\\nmoderate-sized left pleural effusion.\\n\\nHEAD CT:  Head CT showed no intracranial hemorrhage or mass\\neffect, but old infarction consistent with past medical\\nhistory.\\n\\nABDOMINAL CT:  Abdominal CT showed lesions of\\nT10 and sacrum most likely secondary to osteoporosis. These can\\nbe followed by repeat imaging as an outpatient.\\n\\n\\n\\n                            [**First Name8 (NamePattern2) **] [**First Name4 (NamePattern1) 1775**] [**Last Name (NamePattern1) **], M.D.  [**MD Number(1) 1776**]\\n\\nDictated By:[**Hospital 1807**]\\nMEDQUIST36\\n\\nD:  [**2151-8-5**]  12:11\\nT:  [**2151-8-5**]  12:21\\nJOB#:  [**Job Number 1808**]\\n'"
      ]
     },
     "execution_count": 34,
     "metadata": {},
     "output_type": "execute_result"
    }
   ],
   "source": [
    "df_notes.TEXT.iloc[0]"
   ]
  },
  {
   "cell_type": "code",
   "execution_count": 36,
   "metadata": {},
   "outputs": [],
   "source": [
    "case_36 = df_notes.loc[df_notes.SUBJECT_ID == 36,['SUBJECT_ID','HADM_ID','CATEGORY','TEXT']]"
   ]
  },
  {
   "cell_type": "code",
   "execution_count": 37,
   "metadata": {},
   "outputs": [
    {
     "data": {
      "text/plain": [
       "array(['Discharge summary', 'Echo', 'ECG', 'Radiology', 'Nursing/other'],\n",
       "      dtype=object)"
      ]
     },
     "execution_count": 37,
     "metadata": {},
     "output_type": "execute_result"
    }
   ],
   "source": [
    "case_36.CATEGORY.unique()"
   ]
  },
  {
   "cell_type": "code",
   "execution_count": 38,
   "metadata": {},
   "outputs": [],
   "source": [
    "# filter to discharge summary\n",
    "df_notes_dis_sum = df_notes.loc[df_notes.CATEGORY == 'Discharge summary']"
   ]
  },
  {
   "cell_type": "code",
   "execution_count": 39,
   "metadata": {},
   "outputs": [
    {
     "data": {
      "text/html": [
       "<div>\n",
       "<style scoped>\n",
       "    .dataframe tbody tr th:only-of-type {\n",
       "        vertical-align: middle;\n",
       "    }\n",
       "\n",
       "    .dataframe tbody tr th {\n",
       "        vertical-align: top;\n",
       "    }\n",
       "\n",
       "    .dataframe thead th {\n",
       "        text-align: right;\n",
       "    }\n",
       "</style>\n",
       "<table border=\"1\" class=\"dataframe\">\n",
       "  <thead>\n",
       "    <tr style=\"text-align: right;\">\n",
       "      <th></th>\n",
       "      <th>SUBJECT_ID</th>\n",
       "      <th>HADM_ID</th>\n",
       "      <th>CATEGORY</th>\n",
       "      <th>TEXT</th>\n",
       "    </tr>\n",
       "  </thead>\n",
       "  <tbody>\n",
       "    <tr>\n",
       "      <th>0</th>\n",
       "      <td>22532</td>\n",
       "      <td>167853.0</td>\n",
       "      <td>Discharge summary</td>\n",
       "      <td>Admission Date:  [**2151-7-16**]       Dischar...</td>\n",
       "    </tr>\n",
       "    <tr>\n",
       "      <th>1</th>\n",
       "      <td>13702</td>\n",
       "      <td>107527.0</td>\n",
       "      <td>Discharge summary</td>\n",
       "      <td>Admission Date:  [**2118-6-2**]       Discharg...</td>\n",
       "    </tr>\n",
       "    <tr>\n",
       "      <th>2</th>\n",
       "      <td>13702</td>\n",
       "      <td>167118.0</td>\n",
       "      <td>Discharge summary</td>\n",
       "      <td>Admission Date:  [**2119-5-4**]              D...</td>\n",
       "    </tr>\n",
       "    <tr>\n",
       "      <th>3</th>\n",
       "      <td>13702</td>\n",
       "      <td>196489.0</td>\n",
       "      <td>Discharge summary</td>\n",
       "      <td>Admission Date:  [**2124-7-21**]              ...</td>\n",
       "    </tr>\n",
       "    <tr>\n",
       "      <th>4</th>\n",
       "      <td>26880</td>\n",
       "      <td>135453.0</td>\n",
       "      <td>Discharge summary</td>\n",
       "      <td>Admission Date:  [**2162-3-3**]              D...</td>\n",
       "    </tr>\n",
       "  </tbody>\n",
       "</table>\n",
       "</div>"
      ],
      "text/plain": [
       "   SUBJECT_ID   HADM_ID           CATEGORY  \\\n",
       "0       22532  167853.0  Discharge summary   \n",
       "1       13702  107527.0  Discharge summary   \n",
       "2       13702  167118.0  Discharge summary   \n",
       "3       13702  196489.0  Discharge summary   \n",
       "4       26880  135453.0  Discharge summary   \n",
       "\n",
       "                                                TEXT  \n",
       "0  Admission Date:  [**2151-7-16**]       Dischar...  \n",
       "1  Admission Date:  [**2118-6-2**]       Discharg...  \n",
       "2  Admission Date:  [**2119-5-4**]              D...  \n",
       "3  Admission Date:  [**2124-7-21**]              ...  \n",
       "4  Admission Date:  [**2162-3-3**]              D...  "
      ]
     },
     "execution_count": 39,
     "metadata": {},
     "output_type": "execute_result"
    }
   ],
   "source": [
    "df_notes_dis_sum.head()"
   ]
  },
  {
   "cell_type": "code",
   "execution_count": 40,
   "metadata": {},
   "outputs": [
    {
     "data": {
      "text/plain": [
       "6926"
      ]
     },
     "execution_count": 40,
     "metadata": {},
     "output_type": "execute_result"
    }
   ],
   "source": [
    "df_notes_dis_sum.duplicated(['HADM_ID']).sum()"
   ]
  },
  {
   "cell_type": "markdown",
   "metadata": {},
   "source": [
    "We've identified 6921 repeated discharge summaries, as evidenced by the following code. To ensure a smooth merger of the two datasets, it's essential that we first remove these duplicates."
   ]
  },
  {
   "cell_type": "markdown",
   "metadata": {},
   "source": [
    "assert ..., \"\""
   ]
  },
  {
   "cell_type": "code",
   "execution_count": 41,
   "metadata": {},
   "outputs": [
    {
     "ename": "AssertionError",
     "evalue": "Multiple discharge summaries per admission",
     "output_type": "error",
     "traceback": [
      "\u001b[1;31m---------------------------------------------------------------------------\u001b[0m",
      "\u001b[1;31mAssertionError\u001b[0m                            Traceback (most recent call last)",
      "Cell \u001b[1;32mIn[41], line 1\u001b[0m\n\u001b[1;32m----> 1\u001b[0m \u001b[39massert\u001b[39;00m df_notes_dis_sum\u001b[39m.\u001b[39mduplicated([\u001b[39m'\u001b[39m\u001b[39mHADM_ID\u001b[39m\u001b[39m'\u001b[39m])\u001b[39m.\u001b[39msum() \u001b[39m==\u001b[39m \u001b[39m0\u001b[39m, \u001b[39m'\u001b[39m\u001b[39mMultiple discharge summaries per admission\u001b[39m\u001b[39m'\u001b[39m\n",
      "\u001b[1;31mAssertionError\u001b[0m: Multiple discharge summaries per admission"
     ]
    }
   ],
   "source": [
    "assert df_notes_dis_sum.duplicated(['HADM_ID']).sum() == 0, 'Multiple discharge summaries per admission'\n",
    "\n",
    "\n",
    "#if df_notes_dis_sum.duplicated(['HADM_ID']).sum() != 0:\n",
    "    #raise AssertionError('Multiple discharge summaries per admission')"
   ]
  },
  {
   "cell_type": "code",
   "execution_count": 42,
   "metadata": {},
   "outputs": [
    {
     "data": {
      "text/html": [
       "<div>\n",
       "<style scoped>\n",
       "    .dataframe tbody tr th:only-of-type {\n",
       "        vertical-align: middle;\n",
       "    }\n",
       "\n",
       "    .dataframe tbody tr th {\n",
       "        vertical-align: top;\n",
       "    }\n",
       "\n",
       "    .dataframe thead th {\n",
       "        text-align: right;\n",
       "    }\n",
       "</style>\n",
       "<table border=\"1\" class=\"dataframe\">\n",
       "  <thead>\n",
       "    <tr style=\"text-align: right;\">\n",
       "      <th></th>\n",
       "      <th>SUBJECT_ID</th>\n",
       "      <th>HADM_ID</th>\n",
       "      <th>CATEGORY</th>\n",
       "      <th>TEXT</th>\n",
       "    </tr>\n",
       "  </thead>\n",
       "  <tbody>\n",
       "    <tr>\n",
       "      <th>0</th>\n",
       "      <td>22532</td>\n",
       "      <td>167853.0</td>\n",
       "      <td>Discharge summary</td>\n",
       "      <td>Admission Date:  [**2151-7-16**]       Dischar...</td>\n",
       "    </tr>\n",
       "    <tr>\n",
       "      <th>1</th>\n",
       "      <td>13702</td>\n",
       "      <td>107527.0</td>\n",
       "      <td>Discharge summary</td>\n",
       "      <td>Admission Date:  [**2118-6-2**]       Discharg...</td>\n",
       "    </tr>\n",
       "    <tr>\n",
       "      <th>2</th>\n",
       "      <td>13702</td>\n",
       "      <td>167118.0</td>\n",
       "      <td>Discharge summary</td>\n",
       "      <td>Admission Date:  [**2119-5-4**]              D...</td>\n",
       "    </tr>\n",
       "    <tr>\n",
       "      <th>3</th>\n",
       "      <td>13702</td>\n",
       "      <td>196489.0</td>\n",
       "      <td>Discharge summary</td>\n",
       "      <td>Admission Date:  [**2124-7-21**]              ...</td>\n",
       "    </tr>\n",
       "    <tr>\n",
       "      <th>4</th>\n",
       "      <td>26880</td>\n",
       "      <td>135453.0</td>\n",
       "      <td>Discharge summary</td>\n",
       "      <td>Admission Date:  [**2162-3-3**]              D...</td>\n",
       "    </tr>\n",
       "    <tr>\n",
       "      <th>...</th>\n",
       "      <td>...</td>\n",
       "      <td>...</td>\n",
       "      <td>...</td>\n",
       "      <td>...</td>\n",
       "    </tr>\n",
       "    <tr>\n",
       "      <th>60411</th>\n",
       "      <td>93924</td>\n",
       "      <td>135672.0</td>\n",
       "      <td>Discharge summary</td>\n",
       "      <td>Name:  [**Known lastname 18321**],[**Known fir...</td>\n",
       "    </tr>\n",
       "    <tr>\n",
       "      <th>60412</th>\n",
       "      <td>17782</td>\n",
       "      <td>155710.0</td>\n",
       "      <td>Discharge summary</td>\n",
       "      <td>Name:  [**Known lastname 2706**], [**Known fir...</td>\n",
       "    </tr>\n",
       "    <tr>\n",
       "      <th>60413</th>\n",
       "      <td>96333</td>\n",
       "      <td>183951.0</td>\n",
       "      <td>Discharge summary</td>\n",
       "      <td>Name:  [**Known lastname 18357**]-[**Known las...</td>\n",
       "    </tr>\n",
       "    <tr>\n",
       "      <th>60414</th>\n",
       "      <td>66717</td>\n",
       "      <td>169165.0</td>\n",
       "      <td>Discharge summary</td>\n",
       "      <td>Name:  [**Known lastname **],[**Known firstnam...</td>\n",
       "    </tr>\n",
       "    <tr>\n",
       "      <th>60415</th>\n",
       "      <td>73790</td>\n",
       "      <td>157100.0</td>\n",
       "      <td>Discharge summary</td>\n",
       "      <td>Name:  [**Known lastname 12459**],[**Known fir...</td>\n",
       "    </tr>\n",
       "  </tbody>\n",
       "</table>\n",
       "<p>59635 rows × 4 columns</p>\n",
       "</div>"
      ],
      "text/plain": [
       "       SUBJECT_ID   HADM_ID           CATEGORY  \\\n",
       "0           22532  167853.0  Discharge summary   \n",
       "1           13702  107527.0  Discharge summary   \n",
       "2           13702  167118.0  Discharge summary   \n",
       "3           13702  196489.0  Discharge summary   \n",
       "4           26880  135453.0  Discharge summary   \n",
       "...           ...       ...                ...   \n",
       "60411       93924  135672.0  Discharge summary   \n",
       "60412       17782  155710.0  Discharge summary   \n",
       "60413       96333  183951.0  Discharge summary   \n",
       "60414       66717  169165.0  Discharge summary   \n",
       "60415       73790  157100.0  Discharge summary   \n",
       "\n",
       "                                                    TEXT  \n",
       "0      Admission Date:  [**2151-7-16**]       Dischar...  \n",
       "1      Admission Date:  [**2118-6-2**]       Discharg...  \n",
       "2      Admission Date:  [**2119-5-4**]              D...  \n",
       "3      Admission Date:  [**2124-7-21**]              ...  \n",
       "4      Admission Date:  [**2162-3-3**]              D...  \n",
       "...                                                  ...  \n",
       "60411  Name:  [**Known lastname 18321**],[**Known fir...  \n",
       "60412  Name:  [**Known lastname 2706**], [**Known fir...  \n",
       "60413  Name:  [**Known lastname 18357**]-[**Known las...  \n",
       "60414  Name:  [**Known lastname **],[**Known firstnam...  \n",
       "60415  Name:  [**Known lastname 12459**],[**Known fir...  \n",
       "\n",
       "[59635 rows x 4 columns]"
      ]
     },
     "execution_count": 42,
     "metadata": {},
     "output_type": "execute_result"
    }
   ],
   "source": [
    "df_notes_dis_sum.groupby(['SUBJECT_ID','HADM_ID']).head()"
   ]
  },
  {
   "cell_type": "markdown",
   "metadata": {},
   "source": []
  },
  {
   "cell_type": "code",
   "execution_count": 45,
   "metadata": {},
   "outputs": [],
   "source": [
    "#for simplicity we just save the last discharge note and remove the rest.\n",
    "# (we could also concatenate all the notes)\n",
    "\n",
    "df_notes_dis_sum_last = (df_notes_dis_sum.groupby(['SUBJECT_ID','HADM_ID']).nth(-1)).reset_index()\n"
   ]
  },
  {
   "cell_type": "code",
   "execution_count": null,
   "metadata": {},
   "outputs": [],
   "source": [
    "# we try the assert below and it shows that there are no duplicates\n",
    "assert df_notes_dis_sum_last.duplicated(['HADM_ID']).sum() == 0, 'Multiple discharge summaries per admission'"
   ]
  },
  {
   "cell_type": "code",
   "execution_count": 47,
   "metadata": {},
   "outputs": [
    {
     "data": {
      "text/plain": [
       "'Admission Date:  [**2118-6-2**]       Discharge Date:  [**2118-6-14**]\\n\\nDate of Birth:                    Sex:  F\\n\\nService:  MICU and then to [**Doctor Last Name **] Medicine\\n\\nHISTORY OF PRESENT ILLNESS:  This is an 81-year-old female\\nwith a history of emphysema (not on home O2), who presents\\nwith three days of shortness of breath thought by her primary\\ncare doctor to be a COPD flare.  Two days prior to admission,\\nshe was started on a prednisone taper and one day prior to\\nadmission she required oxygen at home in order to maintain\\noxygen saturation greater than 90%.  She has also been on\\nlevofloxacin and nebulizers, and was not getting better, and\\npresented to the [**Hospital1 18**] Emergency Room.\\n\\nIn the [**Hospital3 **] Emergency Room, her oxygen saturation was\\n100% on CPAP.  She was not able to be weaned off of this\\ndespite nebulizer treatment and Solu-Medrol 125 mg IV x2.\\n\\nReview of systems is negative for the following:  Fevers,\\nchills, nausea, vomiting, night sweats, change in weight,\\ngastrointestinal complaints, neurologic changes, rashes,\\npalpitations, orthopnea.  Is positive for the following:\\nChest pressure occasionally with shortness of breath with\\nexertion, some shortness of breath that is positionally\\nrelated, but is improved with nebulizer treatment.\\n\\nPAST MEDICAL HISTORY:\\n1. COPD.  Last pulmonary function tests in [**2117-11-3**]\\ndemonstrated a FVC of 52% of predicted, a FEV1 of 54% of\\npredicted, a MMF of 23% of predicted, and a FEV1:FVC ratio of\\n67% of predicted, that does not improve with bronchodilator\\ntreatment.  The FVC, however, does significantly improve with\\nbronchodilator treatment consistent with her known reversible\\nair flow obstruction in addition to an underlying restrictive\\nventilatory defect.  The patient has never been on home\\noxygen prior to this recent episode.  She has never been on\\nsteroid taper or been intubated in the past.\\n2. Lacunar CVA.  MRI of the head in [**2114-11-4**]\\ndemonstrates \"mild degree of multiple small foci of high T2\\nsignal within the white matter of both cerebral hemispheres\\nas well as the pons, in the latter region predominantly to\\nthe right of midline.  The abnormalities, while nonspecific\\nin etiology, are most likely secondary to chronic\\nmicrovascular infarction.  There is no mass, lesion, shift of\\nthe normal midline strictures or hydrocephalus.  The major\\nvascular flow patterns are preserved.  There is moderate\\nright maxillary, moderate bilateral ethmoid, mild left\\nmaxillary, minimal right sphenoid, and frontal sinus mucosal\\nthickening.  These abnormalities could represent an allergic\\nor some other type of inflammatory process.  Additionally\\nnoted is a moderately enlarged subtotally empty sella\\nturcica\".\\n3. Angina:  Most recent stress test was in [**2118-1-3**]\\ngoing for four minutes with a rate pressure product of\\n10,000, 64% of maximum predicted heart rate without evidence\\nof ischemic EKG changes or symptoms.  The imaging portion of\\nthe study demonstrated no evidence of myocardial ischemia and\\na calculated ejection fraction of 84%.  The patient denies\\nangina at rest and gets angina with walking a few blocks.\\nAre alleviated by sublingual nitroglycerin.\\n4. Hypothyroidism on Synthroid.\\n5. Depression on Lexapro.\\n6. Motor vehicle accident with head injury approximately 10\\nyears ago.\\n\\nMEDICATIONS ON ADMISSION:\\n1. Hydrochlorothiazide 25 q.d.\\n2. Prednisone 60 mg, 50 mg, 40 mg, 20 mg.\\n3. Levofloxacin 500 mg q.d.\\n4. Imdur 60 mg q.d.\\n5. Synthroid 75 mcg q.d.\\n6. Pulmicort nebulizer b.i.d.\\n7. Albuterol nebulizer q.4. prn.\\n8. Lexapro 10 mg q.d.\\n9. Protonix 40 mg q.d.\\n10. Aspirin 81 mg q.d.\\n\\nALLERGIES:  Norvasc leads to lightheadedness and headache.\\n\\nFAMILY HISTORY:  Noncontributory.\\n\\nSOCIAL HISTORY:  Lives with her husband, Dr. [**Known lastname 1809**] an\\neminent Pediatric Neurologist at [**Hospital3 1810**].  The\\npatient is a prior smoker, but has not smoked in over 10\\nyears.  She has no known alcohol use and she is a full code.\\n\\nPHYSICAL EXAM AT TIME OF ADMISSION:  Blood pressure 142/76,\\nheart rate 100 and regular, respirations at 17-21, and 97%\\naxillary temperature.  She was saturating at 100% on CPAP\\nwith dry mucous membranes.  An elderly female in no apparent\\ndistress.  Pupils are equal, round, and reactive to light and\\naccommodation.  Extraocular movements are intact.  Oropharynx\\ndifficult to assess due to CPAP machine.  No evidence of\\njugular venous pressure, however, the strap from the CPAP\\nmachine obscures the neck exam.  Cranial nerves II through\\nXII are grossly intact.  Neck is supple without\\nlymphadenopathy.  Heart exam:  Tachycardic, regular, obscured\\nby loud bilateral wheezing with increase in the expiratory\\nphase as well as profuse scattered rhonchi throughout the\\nlung fields.  Positive bowel sounds, soft, nontender,\\nnondistended, obese, no masses.  Mild edema of the lower\\nextremities without clubbing or cyanosis, no rashes.  There\\nis a right hand hematoma.  Strength is assessed as [**5-9**] in the\\nlower extremities, [**5-9**] in the upper extremities with a normal\\nmental status and cognition.\\n\\nLABORATORY STUDIES:  White count 19, hematocrit 41, platelets\\n300.  Chem-7:  127, 3.6, 88, 29, 17, 0.6, 143.  Troponin was\\nnegative.  CKs were negative times three.  Initial blood gas\\nshowed a pH of 7.4, pO2 of 66, pCO2 of 54.\\n\\nChest x-ray demonstrates a moderate sized hiatal hernia,\\nsegmental atelectasis, left lower lobe infiltrate versus\\nsegmental atelectasis.\\n\\nEKG shows normal sinus rhythm at 113 beats per minute, normal\\naxis, no evidence of ST-T wave changes.\\n\\nBRIEF SUMMARY OF HOSPITAL COURSE:\\n1. COPD/dyspnea/pneumonia:  The patient was initially placed\\non an aggressive steroid taper and admitted to the Medical\\nIntensive Care Unit due to her difficulty with oxygenation\\ndespite CPAP machine.  She was also given nebulizer\\ntreatments q.4h. as well as chest PT.  The nebulizers were\\nincreased to q.1h. due to the fact that she continued to have\\nlabored breathing.\\n\\nDue to persistent respiratory failure and labored breathing,\\nthe patient was intubated on [**2118-6-7**] in order to improve\\noxygenation, ventilation, and ability to suction.  A\\nbronchoscopy was performed on [**2118-6-7**], which demonstrated\\nmarked narrowing of the airways with expiration consistent\\nwith tracheomalacia.\\n\\nOn [**2118-6-9**], two silicone stents were placed, one in the left\\nmain stem (12 x 25 and one in the trachea 16 x 40) by Dr.\\n[**First Name (STitle) **] [**Name (STitle) **] under rigid bronchoscopy with general anesthesia.\\n\\nOn [**2118-6-11**], the patient was extubated to a cool mist shovel\\nmask and her oxygen was titrated down to 2 liters nasal\\ncannula at which time she was transferred to the medical\\nfloor.  On the medical floor, the steroids were weaned to off\\non [**2118-6-14**], and the patient was saturating at 97% on 2\\nliters, 92% on room air.\\n\\nOn [**2118-6-14**], the patient was seen again by the Interventional\\nPulmonology service, who agreed that she looked much improved\\nand recommended that she go to pulmonary rehabilitation with\\nfollowup within six weeks\\' time status post placement of\\nstents in respiratory failure.\\n\\n2. Cardiovascular:  The patient was ruled out for a MI.  She\\ndid have another episode on the medical floor of chest pain,\\nwhich showed no evidence of EKG changes and negative\\ntroponin, negative CKs x3.  She was continued on aspirin,\\nImdur, and diltiazem for rate control per her outpatient\\nregimen.\\n\\n3. Hypertension:  She was maintained on diltiazem and\\nhydrochlorothiazide with adequate blood pressure control and\\nnormalization of electrolytes.\\n\\n4. Hematuria:  The patient had intermittent hematuria likely\\nsecondary to Foley placement.  The Foley catheter was\\ndiscontinued on [**2118-6-14**].  She had serial urinalyses, which\\nwere all negative for signs of infection.\\n\\n5. Hyperglycemia:  Patient was placed on insulin-sliding\\nscale due to hyperglycemia, which was steroid induced.  This\\nworked quite well and her glucose came back to normal levels\\nonce the steroids were tapered to off.\\n\\n6. Leukocytosis:  Patient did have a profound leukocytosis of\\n20 to 22 during much of her hospital course.  As the steroids\\nwere tapered to off, her white blood cell count on [**2118-6-14**]\\nwas 15,000.  It was felt that the leukocytosis was secondary\\nto both steroids as well as question of a left lower lobe\\npneumonia.\\n\\n7. For the left lower lobe pneumonia, the patient had\\ninitially received a course of levofloxacin 500 p.o. q.d.\\nfrom [**2118-6-4**] to [**2118-6-10**].  This was restarted on [**2118-6-12**]\\nfor an additional seven day course given the fact that she\\nstill had the leukocytosis and still had marked rales at the\\nleft lower lobe.\\n\\n8. Hypothyroidism:  The patient was continued on outpatient\\nmedical regimen.\\n\\n9. Depression:  The patient was continued on Lexapro per\\noutpatient regimen.  It is recommended that she follow up\\nwith a therapist as an outpatient due to the fact that she\\ndid have a blunted affect throughout much of the hospital\\ncourse, and did appear clinically to be depressed.\\n\\n10. Prophylaxis:  She was maintained on proton-pump inhibitor\\nwith subQ Heparin.\\n\\n11. Sore throat:  The patient did have a sore throat for much\\nof the hospital course post extubation.  This was treated\\nwith Cepacol lozenges as well as KBL liquid (a solution\\ncontaining Kaopectate, Bismuth, and lidocaine) at bedtime.\\n\\n12. Communication/code status:  The patient was full code\\nthroughout her hospital course, and communication was\\nmaintained with the patient and her husband.\\n\\n13. Muscle weakness:  The patient did have profound muscle\\nweakness and was evaluated by Physical Therapy, and was found\\nto have impaired functional mobility, impaired\\nmusculoskeletal performance, impaired gas exchange, impaired\\nendurance, impaired ventilation, and needed help with supine\\nto sit.  However, she was able to tolerate sitting in a chair\\nfor approximately one hour.\\n\\nOn motor exam, her flexors and extensors of the lower\\nextremities were [**4-8**] at the knee, [**4-8**] at the ankle, [**4-8**] at\\nthe elbows, and [**4-8**] hips.  It was felt that this weakness was\\nmost likely due to a combination of steroid myopathy as well\\nas muscle atrophy secondary to deconditioning after a\\nprolonged hospital course.\\n\\n14. Speech/swallow:  The patient had a Speech and Swallow\\nevaluation showing no evidence of dysphagia, no evidence of\\nvocal cord damage status post tracheal stent placement.\\n\\nDISCHARGE CONDITION:  The patient was able to oxygenate on\\nroom air at 93% at the time of discharge.  She was profoundly\\nweak, but was no longer tachycardic and had a normal blood\\npressure.  Her respirations were much improved albeit with\\ntransmitted upper airway sounds.\\n\\nDISCHARGE STATUS:  The patient will be discharged to [**Hospital1 **]\\nfor both pulmonary and physical rehabilitation.\\n\\nDISCHARGE MEDICATIONS:\\n1. Levothyroxine 75 mcg p.o. q.d.\\n2. Citalopram 10 mg p.o. q.d.\\n3. Aspirin 81 mg p.o. q.d.\\n4. Fluticasone 110 mcg two puffs inhaled b.i.d.\\n5. Salmeterol Diskus one inhalation b.i.d.\\n6. Acetaminophen 325-650 mg p.o. q.4-6h. prn.\\n7. Ipratropium bromide MDI two puffs inhaled q.2h. prn.\\n8. Albuterol 1-2 puffs inhaled q.2h. prn.\\n9. Zolpidem tartrate 5 mg p.o. q.h.s. prn.\\n10. Isosorbide dinitrate 10 mg p.o. t.i.d.\\n11. Diltiazem 60 mg p.o. q.i.d.\\n12. Pantoprazole 40 mg p.o. q.24h.\\n13. Trazodone 25 mg p.o. q.h.s. prn.\\n14. SubQ Heparin 5000 units subcutaneous b.i.d. until such\\ntime that the patient is able to get out of bed twice a day.\\n15. Cepacol lozenges q.2h. prn.\\n16. Levofloxacin 500 mg p.o. q.d. for a seven day course to\\nbe completed on [**2118-6-21**].\\n17. Kaopectate/Benadryl/lidocaine 5 mL p.o. b.i.d. prn, not\\nto be given around mealtimes for concern of dysphagia induced\\nby lidocaine.\\n18. Lorazepam 0.5-2 mg IV q.6h. prn.\\n\\nFOLLOW-UP PLANS:  The patient is recommended to followup with\\nDr. [**First Name4 (NamePattern1) **] [**Last Name (NamePattern1) 1407**], [**Telephone/Fax (1) 1408**] within two weeks of leaving\\nof the hospital.  She is also recommended to followup with\\nthe Interventional Pulmonary service for followup status post\\nstent placement.  She is also recommended to followup with a\\nneurologist if her muscle weakness does not improve within\\none week on physical therapy with concern for steroid-induced\\nmyopathy.\\n\\nFINAL DIAGNOSES:\\n1. Tracheomalacia status post tracheal and left main stem\\nbronchial stent placement.\\n2. Hypertension.\\n3. Hypothyroidism.\\n4. Restrictive lung defect.\\n5. Depression.\\n\\n\\n                     DR.[**Last Name (STitle) **],[**First Name3 (LF) **] 12-207\\n\\n\\nDictated By:[**Last Name (NamePattern1) 1811**]\\nMEDQUIST36\\n\\nD:  [**2118-6-14**]  11:30\\nT:  [**2118-6-14**]  11:33\\nJOB#:  [**Job Number 1812**]\\n'"
      ]
     },
     "execution_count": 47,
     "metadata": {},
     "output_type": "execute_result"
    }
   ],
   "source": [
    "#here we can look at the discharge note for subject_id 1370\n",
    "subject_id = 13702\n",
    "subject_data = df_notes_dis_sum_last[df_notes_dis_sum_last['SUBJECT_ID'] == subject_id]\n",
    "subject_data.TEXT[0]"
   ]
  },
  {
   "cell_type": "code",
   "execution_count": 49,
   "metadata": {},
   "outputs": [],
   "source": [
    "# number of rows in 2 datasets are equal.\n",
    "assert len(df_adm2) == len(df_adm_notes), 'Number of rows increased'"
   ]
  },
  {
   "cell_type": "markdown",
   "metadata": {},
   "source": [
    "next step : We merge the 2 datasets \" df_adm2 \" and  \"df_notes_dis_sum_last\" into a single dataset."
   ]
  },
  {
   "cell_type": "code",
   "execution_count": 48,
   "metadata": {},
   "outputs": [],
   "source": [
    "df_adm_notes = pd.merge(df_adm2[['SUBJECT_ID','HADM_ID','ADMITTIME','DISCHTIME','DAYS_NEXT_ADMIT','NEXT_ADMITTIME','ADMISSION_TYPE','DEATHTIME']],\n",
    "                        df_notes_dis_sum_last[['SUBJECT_ID','HADM_ID','TEXT']], \n",
    "                        on = ['SUBJECT_ID','HADM_ID'],\n",
    "                        how = 'left')\n"
   ]
  },
  {
   "cell_type": "code",
   "execution_count": null,
   "metadata": {},
   "outputs": [],
   "source": [
    "df_adm_notes.head()"
   ]
  },
  {
   "cell_type": "code",
   "execution_count": 51,
   "metadata": {},
   "outputs": [
    {
     "name": "stdout",
     "output_type": "stream",
     "text": [
      "<class 'pandas.core.frame.DataFrame'>\n",
      "RangeIndex: 58976 entries, 0 to 58975\n",
      "Data columns (total 9 columns):\n",
      " #   Column           Non-Null Count  Dtype         \n",
      "---  ------           --------------  -----         \n",
      " 0   SUBJECT_ID       58976 non-null  int64         \n",
      " 1   HADM_ID          58976 non-null  int64         \n",
      " 2   ADMITTIME        58976 non-null  datetime64[ns]\n",
      " 3   DISCHTIME        58976 non-null  datetime64[ns]\n",
      " 4   DAYS_NEXT_ADMIT  12456 non-null  float64       \n",
      " 5   NEXT_ADMITTIME   12456 non-null  datetime64[ns]\n",
      " 6   ADMISSION_TYPE   58976 non-null  object        \n",
      " 7   DEATHTIME        5854 non-null   datetime64[ns]\n",
      " 8   TEXT             52726 non-null  object        \n",
      "dtypes: datetime64[ns](4), float64(1), int64(2), object(2)\n",
      "memory usage: 4.0+ MB\n"
     ]
    }
   ],
   "source": [
    "df_adm_notes.info()\n",
    "\n",
    "#  We observe a total of 58976 entries, out of which 52726 contain text. \n",
    "# This indicates that certain entries are lacking text content.   \n"
   ]
  },
  {
   "cell_type": "markdown",
   "metadata": {},
   "source": [
    "Check to see if there are alot of notes that are missing text (might be a sign of a problem)."
   ]
  },
  {
   "cell_type": "code",
   "execution_count": 53,
   "metadata": {},
   "outputs": [
    {
     "data": {
      "text/plain": [
       "10.59753119913185"
      ]
     },
     "execution_count": 53,
     "metadata": {},
     "output_type": "execute_result"
    }
   ],
   "source": [
    "df_adm_notes.TEXT.isnull().sum()\n",
    "df_adm_notes.TEXT.isnull().sum() / len(df_adm_notes) * 100\n",
    "\n",
    "# Around 6250 entries, which constitutes approximately 10% of the total, lack text content."
   ]
  },
  {
   "cell_type": "code",
   "execution_count": 47,
   "metadata": {},
   "outputs": [
    {
     "data": {
      "text/plain": [
       "52726"
      ]
     },
     "execution_count": 47,
     "metadata": {},
     "output_type": "execute_result"
    }
   ],
   "source": [
    "df_adm_notes.TEXT.str.contains('\\n').sum()"
   ]
  },
  {
   "cell_type": "code",
   "execution_count": null,
   "metadata": {},
   "outputs": [
    {
     "name": "stdout",
     "output_type": "stream",
     "text": [
      "Fraction of missing notes: 10.59753119913185\n",
      "Fraction notes with newlines: 89.40246880086815\n",
      "Fraction notes with carriage returns: 0.0\n"
     ]
    }
   ],
   "source": [
    "print('Fraction of missing notes:', df_adm_notes.TEXT.isnull().sum() / len(df_adm_notes)*100)\n",
    "print('Fraction notes with newlines:', df_adm_notes.TEXT.str.contains('\\n').sum() / len(df_adm_notes)*100)\n",
    "print('Fraction notes with carriage returns:', df_adm_notes.TEXT.str.contains('\\r').sum() / len(df_adm_notes)*100)"
   ]
  },
  {
   "cell_type": "markdown",
   "metadata": {},
   "source": [
    "The follwing code computes the percentage of missing values in the 'TEXT' column for every distinct admission type. \n",
    "In this process we grouped the DataFrame by the 'ADMISSION_TYPE' column.\n",
    "We also used the lambda function to determine the total count of absent 'TEXT' values within each grouping. This total is divided by the overall row count for each admission type, generating a Series."
   ]
  },
  {
   "cell_type": "code",
   "execution_count": 56,
   "metadata": {},
   "outputs": [
    {
     "data": {
      "text/plain": [
       "ADMISSION_TYPE\n",
       "ELECTIVE      4.866338\n",
       "EMERGENCY     3.798341\n",
       "NEWBORN      53.669083\n",
       "URGENT        4.266467\n",
       "dtype: float64"
      ]
     },
     "execution_count": 56,
     "metadata": {},
     "output_type": "execute_result"
    }
   ],
   "source": [
    "df_adm_notes.groupby('ADMISSION_TYPE').apply(lambda g: g.TEXT.isnull().sum())/df_adm_notes.groupby('ADMISSION_TYPE').size()*100"
   ]
  },
  {
   "cell_type": "markdown",
   "metadata": {},
   "source": [
    "Roughly half of the entries with the 'NEWBORN' admission type are absent, and our preference is to exclude them."
   ]
  },
  {
   "cell_type": "code",
   "execution_count": 58,
   "metadata": {},
   "outputs": [],
   "source": [
    "\n",
    "df_adm_notes_clean = df_adm_notes.loc[df_adm_notes.ADMISSION_TYPE != 'NEWBORN'].copy()"
   ]
  },
  {
   "cell_type": "code",
   "execution_count": 60,
   "metadata": {},
   "outputs": [
    {
     "name": "stdout",
     "output_type": "stream",
     "text": [
      "<class 'pandas.core.frame.DataFrame'>\n",
      "Index: 51113 entries, 1 to 58975\n",
      "Data columns (total 9 columns):\n",
      " #   Column           Non-Null Count  Dtype         \n",
      "---  ------           --------------  -----         \n",
      " 0   SUBJECT_ID       51113 non-null  int64         \n",
      " 1   HADM_ID          51113 non-null  int64         \n",
      " 2   ADMITTIME        51113 non-null  datetime64[ns]\n",
      " 3   DISCHTIME        51113 non-null  datetime64[ns]\n",
      " 4   DAYS_NEXT_ADMIT  12225 non-null  float64       \n",
      " 5   NEXT_ADMITTIME   12225 non-null  datetime64[ns]\n",
      " 6   ADMISSION_TYPE   51113 non-null  object        \n",
      " 7   DEATHTIME        5792 non-null   datetime64[ns]\n",
      " 8   TEXT             49083 non-null  object        \n",
      "dtypes: datetime64[ns](4), float64(1), int64(2), object(2)\n",
      "memory usage: 3.9+ MB\n"
     ]
    }
   ],
   "source": [
    "df_adm_notes_clean.info()"
   ]
  },
  {
   "cell_type": "code",
   "execution_count": null,
   "metadata": {},
   "outputs": [
    {
     "name": "stdout",
     "output_type": "stream",
     "text": [
      "Fraction of missing notes: 3.97%\n",
      "Fraction notes with newlines: 96.03%\n",
      "Fraction notes with carriage returns: 0.00%\n"
     ]
    }
   ],
   "source": [
    "# Calculate the fraction of missing notes\n",
    "missing_notes_fraction = df_adm_notes_clean.TEXT.isnull().sum() / len(df_adm_notes_clean)\n",
    "print('Fraction of missing notes:', \"{:.2%}\".format(missing_notes_fraction))\n",
    "\n",
    "# Calculate the fraction of notes with newlines\n",
    "newlines_fraction = df_adm_notes_clean.TEXT.str.contains('\\n').sum() / len(df_adm_notes_clean)\n",
    "print('Fraction notes with newlines:', \"{:.2%}\".format(newlines_fraction))\n",
    "\n",
    "# Calculate the fraction of notes with carriage returns\n",
    "carriage_returns_fraction = df_adm_notes_clean.TEXT.str.contains('\\r').sum() / len(df_adm_notes_clean)\n",
    "print('Fraction notes with carriage returns:', \"{:.2%}\".format(carriage_returns_fraction))"
   ]
  },
  {
   "cell_type": "markdown",
   "metadata": {},
   "source": [
    "Upon eliminating newborn entries, it becomes evident that our proportion of absent notes\n",
    " has reduced from around 10% to approximately 4%."
   ]
  },
  {
   "cell_type": "markdown",
   "metadata": {},
   "source": [
    "I want to make a new column in the dataframe called OUTPUT_LABEL, which will show whether the patient was re-admitted within 30 days."
   ]
  },
  {
   "cell_type": "code",
   "execution_count": 61,
   "metadata": {},
   "outputs": [],
   "source": [
    "df_adm_notes_clean['OUTPUT_LABEL'] = (df_adm_notes_clean.DAYS_NEXT_ADMIT < 30).astype('int')"
   ]
  },
  {
   "cell_type": "code",
   "execution_count": 62,
   "metadata": {},
   "outputs": [
    {
     "data": {
      "text/plain": [
       "1        0\n",
       "2        0\n",
       "4        0\n",
       "7        0\n",
       "9        0\n",
       "        ..\n",
       "58971    0\n",
       "58972    0\n",
       "58973    0\n",
       "58974    0\n",
       "58975    0\n",
       "Name: OUTPUT_LABEL, Length: 51113, dtype: int32"
      ]
     },
     "execution_count": 62,
     "metadata": {},
     "output_type": "execute_result"
    }
   ],
   "source": [
    "df_adm_notes_clean['OUTPUT_LABEL']"
   ]
  },
  {
   "cell_type": "markdown",
   "metadata": {},
   "source": [
    "In the codes below, positive samples refer to patients with readmission within 30 days, \n",
    "while negative samples correspond to entries without readmissions within 30 days.\n",
    "we observe that 3166 entries (6% of total entries) experienced readmission within 30 days of discharge."
   ]
  },
  {
   "cell_type": "code",
   "execution_count": 63,
   "metadata": {},
   "outputs": [
    {
     "name": "stdout",
     "output_type": "stream",
     "text": [
      "Number of positive samples: 3166\n",
      "Number of negative samples: 47947\n",
      "Total samples: 51113\n"
     ]
    }
   ],
   "source": [
    "print('Number of positive samples:', (df_adm_notes_clean.OUTPUT_LABEL == 1).sum())\n",
    "print('Number of negative samples:',  (df_adm_notes_clean.OUTPUT_LABEL == 0).sum())\n",
    "print('Total samples:', len(df_adm_notes_clean))\n",
    "\n",
    "num_positive_samples = (df_adm_notes_clean.OUTPUT_LABEL == 1).sum()\n",
    "num_negative_samples = (df_adm_notes_clean.OUTPUT_LABEL == 0).sum()\n",
    "total_samples = len(df_adm_notes_clean)"
   ]
  },
  {
   "cell_type": "code",
   "execution_count": 64,
   "metadata": {},
   "outputs": [
    {
     "data": {
      "image/png": "[encoded data removed]",
      "text/plain": [
       "<Figure size 800x600 with 1 Axes>"
      ]
     },
     "metadata": {},
     "output_type": "display_data"
    },
    {
     "name": "stdout",
     "output_type": "stream",
     "text": [
      "Total samples: 51113\n"
     ]
    }
   ],
   "source": [
    "import seaborn as sns\n",
    "import matplotlib.pyplot as plt\n",
    "\n",
    "# Create a bar plot using seaborn\n",
    "plt.figure(figsize=(8, 6))\n",
    "sns.barplot(x=['Positive', 'Negative'], y=[num_positive_samples, num_negative_samples], palette=['blue', 'red'])\n",
    "plt.xlabel('Sample Type')\n",
    "plt.ylabel('Number of Samples')\n",
    "plt.title('Distribution of Positive and Negative Samples')\n",
    "plt.xticks(rotation=45)\n",
    "plt.tight_layout()\n",
    "\n",
    "# Display the plot\n",
    "plt.show()\n",
    "\n",
    "# Print total samples\n",
    "print('Total samples:', total_samples)"
   ]
  },
  {
   "cell_type": "code",
   "execution_count": 65,
   "metadata": {},
   "outputs": [
    {
     "name": "stdout",
     "output_type": "stream",
     "text": [
      "Percentage of Positive Samples: 6.19%\n",
      "Percentage of Negative Samples: 93.81%\n",
      "Total samples: 51113\n"
     ]
    }
   ],
   "source": [
    "# Calculate the percentages\n",
    "percentage_positive = (num_positive_samples / total_samples) * 100\n",
    "percentage_negative = (num_negative_samples / total_samples) * 100\n",
    "\n",
    "# Print the percentages\n",
    "print('Percentage of Positive Samples:', \"{:.2f}%\".format(percentage_positive))\n",
    "print('Percentage of Negative Samples:', \"{:.2f}%\".format(percentage_negative))\n",
    "print('Total samples:', total_samples)"
   ]
  },
  {
   "cell_type": "markdown",
   "metadata": {},
   "source": [
    "## Create training and test dataframes\n",
    "\n",
    "When we build a predictive model, we want the model to work well on data that the model has never seen. To test for this, we take our data and split it into three datasets: training, validation, and test.\n",
    "\n",
    "- **Training set:** Used to train the model.\n",
    "- **Validation set:** Data the model didn't see, but is used to optimize or tune the model.\n",
    "- **Test set:** This data, unfamiliar to the model and the tuning process, acts as a genuine assessment of  the model's ability to predict.\n",
    "\n"
   ]
  },
  {
   "cell_type": "code",
   "execution_count": 66,
   "metadata": {},
   "outputs": [
    {
     "name": "stdout",
     "output_type": "stream",
     "text": [
      "Test prevalence(n = 7667): 0.06456241032998565\n",
      "Valid prevalence(n = 7667): 0.061171253423764185\n",
      "Train all prevalence(n = 35779): 0.061544481399703733\n",
      "all samples (n = 51113)\n"
     ]
    }
   ],
   "source": [
    "# shuffle the samples\n",
    "df_adm_notes_clean = df_adm_notes_clean.sample(n = len(df_adm_notes_clean), random_state = 42)\n",
    "df_adm_notes_clean = df_adm_notes_clean.reset_index(drop = True)\n",
    "\n",
    "# Save 30% of the data as validation and test data\n",
    "df_valid_test=df_adm_notes_clean.sample(frac=0.30,random_state=42)\n",
    "\n",
    "df_test = df_valid_test.sample(frac = 0.5, random_state = 42)\n",
    "df_valid = df_valid_test.drop(df_test.index)\n",
    "\n",
    "# use the rest of the data as training data\n",
    "df_train_all=df_adm_notes_clean.drop(df_valid_test.index)\n",
    "\n",
    "print('Test prevalence(n = %d):'%len(df_test),df_test.OUTPUT_LABEL.sum()/ len(df_test))\n",
    "print('Valid prevalence(n = %d):'%len(df_valid),df_valid.OUTPUT_LABEL.sum()/ len(df_valid))\n",
    "print('Train all prevalence(n = %d):'%len(df_train_all), df_train_all.OUTPUT_LABEL.sum()/ len(df_train_all))\n",
    "print('all samples (n = %d)'%len(df_adm_notes_clean))\n",
    "assert len(df_adm_notes_clean) == (len(df_test)+len(df_valid)+len(df_train_all)),'math didnt work'"
   ]
  },
  {
   "cell_type": "markdown",
   "metadata": {},
   "source": [
    "Since the prevalence is so low, we want to prevent the model from always predicting negative. To do this, we have a few options\n",
    "- balance the data by sub-sampling the negatives\n",
    "- balance the data by over-sampling the positives\n",
    "- create synthetic data (e.g. SMOTE)\n",
    "\n",
    "In this example, we will sub-sample the negatives"
   ]
  },
  {
   "cell_type": "code",
   "execution_count": 63,
   "metadata": {},
   "outputs": [
    {
     "name": "stdout",
     "output_type": "stream",
     "text": [
      "Train prevalence (n = 4184): 50.0%\n"
     ]
    }
   ],
   "source": [
    "# Under-sampling:\n",
    "# split the training data into positive and negative\n",
    "rows_pos = df_train_all.OUTPUT_LABEL == 1\n",
    "df_train_pos = df_train_all.loc[rows_pos]\n",
    "df_train_neg = df_train_all.loc[~rows_pos]\n",
    "\n",
    "# merge the balanced data\n",
    "df_train = pd.concat([df_train_pos, df_train_neg.sample(n = len(df_train_pos), random_state = 42)],axis = 0)\n",
    "\n",
    "# shuffle the order of training samples\n",
    "df_train = df_train.sample(n = len(df_train), random_state = 42).reset_index(drop = True)\n",
    "\n",
    "print('Train prevalence (n = {}): {}%'.format(len(df_train), df_train.OUTPUT_LABEL.sum()/ len(df_train)*100))"
   ]
  },
  {
   "cell_type": "markdown",
   "metadata": {},
   "source": [
    "# Step 2: Preprocess text data\n",
    "Now that we have created data sets that have a label and the notes, we need to preprocess our text data to convert it to something useful (i.e. numbers) for the machine learning model. We are going to use the Bag-of-Words (BOW) approach.\n",
    "\n",
    "BOW basically breaks up the note into the individual words and counts how many times each word occurs. Your numerical data then becomes counts for some set of words as shown below. BOW is the simplest way to do NLP classification. In most blog posts I have read, fancier techniques have a hard time beating BOW for NLP classification tasks.\n",
    "\n",
    "In this process, there are few choices that need to be made\n",
    "- how to pre-process the words\n",
    "- how to count the words\n",
    "- which words to use\n",
    "\n",
    "There is no optimal choice for all NLP projects, so I recommend trying out a few options when building your own models.\n",
    "\n",
    "You can do the pre-processing in two ways:\n",
    "- modify the original dataframe TEXT column\n",
    "- pre-process as part of your pipeline so you don't edit the original data (allows you try out a few options easily)"
   ]
  },
  {
   "cell_type": "markdown",
   "metadata": {},
   "source": [
    "### Preprocess all the notes\n",
    "Modify the original dataframe by dealing with the missing text, newlines and carriage returns"
   ]
  },
  {
   "cell_type": "code",
   "execution_count": 64,
   "metadata": {},
   "outputs": [],
   "source": [
    "def preprocess_text(df):\n",
    "    # This function preprocesses the text by filling not a number and replacing new lines ('\\n') and carriage returns ('\\r')\n",
    "    df.TEXT = df.TEXT.fillna(' ')\n",
    "    df.TEXT =df.TEXT.str.replace('\\n',' ')\n",
    "    df.TEXT =df.TEXT.str.replace('\\r',' ')\n",
    "    return df"
   ]
  },
  {
   "cell_type": "code",
   "execution_count": 65,
   "metadata": {},
   "outputs": [],
   "source": [
    "# preprocess the text to deal with known issues\n",
    "df_train = preprocess_text(df_train)\n",
    "df_valid = preprocess_text(df_valid)\n",
    "df_test = preprocess_text(df_test)"
   ]
  },
  {
   "cell_type": "markdown",
   "metadata": {},
   "source": [
    "### Build a tokenizer\n",
    "Now we need to create a function that splits the note into individual words. This function is called a tokenizer. We can use the nltk.word_tokenize function to this for us."
   ]
  },
  {
   "cell_type": "code",
   "execution_count": 66,
   "metadata": {},
   "outputs": [
    {
     "data": {
      "text/plain": [
       "['This',\n",
       " 'should',\n",
       " 'be',\n",
       " 'tokenized',\n",
       " '.',\n",
       " '02/02/2018',\n",
       " 'sentence',\n",
       " 'has',\n",
       " 'stars',\n",
       " '*',\n",
       " '*']"
      ]
     },
     "execution_count": 66,
     "metadata": {},
     "output_type": "execute_result"
    }
   ],
   "source": [
    "import nltk\n",
    "from nltk import word_tokenize\n",
    "word_tokenize('This should be tokenized. 02/02/2018 sentence has stars**')"
   ]
  },
  {
   "cell_type": "markdown",
   "metadata": {},
   "source": [
    "Note that some punctuation is separated but not all punctuation.\n",
    "We can define our own custom tokenizer. Our tokenizer will\n",
    "- replace punctuation with spaces\n",
    "- remove numbers with spaces\n",
    "- lowercase all words\n",
    "\n",
    "I like to do these steps as part of the tokenizer, so I can go back and look at the original note. The new line and carriage return is more difficult to deal with so I did it in the preprocessing step above."
   ]
  },
  {
   "cell_type": "code",
   "execution_count": 67,
   "metadata": {},
   "outputs": [
    {
     "name": "stdout",
     "output_type": "stream",
     "text": [
      "!\"#$%&'()*+,-./:;<=>?@[\\]^_`{|}~\n"
     ]
    }
   ],
   "source": [
    "import string\n",
    "print(string.punctuation)"
   ]
  },
  {
   "cell_type": "code",
   "execution_count": 68,
   "metadata": {},
   "outputs": [],
   "source": [
    "def tokenizer_better(text):\n",
    "    # tokenize the text by replacing punctuation and numbers with spaces and lowercase all words\n",
    "\n",
    "    punc_list = string.punctuation + '0123456789'\n",
    "    t = str.maketrans(dict.fromkeys(punc_list, \" \"))\n",
    "    text = text.lower().translate(t)\n",
    "    tokens = word_tokenize(text)\n",
    "    return tokens"
   ]
  },
  {
   "cell_type": "markdown",
   "metadata": {},
   "source": [
    "Testing the function on the previous text example"
   ]
  },
  {
   "cell_type": "code",
   "execution_count": 69,
   "metadata": {},
   "outputs": [
    {
     "data": {
      "text/plain": [
       "['this', 'should', 'be', 'tokenized', 'sentence', 'has', 'stars']"
      ]
     },
     "execution_count": 69,
     "metadata": {},
     "output_type": "execute_result"
    }
   ],
   "source": [
    "tokenizer_better('This should be tokenized. 02/02/2018 sentence has stars**')"
   ]
  },
  {
   "cell_type": "markdown",
   "metadata": {},
   "source": [
    "### Build a simple vectorizer\n",
    "Now that we have a way to convert free-text into tokens, we need a way to create features from these tokens."
   ]
  },
  {
   "cell_type": "code",
   "execution_count": 70,
   "metadata": {},
   "outputs": [],
   "source": [
    "sample_text = ['Data science is about the data', 'The science is amazing', 'Predictive modeling is part of data science']"
   ]
  },
  {
   "cell_type": "code",
   "execution_count": 76,
   "metadata": {},
   "outputs": [
    {
     "name": "stderr",
     "output_type": "stream",
     "text": [
      "c:\\Users\\T\\AppData\\Local\\Programs\\Python\\Python311\\Lib\\site-packages\\sklearn\\feature_extraction\\text.py:525: UserWarning: The parameter 'token_pattern' will not be used since 'tokenizer' is not None'\n",
      "  warnings.warn(\n"
     ]
    }
   ],
   "source": [
    "from sklearn.feature_extraction.text import CountVectorizer\n",
    "vect = CountVectorizer(tokenizer = tokenizer_better)\n",
    "vect.fit(sample_text)\n",
    "\n",
    "# matrix is stored as a sparse matrix (since you have a lot of zeros)\n",
    "X = vect.transform(sample_text)"
   ]
  },
  {
   "cell_type": "code",
   "execution_count": 79,
   "metadata": {},
   "outputs": [
    {
     "data": {
      "text/plain": [
       "<3x10 sparse matrix of type '<class 'numpy.int64'>'\n",
       "\twith 16 stored elements in Compressed Sparse Row format>"
      ]
     },
     "execution_count": 79,
     "metadata": {},
     "output_type": "execute_result"
    }
   ],
   "source": [
    "X"
   ]
  },
  {
   "cell_type": "code",
   "execution_count": 80,
   "metadata": {},
   "outputs": [
    {
     "data": {
      "text/plain": [
       "array([[1, 0, 2, 1, 0, 0, 0, 0, 1, 1],\n",
       "       [0, 1, 0, 1, 0, 0, 0, 0, 1, 1],\n",
       "       [0, 0, 1, 1, 1, 1, 1, 1, 1, 0]], dtype=int64)"
      ]
     },
     "execution_count": 80,
     "metadata": {},
     "output_type": "execute_result"
    }
   ],
   "source": [
    "# we can visualize this small example if we convert it to an array\n",
    "X.toarray()"
   ]
  },
  {
   "cell_type": "code",
   "execution_count": 86,
   "metadata": {},
   "outputs": [
    {
     "name": "stdout",
     "output_type": "stream",
     "text": [
      "['about' 'amazing' 'data' 'is' 'modeling' 'of' 'part' 'predictive'\n",
      " 'science' 'the']\n"
     ]
    }
   ],
   "source": [
    "# Retrieve the vocabulary (feature names) from the CountVectorizer instance\n",
    "feature_names = vect.get_feature_names_out()\n",
    "print(feature_names)"
   ]
  },
  {
   "cell_type": "markdown",
   "metadata": {},
   "source": [
    "## build a vectorizer on the clinical notes"
   ]
  },
  {
   "cell_type": "code",
   "execution_count": 87,
   "metadata": {},
   "outputs": [
    {
     "name": "stderr",
     "output_type": "stream",
     "text": [
      "c:\\Users\\T\\AppData\\Local\\Programs\\Python\\Python311\\Lib\\site-packages\\sklearn\\feature_extraction\\text.py:525: UserWarning: The parameter 'token_pattern' will not be used since 'tokenizer' is not None'\n",
      "  warnings.warn(\n"
     ]
    },
    {
     "data": {
      "text/html": [
       "<style>#sk-container-id-1 {color: black;}#sk-container-id-1 pre{padding: 0;}#sk-container-id-1 div.sk-toggleable {background-color: white;}#sk-container-id-1 label.sk-toggleable__label {cursor: pointer;display: block;width: 100%;margin-bottom: 0;padding: 0.3em;box-sizing: border-box;text-align: center;}#sk-container-id-1 label.sk-toggleable__label-arrow:before {content: \"▸\";float: left;margin-right: 0.25em;color: #696969;}#sk-container-id-1 label.sk-toggleable__label-arrow:hover:before {color: black;}#sk-container-id-1 div.sk-estimator:hover label.sk-toggleable__label-arrow:before {color: black;}#sk-container-id-1 div.sk-toggleable__content {max-height: 0;max-width: 0;overflow: hidden;text-align: left;background-color: #f0f8ff;}#sk-container-id-1 div.sk-toggleable__content pre {margin: 0.2em;color: black;border-radius: 0.25em;background-color: #f0f8ff;}#sk-container-id-1 input.sk-toggleable__control:checked~div.sk-toggleable__content {max-height: 200px;max-width: 100%;overflow: auto;}#sk-container-id-1 input.sk-toggleable__control:checked~label.sk-toggleable__label-arrow:before {content: \"▾\";}#sk-container-id-1 div.sk-estimator input.sk-toggleable__control:checked~label.sk-toggleable__label {background-color: #d4ebff;}#sk-container-id-1 div.sk-label input.sk-toggleable__control:checked~label.sk-toggleable__label {background-color: #d4ebff;}#sk-container-id-1 input.sk-hidden--visually {border: 0;clip: rect(1px 1px 1px 1px);clip: rect(1px, 1px, 1px, 1px);height: 1px;margin: -1px;overflow: hidden;padding: 0;position: absolute;width: 1px;}#sk-container-id-1 div.sk-estimator {font-family: monospace;background-color: #f0f8ff;border: 1px dotted black;border-radius: 0.25em;box-sizing: border-box;margin-bottom: 0.5em;}#sk-container-id-1 div.sk-estimator:hover {background-color: #d4ebff;}#sk-container-id-1 div.sk-parallel-item::after {content: \"\";width: 100%;border-bottom: 1px solid gray;flex-grow: 1;}#sk-container-id-1 div.sk-label:hover label.sk-toggleable__label {background-color: #d4ebff;}#sk-container-id-1 div.sk-serial::before {content: \"\";position: absolute;border-left: 1px solid gray;box-sizing: border-box;top: 0;bottom: 0;left: 50%;z-index: 0;}#sk-container-id-1 div.sk-serial {display: flex;flex-direction: column;align-items: center;background-color: white;padding-right: 0.2em;padding-left: 0.2em;position: relative;}#sk-container-id-1 div.sk-item {position: relative;z-index: 1;}#sk-container-id-1 div.sk-parallel {display: flex;align-items: stretch;justify-content: center;background-color: white;position: relative;}#sk-container-id-1 div.sk-item::before, #sk-container-id-1 div.sk-parallel-item::before {content: \"\";position: absolute;border-left: 1px solid gray;box-sizing: border-box;top: 0;bottom: 0;left: 50%;z-index: -1;}#sk-container-id-1 div.sk-parallel-item {display: flex;flex-direction: column;z-index: 1;position: relative;background-color: white;}#sk-container-id-1 div.sk-parallel-item:first-child::after {align-self: flex-end;width: 50%;}#sk-container-id-1 div.sk-parallel-item:last-child::after {align-self: flex-start;width: 50%;}#sk-container-id-1 div.sk-parallel-item:only-child::after {width: 0;}#sk-container-id-1 div.sk-dashed-wrapped {border: 1px dashed gray;margin: 0 0.4em 0.5em 0.4em;box-sizing: border-box;padding-bottom: 0.4em;background-color: white;}#sk-container-id-1 div.sk-label label {font-family: monospace;font-weight: bold;display: inline-block;line-height: 1.2em;}#sk-container-id-1 div.sk-label-container {text-align: center;}#sk-container-id-1 div.sk-container {/* jupyter's `normalize.less` sets `[hidden] { display: none; }` but bootstrap.min.css set `[hidden] { display: none !important; }` so we also need the `!important` here to be able to override the default hidden behavior on the sphinx rendered scikit-learn.org. See: https://github.com/scikit-learn/scikit-learn/issues/21755 */display: inline-block !important;position: relative;}#sk-container-id-1 div.sk-text-repr-fallback {display: none;}</style><div id=\"sk-container-id-1\" class=\"sk-top-container\"><div class=\"sk-text-repr-fallback\"><pre>CountVectorizer(max_features=3000,\n",
       "                tokenizer=&lt;function tokenizer_better at 0x000001FEB844ADE0&gt;)</pre><b>In a Jupyter environment, please rerun this cell to show the HTML representation or trust the notebook. <br />On GitHub, the HTML representation is unable to render, please try loading this page with nbviewer.org.</b></div><div class=\"sk-container\" hidden><div class=\"sk-item\"><div class=\"sk-estimator sk-toggleable\"><input class=\"sk-toggleable__control sk-hidden--visually\" id=\"sk-estimator-id-1\" type=\"checkbox\" checked><label for=\"sk-estimator-id-1\" class=\"sk-toggleable__label sk-toggleable__label-arrow\">CountVectorizer</label><div class=\"sk-toggleable__content\"><pre>CountVectorizer(max_features=3000,\n",
       "                tokenizer=&lt;function tokenizer_better at 0x000001FEB844ADE0&gt;)</pre></div></div></div></div></div>"
      ],
      "text/plain": [
       "CountVectorizer(max_features=3000,\n",
       "                tokenizer=<function tokenizer_better at 0x000001FEB844ADE0>)"
      ]
     },
     "execution_count": 87,
     "metadata": {},
     "output_type": "execute_result"
    }
   ],
   "source": [
    "# from sklearn.feature_extraction.text import CountVectorizer\n",
    "vect = CountVectorizer(max_features = 3000, tokenizer = tokenizer_better)\n",
    "\n",
    "# this could take a while\n",
    "vect.fit(df_train.TEXT.values)"
   ]
  },
  {
   "cell_type": "markdown",
   "metadata": {},
   "source": [
    "# Zipf's law"
   ]
  },
  {
   "cell_type": "code",
   "execution_count": null,
   "metadata": {},
   "outputs": [],
   "source": [
    "# Transform text data for negative class samples\n",
    "neg_doc_matrix = vect.transform(df_train[df_train.OUTPUT_LABEL == 0].TEXT)\n",
    "\n",
    "# Transform text data for positive class samples\n",
    "pos_doc_matrix = vect.transform(df_train[df_train.OUTPUT_LABEL == 1].TEXT)\n",
    "\n",
    "# Compute term frequency for negative class documents\n",
    "neg_tf = np.sum(neg_doc_matrix, axis=0)\n",
    "\n",
    "# Compute term frequency for positive class documents\n",
    "pos_tf = np.sum(pos_doc_matrix, axis=0)\n",
    "\n",
    "# Convert term frequency matrices to 1D arrays\n",
    "neg = np.squeeze(np.asarray(neg_tf))\n",
    "pos = np.squeeze(np.asarray(pos_tf))\n",
    "\n",
    "# Create a DataFrame to store term frequency information\n",
    "term_freq_df = pd.DataFrame([neg, pos], columns=vect.get_feature_names_out()).transpose()\n",
    "term_freq_df.columns = ['negative', 'positive']\n",
    "\n",
    "# Add a 'total' column representing the sum of negative and positive counts\n",
    "term_freq_df['total'] = term_freq_df['negative'] + term_freq_df['positive']\n",
    "\n",
    "# Sort the DataFrame by total counts in descending order and retrieve the top 10 terms\n",
    "top_terms = term_freq_df.sort_values(by='total', ascending=False).iloc[:10]\n",
    "\n",
    "# # Create a bar plot for the top terms' counts\n",
    "# ax = top_terms['total'].plot(kind='bar', figsize=(10, 6), width=0.8, fontsize=14, rot=90, color='b')\n",
    "# ax.title.set_size(18)\n",
    "# plt.ylabel('count')\n",
    "# plt.show()\n",
    "\n",
    "# # Create a Series from the total term frequencies and sort it in descending order\n",
    "# d = pd.Series(term_freq_df.total, index=term_freq_df.index).sort_values(ascending=False)\n",
    "\n",
    "# # Create a bar plot for the top 50-100 terms' counts\n",
    "# ax = d[50:100].plot(kind='bar', figsize=(10, 6), width=0.8, fontsize=14, rot=90, color='b')\n",
    "# ax.title.set_size(18)\n",
    "# plt.ylabel('count')\n",
    "# plt.show()"
   ]
  },
  {
   "cell_type": "code",
   "execution_count": 89,
   "metadata": {},
   "outputs": [
    {
     "data": {
      "image/png": "[encoded data removed]",
      "text/plain": [
       "<Figure size 1200x800 with 1 Axes>"
      ]
     },
     "metadata": {},
     "output_type": "display_data"
    },
    {
     "data": {
      "image/png": "[encoded data removed]",
      "text/plain": [
       "<Figure size 1200x800 with 1 Axes>"
      ]
     },
     "metadata": {},
     "output_type": "display_data"
    }
   ],
   "source": [
    "# Set a more visually pleasing style for the plots\n",
    "sns.set(style=\"whitegrid\")\n",
    "plt.figure(figsize=(12, 8))  # Set a larger figure size\n",
    "\n",
    "# Create a bar plot for the top terms' counts\n",
    "ax = top_terms['total'].plot(kind='bar', color='dodgerblue', width=0.8)\n",
    "ax.set_title('Top Terms Frequency', fontsize=20)\n",
    "ax.set_xlabel('Terms', fontsize=16)\n",
    "ax.set_ylabel('Count', fontsize=16)\n",
    "ax.tick_params(axis='x', labelrotation=45)\n",
    "plt.xticks(fontsize=12)\n",
    "plt.yticks(fontsize=12)\n",
    "plt.tight_layout()\n",
    "plt.show()\n",
    "\n",
    "# Set a larger figure size again for the second plot\n",
    "plt.figure(figsize=(12, 8))\n",
    "\n",
    "# Create a bar plot for the top 50-100 terms' counts\n",
    "ax = d[50:100].plot(kind='bar', color='dodgerblue', width=0.8)\n",
    "ax.set_title('Top 50-100 Terms Frequency', fontsize=20)\n",
    "ax.set_xlabel('Terms', fontsize=16)\n",
    "ax.set_ylabel('Count', fontsize=16)\n",
    "ax.tick_params(axis='x', labelrotation=45)\n",
    "plt.xticks(fontsize=12)\n",
    "plt.yticks(fontsize=12)\n",
    "plt.tight_layout()\n",
    "plt.show()"
   ]
  },
  {
   "cell_type": "markdown",
   "metadata": {},
   "source": [
    "# Adding stopwords"
   ]
  },
  {
   "cell_type": "code",
   "execution_count": 96,
   "metadata": {},
   "outputs": [],
   "source": [
    "from nltk.corpus import stopwords\n",
    "\n",
    "# Load the English stop words list\n",
    "stop_words = stopwords.words('english')"
   ]
  },
  {
   "cell_type": "code",
   "execution_count": 97,
   "metadata": {},
   "outputs": [
    {
     "name": "stdout",
     "output_type": "stream",
     "text": [
      "['i', 'me', 'my', 'myself', 'we', 'our', 'ours', 'ourselves', 'you', \"you're\", \"you've\", \"you'll\", \"you'd\", 'your', 'yours', 'yourself', 'yourselves', 'he', 'him', 'his', 'himself', 'she', \"she's\", 'her', 'hers', 'herself', 'it', \"it's\", 'its', 'itself', 'they', 'them', 'their', 'theirs', 'themselves', 'what', 'which', 'who', 'whom', 'this', 'that', \"that'll\", 'these', 'those', 'am', 'is', 'are', 'was', 'were', 'be', 'been', 'being', 'have', 'has', 'had', 'having', 'do', 'does', 'did', 'doing', 'a', 'an', 'the', 'and', 'but', 'if', 'or', 'because', 'as', 'until', 'while', 'of', 'at', 'by', 'for', 'with', 'about', 'against', 'between', 'into', 'through', 'during', 'before', 'after', 'above', 'below', 'to', 'from', 'up', 'down', 'in', 'out', 'on', 'off', 'over', 'under', 'again', 'further', 'then', 'once', 'here', 'there', 'when', 'where', 'why', 'how', 'all', 'any', 'both', 'each', 'few', 'more', 'most', 'other', 'some', 'such', 'no', 'nor', 'not', 'only', 'own', 'same', 'so', 'than', 'too', 'very', 's', 't', 'can', 'will', 'just', 'don', \"don't\", 'should', \"should've\", 'now', 'd', 'll', 'm', 'o', 're', 've', 'y', 'ain', 'aren', \"aren't\", 'couldn', \"couldn't\", 'didn', \"didn't\", 'doesn', \"doesn't\", 'hadn', \"hadn't\", 'hasn', \"hasn't\", 'haven', \"haven't\", 'isn', \"isn't\", 'ma', 'mightn', \"mightn't\", 'mustn', \"mustn't\", 'needn', \"needn't\", 'shan', \"shan't\", 'shouldn', \"shouldn't\", 'wasn', \"wasn't\", 'weren', \"weren't\", 'won', \"won't\", 'wouldn', \"wouldn't\"]\n"
     ]
    }
   ],
   "source": [
    "print(stop_words)"
   ]
  },
  {
   "cell_type": "markdown",
   "metadata": {},
   "source": [
    "## Using vectorizer while removing the stopwords from text"
   ]
  },
  {
   "cell_type": "code",
   "execution_count": 102,
   "metadata": {},
   "outputs": [
    {
     "data": {
      "text/html": [
       "<style>#sk-container-id-3 {color: black;}#sk-container-id-3 pre{padding: 0;}#sk-container-id-3 div.sk-toggleable {background-color: white;}#sk-container-id-3 label.sk-toggleable__label {cursor: pointer;display: block;width: 100%;margin-bottom: 0;padding: 0.3em;box-sizing: border-box;text-align: center;}#sk-container-id-3 label.sk-toggleable__label-arrow:before {content: \"▸\";float: left;margin-right: 0.25em;color: #696969;}#sk-container-id-3 label.sk-toggleable__label-arrow:hover:before {color: black;}#sk-container-id-3 div.sk-estimator:hover label.sk-toggleable__label-arrow:before {color: black;}#sk-container-id-3 div.sk-toggleable__content {max-height: 0;max-width: 0;overflow: hidden;text-align: left;background-color: #f0f8ff;}#sk-container-id-3 div.sk-toggleable__content pre {margin: 0.2em;color: black;border-radius: 0.25em;background-color: #f0f8ff;}#sk-container-id-3 input.sk-toggleable__control:checked~div.sk-toggleable__content {max-height: 200px;max-width: 100%;overflow: auto;}#sk-container-id-3 input.sk-toggleable__control:checked~label.sk-toggleable__label-arrow:before {content: \"▾\";}#sk-container-id-3 div.sk-estimator input.sk-toggleable__control:checked~label.sk-toggleable__label {background-color: #d4ebff;}#sk-container-id-3 div.sk-label input.sk-toggleable__control:checked~label.sk-toggleable__label {background-color: #d4ebff;}#sk-container-id-3 input.sk-hidden--visually {border: 0;clip: rect(1px 1px 1px 1px);clip: rect(1px, 1px, 1px, 1px);height: 1px;margin: -1px;overflow: hidden;padding: 0;position: absolute;width: 1px;}#sk-container-id-3 div.sk-estimator {font-family: monospace;background-color: #f0f8ff;border: 1px dotted black;border-radius: 0.25em;box-sizing: border-box;margin-bottom: 0.5em;}#sk-container-id-3 div.sk-estimator:hover {background-color: #d4ebff;}#sk-container-id-3 div.sk-parallel-item::after {content: \"\";width: 100%;border-bottom: 1px solid gray;flex-grow: 1;}#sk-container-id-3 div.sk-label:hover label.sk-toggleable__label {background-color: #d4ebff;}#sk-container-id-3 div.sk-serial::before {content: \"\";position: absolute;border-left: 1px solid gray;box-sizing: border-box;top: 0;bottom: 0;left: 50%;z-index: 0;}#sk-container-id-3 div.sk-serial {display: flex;flex-direction: column;align-items: center;background-color: white;padding-right: 0.2em;padding-left: 0.2em;position: relative;}#sk-container-id-3 div.sk-item {position: relative;z-index: 1;}#sk-container-id-3 div.sk-parallel {display: flex;align-items: stretch;justify-content: center;background-color: white;position: relative;}#sk-container-id-3 div.sk-item::before, #sk-container-id-3 div.sk-parallel-item::before {content: \"\";position: absolute;border-left: 1px solid gray;box-sizing: border-box;top: 0;bottom: 0;left: 50%;z-index: -1;}#sk-container-id-3 div.sk-parallel-item {display: flex;flex-direction: column;z-index: 1;position: relative;background-color: white;}#sk-container-id-3 div.sk-parallel-item:first-child::after {align-self: flex-end;width: 50%;}#sk-container-id-3 div.sk-parallel-item:last-child::after {align-self: flex-start;width: 50%;}#sk-container-id-3 div.sk-parallel-item:only-child::after {width: 0;}#sk-container-id-3 div.sk-dashed-wrapped {border: 1px dashed gray;margin: 0 0.4em 0.5em 0.4em;box-sizing: border-box;padding-bottom: 0.4em;background-color: white;}#sk-container-id-3 div.sk-label label {font-family: monospace;font-weight: bold;display: inline-block;line-height: 1.2em;}#sk-container-id-3 div.sk-label-container {text-align: center;}#sk-container-id-3 div.sk-container {/* jupyter's `normalize.less` sets `[hidden] { display: none; }` but bootstrap.min.css set `[hidden] { display: none !important; }` so we also need the `!important` here to be able to override the default hidden behavior on the sphinx rendered scikit-learn.org. See: https://github.com/scikit-learn/scikit-learn/issues/21755 */display: inline-block !important;position: relative;}#sk-container-id-3 div.sk-text-repr-fallback {display: none;}</style><div id=\"sk-container-id-3\" class=\"sk-top-container\"><div class=\"sk-text-repr-fallback\"><pre>CountVectorizer(max_features=3000,\n",
       "                stop_words=[&#x27;i&#x27;, &#x27;me&#x27;, &#x27;my&#x27;, &#x27;myself&#x27;, &#x27;we&#x27;, &#x27;our&#x27;, &#x27;ours&#x27;,\n",
       "                            &#x27;ourselves&#x27;, &#x27;you&#x27;, &quot;you&#x27;re&quot;, &quot;you&#x27;ve&quot;, &quot;you&#x27;ll&quot;,\n",
       "                            &quot;you&#x27;d&quot;, &#x27;your&#x27;, &#x27;yours&#x27;, &#x27;yourself&#x27;, &#x27;yourselves&#x27;,\n",
       "                            &#x27;he&#x27;, &#x27;him&#x27;, &#x27;his&#x27;, &#x27;himself&#x27;, &#x27;she&#x27;, &quot;she&#x27;s&quot;,\n",
       "                            &#x27;her&#x27;, &#x27;hers&#x27;, &#x27;herself&#x27;, &#x27;it&#x27;, &quot;it&#x27;s&quot;, &#x27;its&#x27;,\n",
       "                            &#x27;itself&#x27;, ...],\n",
       "                tokenizer=&lt;function tokenizer_better at 0x000001FEB844ADE0&gt;)</pre><b>In a Jupyter environment, please rerun this cell to show the HTML representation or trust the notebook. <br />On GitHub, the HTML representation is unable to render, please try loading this page with nbviewer.org.</b></div><div class=\"sk-container\" hidden><div class=\"sk-item\"><div class=\"sk-estimator sk-toggleable\"><input class=\"sk-toggleable__control sk-hidden--visually\" id=\"sk-estimator-id-3\" type=\"checkbox\" checked><label for=\"sk-estimator-id-3\" class=\"sk-toggleable__label sk-toggleable__label-arrow\">CountVectorizer</label><div class=\"sk-toggleable__content\"><pre>CountVectorizer(max_features=3000,\n",
       "                stop_words=[&#x27;i&#x27;, &#x27;me&#x27;, &#x27;my&#x27;, &#x27;myself&#x27;, &#x27;we&#x27;, &#x27;our&#x27;, &#x27;ours&#x27;,\n",
       "                            &#x27;ourselves&#x27;, &#x27;you&#x27;, &quot;you&#x27;re&quot;, &quot;you&#x27;ve&quot;, &quot;you&#x27;ll&quot;,\n",
       "                            &quot;you&#x27;d&quot;, &#x27;your&#x27;, &#x27;yours&#x27;, &#x27;yourself&#x27;, &#x27;yourselves&#x27;,\n",
       "                            &#x27;he&#x27;, &#x27;him&#x27;, &#x27;his&#x27;, &#x27;himself&#x27;, &#x27;she&#x27;, &quot;she&#x27;s&quot;,\n",
       "                            &#x27;her&#x27;, &#x27;hers&#x27;, &#x27;herself&#x27;, &#x27;it&#x27;, &quot;it&#x27;s&quot;, &#x27;its&#x27;,\n",
       "                            &#x27;itself&#x27;, ...],\n",
       "                tokenizer=&lt;function tokenizer_better at 0x000001FEB844ADE0&gt;)</pre></div></div></div></div></div>"
      ],
      "text/plain": [
       "CountVectorizer(max_features=3000,\n",
       "                stop_words=['i', 'me', 'my', 'myself', 'we', 'our', 'ours',\n",
       "                            'ourselves', 'you', \"you're\", \"you've\", \"you'll\",\n",
       "                            \"you'd\", 'your', 'yours', 'yourself', 'yourselves',\n",
       "                            'he', 'him', 'his', 'himself', 'she', \"she's\",\n",
       "                            'her', 'hers', 'herself', 'it', \"it's\", 'its',\n",
       "                            'itself', ...],\n",
       "                tokenizer=<function tokenizer_better at 0x000001FEB844ADE0>)"
      ]
     },
     "execution_count": 102,
     "metadata": {},
     "output_type": "execute_result"
    }
   ],
   "source": [
    "vect = CountVectorizer(max_features = 3000,\n",
    "                       tokenizer = tokenizer_better,\n",
    "                       stop_words = stop_words\n",
    "                       )\n",
    "# this could take a while\n",
    "vect.fit(df_train.TEXT.values)"
   ]
  },
  {
   "cell_type": "markdown",
   "metadata": {},
   "source": [
    "Transform notes into the vector format"
   ]
  },
  {
   "cell_type": "code",
   "execution_count": 103,
   "metadata": {},
   "outputs": [],
   "source": [
    "X_train_tf = vect.transform(df_train.TEXT.values)\n",
    "X_valid_tf = vect.transform(df_valid.TEXT.values)"
   ]
  },
  {
   "cell_type": "markdown",
   "metadata": {},
   "source": [
    "Get labels"
   ]
  },
  {
   "cell_type": "code",
   "execution_count": 106,
   "metadata": {},
   "outputs": [],
   "source": [
    "y_train = df_train.OUTPUT_LABEL\n",
    "y_valid = df_valid.OUTPUT_LABEL"
   ]
  },
  {
   "cell_type": "code",
   "execution_count": null,
   "metadata": {},
   "outputs": [],
   "source": []
  }
 ],
 "metadata": {
  "kernelspec": {
   "display_name": "Python 3",
   "language": "python",
   "name": "python3"
  },
  "language_info": {
   "codemirror_mode": {
    "name": "ipython",
    "version": 3
   },
   "file_extension": ".py",
   "mimetype": "text/x-python",
   "name": "python",
   "nbconvert_exporter": "python",
   "pygments_lexer": "ipython3",
   "version": "3.11.4"
  },
  "orig_nbformat": 4
 },
 "nbformat": 4,
 "nbformat_minor": 2
}
